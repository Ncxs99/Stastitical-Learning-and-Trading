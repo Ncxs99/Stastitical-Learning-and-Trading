{
 "cells": [
  {
   "cell_type": "markdown",
   "id": "48f23797",
   "metadata": {},
   "source": [
    "# PORTFOLIO ANALYSIS IN PYTHON "
   ]
  },
  {
   "cell_type": "markdown",
   "id": "8c86ae83",
   "metadata": {},
   "source": [
    "      In this tutorial, we we'll use the power of python to understand how to emprically manage a portfolio. But before jumping into our tutorial, let's understand what is a portfolio first "
   ]
  },
  {
   "cell_type": "markdown",
   "id": "2e565bfb",
   "metadata": {},
   "source": [
    "*A portfolio is a collection of financial assets in order to have a better risk-return reward. Indeed, rather than investing only in one financial asset & being subject to many fluctuations, many investors prefers investing in a **collection** of assets. Thus, they can intuitively reduce the risk from exposure to any company. Such a **collection** is called a **portfolio**. A **portfolio** is hence, a **collection** of assets whose the aim is to diversify or hedge the risk that araises from the exposure to any individual company & to create many complexes strategies based on the relations between assets*\n",
    "*"
   ]
  },
  {
   "cell_type": "markdown",
   "id": "7606c8a9",
   "metadata": {},
   "source": [
    "> let's import the important libraries"
   ]
  },
  {
   "cell_type": "code",
   "execution_count": 1,
   "id": "5dcaa565",
   "metadata": {},
   "outputs": [],
   "source": [
    "import pandas as pd\n",
    "import numpy as np\n",
    "import matplotlib.pyplot as plt \n",
    "import statsmodels.api as sm "
   ]
  },
  {
   "cell_type": "code",
   "execution_count": 2,
   "id": "052bdb24",
   "metadata": {},
   "outputs": [
    {
     "data": {
      "text/html": [
       "<div>\n",
       "<style scoped>\n",
       "    .dataframe tbody tr th:only-of-type {\n",
       "        vertical-align: middle;\n",
       "    }\n",
       "\n",
       "    .dataframe tbody tr th {\n",
       "        vertical-align: top;\n",
       "    }\n",
       "\n",
       "    .dataframe thead th {\n",
       "        text-align: right;\n",
       "    }\n",
       "</style>\n",
       "<table border=\"1\" class=\"dataframe\">\n",
       "  <thead>\n",
       "    <tr style=\"text-align: right;\">\n",
       "      <th></th>\n",
       "      <th>date</th>\n",
       "      <th>GE</th>\n",
       "      <th>JPM</th>\n",
       "      <th>MSFT</th>\n",
       "      <th>PG</th>\n",
       "    </tr>\n",
       "  </thead>\n",
       "  <tbody>\n",
       "    <tr>\n",
       "      <th>0</th>\n",
       "      <td>2015-01-02</td>\n",
       "      <td>25.06</td>\n",
       "      <td>62.49</td>\n",
       "      <td>46.760</td>\n",
       "      <td>90.44</td>\n",
       "    </tr>\n",
       "    <tr>\n",
       "      <th>1</th>\n",
       "      <td>2015-01-05</td>\n",
       "      <td>24.60</td>\n",
       "      <td>60.55</td>\n",
       "      <td>46.325</td>\n",
       "      <td>90.01</td>\n",
       "    </tr>\n",
       "    <tr>\n",
       "      <th>2</th>\n",
       "      <td>2015-01-06</td>\n",
       "      <td>24.07</td>\n",
       "      <td>58.98</td>\n",
       "      <td>45.650</td>\n",
       "      <td>89.60</td>\n",
       "    </tr>\n",
       "    <tr>\n",
       "      <th>3</th>\n",
       "      <td>2015-01-07</td>\n",
       "      <td>24.08</td>\n",
       "      <td>59.07</td>\n",
       "      <td>46.230</td>\n",
       "      <td>90.07</td>\n",
       "    </tr>\n",
       "    <tr>\n",
       "      <th>4</th>\n",
       "      <td>2015-01-08</td>\n",
       "      <td>24.37</td>\n",
       "      <td>60.39</td>\n",
       "      <td>47.590</td>\n",
       "      <td>91.10</td>\n",
       "    </tr>\n",
       "  </tbody>\n",
       "</table>\n",
       "</div>"
      ],
      "text/plain": [
       "         date     GE    JPM    MSFT     PG\n",
       "0  2015-01-02  25.06  62.49  46.760  90.44\n",
       "1  2015-01-05  24.60  60.55  46.325  90.01\n",
       "2  2015-01-06  24.07  58.98  45.650  89.60\n",
       "3  2015-01-07  24.08  59.07  46.230  90.07\n",
       "4  2015-01-08  24.37  60.39  47.590  91.10"
      ]
     },
     "execution_count": 2,
     "metadata": {},
     "output_type": "execute_result"
    }
   ],
   "source": [
    "portfolio = pd.read_csv('https://assets.datacamp.com/production/repositories/4745/datasets/da4863e3ea40482a56929e595f1a7c6e1fdaf614/small_portfolio.csv')\n",
    "portfolio.head()"
   ]
  },
  {
   "cell_type": "code",
   "execution_count": 3,
   "id": "c1d23149",
   "metadata": {},
   "outputs": [],
   "source": [
    "portfolio.set_index('date',inplace=True)"
   ]
  },
  {
   "cell_type": "code",
   "execution_count": 4,
   "id": "dd5206e3",
   "metadata": {},
   "outputs": [],
   "source": [
    "portfolio.index = pd.to_datetime(portfolio.index)"
   ]
  },
  {
   "cell_type": "code",
   "execution_count": 5,
   "id": "78e03f32",
   "metadata": {},
   "outputs": [
    {
     "data": {
      "text/html": [
       "<div>\n",
       "<style scoped>\n",
       "    .dataframe tbody tr th:only-of-type {\n",
       "        vertical-align: middle;\n",
       "    }\n",
       "\n",
       "    .dataframe tbody tr th {\n",
       "        vertical-align: top;\n",
       "    }\n",
       "\n",
       "    .dataframe thead th {\n",
       "        text-align: right;\n",
       "    }\n",
       "</style>\n",
       "<table border=\"1\" class=\"dataframe\">\n",
       "  <thead>\n",
       "    <tr style=\"text-align: right;\">\n",
       "      <th></th>\n",
       "      <th>GE</th>\n",
       "      <th>JPM</th>\n",
       "      <th>MSFT</th>\n",
       "      <th>PG</th>\n",
       "    </tr>\n",
       "    <tr>\n",
       "      <th>date</th>\n",
       "      <th></th>\n",
       "      <th></th>\n",
       "      <th></th>\n",
       "      <th></th>\n",
       "    </tr>\n",
       "  </thead>\n",
       "  <tbody>\n",
       "    <tr>\n",
       "      <th>2015-01-02</th>\n",
       "      <td>25.06</td>\n",
       "      <td>62.49</td>\n",
       "      <td>46.760</td>\n",
       "      <td>90.44</td>\n",
       "    </tr>\n",
       "    <tr>\n",
       "      <th>2015-01-05</th>\n",
       "      <td>24.60</td>\n",
       "      <td>60.55</td>\n",
       "      <td>46.325</td>\n",
       "      <td>90.01</td>\n",
       "    </tr>\n",
       "    <tr>\n",
       "      <th>2015-01-06</th>\n",
       "      <td>24.07</td>\n",
       "      <td>58.98</td>\n",
       "      <td>45.650</td>\n",
       "      <td>89.60</td>\n",
       "    </tr>\n",
       "    <tr>\n",
       "      <th>2015-01-07</th>\n",
       "      <td>24.08</td>\n",
       "      <td>59.07</td>\n",
       "      <td>46.230</td>\n",
       "      <td>90.07</td>\n",
       "    </tr>\n",
       "    <tr>\n",
       "      <th>2015-01-08</th>\n",
       "      <td>24.37</td>\n",
       "      <td>60.39</td>\n",
       "      <td>47.590</td>\n",
       "      <td>91.10</td>\n",
       "    </tr>\n",
       "  </tbody>\n",
       "</table>\n",
       "</div>"
      ],
      "text/plain": [
       "               GE    JPM    MSFT     PG\n",
       "date                                   \n",
       "2015-01-02  25.06  62.49  46.760  90.44\n",
       "2015-01-05  24.60  60.55  46.325  90.01\n",
       "2015-01-06  24.07  58.98  45.650  89.60\n",
       "2015-01-07  24.08  59.07  46.230  90.07\n",
       "2015-01-08  24.37  60.39  47.590  91.10"
      ]
     },
     "execution_count": 5,
     "metadata": {},
     "output_type": "execute_result"
    }
   ],
   "source": [
    "portfolio.head()"
   ]
  },
  {
   "cell_type": "code",
   "execution_count": 6,
   "id": "c04c7b53",
   "metadata": {},
   "outputs": [
    {
     "data": {
      "text/plain": [
       "GE      30\n",
       "JPM     30\n",
       "MSFT    30\n",
       "PG      30\n",
       "dtype: int64"
      ]
     },
     "execution_count": 6,
     "metadata": {},
     "output_type": "execute_result"
    }
   ],
   "source": [
    "portfolio = portfolio.asfreq('B')\n",
    "portfolio.isnull().sum()"
   ]
  },
  {
   "cell_type": "code",
   "execution_count": 7,
   "id": "3289a65f",
   "metadata": {},
   "outputs": [],
   "source": [
    "portfolio = portfolio.interpolate(method='linear')"
   ]
  },
  {
   "cell_type": "code",
   "execution_count": 8,
   "id": "2ac14f03",
   "metadata": {},
   "outputs": [
    {
     "data": {
      "text/plain": [
       "GE      0\n",
       "JPM     0\n",
       "MSFT    0\n",
       "PG      0\n",
       "dtype: int64"
      ]
     },
     "execution_count": 8,
     "metadata": {},
     "output_type": "execute_result"
    }
   ],
   "source": [
    "portfolio.isnull().sum()"
   ]
  },
  {
   "cell_type": "code",
   "execution_count": 9,
   "id": "ce76538d",
   "metadata": {},
   "outputs": [
    {
     "data": {
      "text/html": [
       "<div>\n",
       "<style scoped>\n",
       "    .dataframe tbody tr th:only-of-type {\n",
       "        vertical-align: middle;\n",
       "    }\n",
       "\n",
       "    .dataframe tbody tr th {\n",
       "        vertical-align: top;\n",
       "    }\n",
       "\n",
       "    .dataframe thead th {\n",
       "        text-align: right;\n",
       "    }\n",
       "</style>\n",
       "<table border=\"1\" class=\"dataframe\">\n",
       "  <thead>\n",
       "    <tr style=\"text-align: right;\">\n",
       "      <th></th>\n",
       "      <th>GE</th>\n",
       "      <th>JPM</th>\n",
       "      <th>MSFT</th>\n",
       "      <th>PG</th>\n",
       "    </tr>\n",
       "    <tr>\n",
       "      <th>date</th>\n",
       "      <th></th>\n",
       "      <th></th>\n",
       "      <th></th>\n",
       "      <th></th>\n",
       "    </tr>\n",
       "  </thead>\n",
       "  <tbody>\n",
       "    <tr>\n",
       "      <th>2015-01-02</th>\n",
       "      <td>25.06</td>\n",
       "      <td>62.49</td>\n",
       "      <td>46.760</td>\n",
       "      <td>90.44</td>\n",
       "    </tr>\n",
       "    <tr>\n",
       "      <th>2015-01-05</th>\n",
       "      <td>24.60</td>\n",
       "      <td>60.55</td>\n",
       "      <td>46.325</td>\n",
       "      <td>90.01</td>\n",
       "    </tr>\n",
       "    <tr>\n",
       "      <th>2015-01-06</th>\n",
       "      <td>24.07</td>\n",
       "      <td>58.98</td>\n",
       "      <td>45.650</td>\n",
       "      <td>89.60</td>\n",
       "    </tr>\n",
       "    <tr>\n",
       "      <th>2015-01-07</th>\n",
       "      <td>24.08</td>\n",
       "      <td>59.07</td>\n",
       "      <td>46.230</td>\n",
       "      <td>90.07</td>\n",
       "    </tr>\n",
       "    <tr>\n",
       "      <th>2015-01-08</th>\n",
       "      <td>24.37</td>\n",
       "      <td>60.39</td>\n",
       "      <td>47.590</td>\n",
       "      <td>91.10</td>\n",
       "    </tr>\n",
       "  </tbody>\n",
       "</table>\n",
       "</div>"
      ],
      "text/plain": [
       "               GE    JPM    MSFT     PG\n",
       "date                                   \n",
       "2015-01-02  25.06  62.49  46.760  90.44\n",
       "2015-01-05  24.60  60.55  46.325  90.01\n",
       "2015-01-06  24.07  58.98  45.650  89.60\n",
       "2015-01-07  24.08  59.07  46.230  90.07\n",
       "2015-01-08  24.37  60.39  47.590  91.10"
      ]
     },
     "execution_count": 9,
     "metadata": {},
     "output_type": "execute_result"
    }
   ],
   "source": [
    "portfolio.head()"
   ]
  },
  {
   "cell_type": "markdown",
   "id": "7c4dca78",
   "metadata": {},
   "source": [
    "> let's plot our data & visualize it "
   ]
  },
  {
   "cell_type": "code",
   "execution_count": 10,
   "id": "98066c72",
   "metadata": {},
   "outputs": [
    {
     "data": {
      "image/png": "[encoded data removed]",
      "text/plain": [
       "<Figure size 1080x720 with 1 Axes>"
      ]
     },
     "metadata": {
      "needs_background": "light"
     },
     "output_type": "display_data"
    }
   ],
   "source": [
    "portfolio.div(portfolio.iloc[0]).mul(100).plot(kind='line',figsize=(15,10))\n",
    "plt.xlabel('Time')\n",
    "plt.ylabel('Stocks evolution of our portfolio')\n",
    "plt.title('Portfolio evolution over time')\n",
    "plt.show()"
   ]
  },
  {
   "cell_type": "markdown",
   "id": "b5815368",
   "metadata": {},
   "source": [
    "> let's define our portfolio weighst"
   ]
  },
  {
   "cell_type": "markdown",
   "id": "c9bf3dfe",
   "metadata": {},
   "source": [
    "*Weights can be defined as the portion of our total money we would want to invest in any of the stocks that are in our portfolio. In python, it can easilly be done with numpy*"
   ]
  },
  {
   "cell_type": "code",
   "execution_count": 11,
   "id": "638bfdd2",
   "metadata": {},
   "outputs": [],
   "source": [
    "numstocks = len(portfolio.columns)\n",
    "weights = np.repeat(1/numstocks,numstocks)"
   ]
  },
  {
   "cell_type": "code",
   "execution_count": 12,
   "id": "27dae36f",
   "metadata": {},
   "outputs": [
    {
     "data": {
      "text/plain": [
       "array([0.25, 0.25, 0.25, 0.25])"
      ]
     },
     "execution_count": 12,
     "metadata": {},
     "output_type": "execute_result"
    }
   ],
   "source": [
    "weights   # we just define our first equiweighted portfolio"
   ]
  },
  {
   "cell_type": "markdown",
   "id": "ad1df411",
   "metadata": {},
   "source": [
    "**Portfolio return**"
   ]
  },
  {
   "cell_type": "code",
   "execution_count": 13,
   "id": "83c84c37",
   "metadata": {},
   "outputs": [
    {
     "data": {
      "text/html": [
       "<div>\n",
       "<style scoped>\n",
       "    .dataframe tbody tr th:only-of-type {\n",
       "        vertical-align: middle;\n",
       "    }\n",
       "\n",
       "    .dataframe tbody tr th {\n",
       "        vertical-align: top;\n",
       "    }\n",
       "\n",
       "    .dataframe thead th {\n",
       "        text-align: right;\n",
       "    }\n",
       "</style>\n",
       "<table border=\"1\" class=\"dataframe\">\n",
       "  <thead>\n",
       "    <tr style=\"text-align: right;\">\n",
       "      <th></th>\n",
       "      <th>GE</th>\n",
       "      <th>JPM</th>\n",
       "      <th>MSFT</th>\n",
       "      <th>PG</th>\n",
       "    </tr>\n",
       "    <tr>\n",
       "      <th>date</th>\n",
       "      <th></th>\n",
       "      <th></th>\n",
       "      <th></th>\n",
       "      <th></th>\n",
       "    </tr>\n",
       "  </thead>\n",
       "  <tbody>\n",
       "    <tr>\n",
       "      <th>2015-01-02</th>\n",
       "      <td>NaN</td>\n",
       "      <td>NaN</td>\n",
       "      <td>NaN</td>\n",
       "      <td>NaN</td>\n",
       "    </tr>\n",
       "    <tr>\n",
       "      <th>2015-01-05</th>\n",
       "      <td>-0.018356</td>\n",
       "      <td>-0.031045</td>\n",
       "      <td>-0.009303</td>\n",
       "      <td>-0.004755</td>\n",
       "    </tr>\n",
       "    <tr>\n",
       "      <th>2015-01-06</th>\n",
       "      <td>-0.021545</td>\n",
       "      <td>-0.025929</td>\n",
       "      <td>-0.014571</td>\n",
       "      <td>-0.004555</td>\n",
       "    </tr>\n",
       "    <tr>\n",
       "      <th>2015-01-07</th>\n",
       "      <td>0.000415</td>\n",
       "      <td>0.001526</td>\n",
       "      <td>0.012705</td>\n",
       "      <td>0.005246</td>\n",
       "    </tr>\n",
       "    <tr>\n",
       "      <th>2015-01-08</th>\n",
       "      <td>0.012043</td>\n",
       "      <td>0.022346</td>\n",
       "      <td>0.029418</td>\n",
       "      <td>0.011436</td>\n",
       "    </tr>\n",
       "  </tbody>\n",
       "</table>\n",
       "</div>"
      ],
      "text/plain": [
       "                  GE       JPM      MSFT        PG\n",
       "date                                              \n",
       "2015-01-02       NaN       NaN       NaN       NaN\n",
       "2015-01-05 -0.018356 -0.031045 -0.009303 -0.004755\n",
       "2015-01-06 -0.021545 -0.025929 -0.014571 -0.004555\n",
       "2015-01-07  0.000415  0.001526  0.012705  0.005246\n",
       "2015-01-08  0.012043  0.022346  0.029418  0.011436"
      ]
     },
     "execution_count": 13,
     "metadata": {},
     "output_type": "execute_result"
    }
   ],
   "source": [
    "portfolio_return = portfolio.pct_change()\n",
    "portfolio_return.head()"
   ]
  },
  {
   "cell_type": "markdown",
   "id": "d712a801",
   "metadata": {},
   "source": [
    "**Portfolio mean return**"
   ]
  },
  {
   "cell_type": "code",
   "execution_count": 14,
   "id": "7273ae29",
   "metadata": {},
   "outputs": [
    {
     "data": {
      "text/plain": [
       "GE     -0.000653\n",
       "JPM     0.000740\n",
       "MSFT    0.000874\n",
       "PG     -0.000140\n",
       "dtype: float64"
      ]
     },
     "execution_count": 14,
     "metadata": {},
     "output_type": "execute_result"
    }
   ],
   "source": [
    "portfolio_mean_return = portfolio_return.mean()\n",
    "portfolio_mean_return"
   ]
  },
  {
   "cell_type": "code",
   "execution_count": 15,
   "id": "3426afb3",
   "metadata": {},
   "outputs": [
    {
     "data": {
      "text/plain": [
       "0.00020522633480341858"
      ]
     },
     "execution_count": 15,
     "metadata": {},
     "output_type": "execute_result"
    }
   ],
   "source": [
    "mean_return = portfolio_mean_return.dot(weights)\n",
    "mean_return "
   ]
  },
  {
   "cell_type": "markdown",
   "id": "d07fee80",
   "metadata": {},
   "source": [
    "**Portfolio cumulative return**"
   ]
  },
  {
   "cell_type": "code",
   "execution_count": 16,
   "id": "e44510ad",
   "metadata": {},
   "outputs": [
    {
     "data": {
      "text/plain": [
       "date\n",
       "2015-01-02         NaN\n",
       "2015-01-05   -0.015865\n",
       "2015-01-06   -0.016650\n",
       "2015-01-07    0.004973\n",
       "2015-01-08    0.018811\n",
       "Freq: B, dtype: float64"
      ]
     },
     "execution_count": 16,
     "metadata": {},
     "output_type": "execute_result"
    }
   ],
   "source": [
    "portfolio_portfolio = portfolio_return.dot(weights)\n",
    "portfolio_portfolio.head()"
   ]
  },
  {
   "cell_type": "code",
   "execution_count": 17,
   "id": "5b618653",
   "metadata": {},
   "outputs": [
    {
     "data": {
      "text/plain": [
       "date\n",
       "2015-01-02         NaN\n",
       "2015-01-05    0.984135\n",
       "2015-01-06    0.967750\n",
       "2015-01-07    0.972562\n",
       "2015-01-08    0.990857\n",
       "                ...   \n",
       "2018-03-21    1.177969\n",
       "2018-03-22    1.143455\n",
       "2018-03-23    1.119636\n",
       "2018-03-26    1.147447\n",
       "2018-03-27    1.146119\n",
       "Freq: B, Length: 843, dtype: float64"
      ]
     },
     "execution_count": 17,
     "metadata": {},
     "output_type": "execute_result"
    }
   ],
   "source": [
    "portfolio_cumulative_return = (1 + portfolio_portfolio).cumprod()\n",
    "portfolio_cumulative_return"
   ]
  },
  {
   "cell_type": "code",
   "execution_count": 18,
   "id": "0f8d857d",
   "metadata": {},
   "outputs": [
    {
     "data": {
      "image/png": "[encoded data removed]",
      "text/plain": [
       "<Figure size 1080x720 with 1 Axes>"
      ]
     },
     "metadata": {},
     "output_type": "display_data"
    }
   ],
   "source": [
    "plt.style.use('ggplot')\n",
    "fig , ax = plt.subplots(figsize=(15,10))\n",
    "ax.plot(portfolio_cumulative_return,color='purple',label='Portfolio cumulative return')\n",
    "ax.set_xlabel('Time')\n",
    "ax.set_ylabel('Cumulative return')\n",
    "ax.set_title('Portfolio cumulative return')\n",
    "ax.grid(False)\n",
    "plt.show()"
   ]
  },
  {
   "cell_type": "markdown",
   "id": "bb8450e9",
   "metadata": {},
   "source": [
    "**Annualized return**"
   ]
  },
  {
   "cell_type": "code",
   "execution_count": 19,
   "id": "82a252d9",
   "metadata": {},
   "outputs": [
    {
     "data": {
      "text/html": [
       "<div>\n",
       "<style scoped>\n",
       "    .dataframe tbody tr th:only-of-type {\n",
       "        vertical-align: middle;\n",
       "    }\n",
       "\n",
       "    .dataframe tbody tr th {\n",
       "        vertical-align: top;\n",
       "    }\n",
       "\n",
       "    .dataframe thead th {\n",
       "        text-align: right;\n",
       "    }\n",
       "</style>\n",
       "<table border=\"1\" class=\"dataframe\">\n",
       "  <thead>\n",
       "    <tr style=\"text-align: right;\">\n",
       "      <th></th>\n",
       "      <th>date</th>\n",
       "      <th>S&amp;P500</th>\n",
       "    </tr>\n",
       "  </thead>\n",
       "  <tbody>\n",
       "    <tr>\n",
       "      <th>0</th>\n",
       "      <td>2015-01-02</td>\n",
       "      <td>2058.199951</td>\n",
       "    </tr>\n",
       "    <tr>\n",
       "      <th>1</th>\n",
       "      <td>2015-01-05</td>\n",
       "      <td>2020.579956</td>\n",
       "    </tr>\n",
       "    <tr>\n",
       "      <th>2</th>\n",
       "      <td>2015-01-06</td>\n",
       "      <td>2002.609985</td>\n",
       "    </tr>\n",
       "    <tr>\n",
       "      <th>3</th>\n",
       "      <td>2015-01-07</td>\n",
       "      <td>2025.900024</td>\n",
       "    </tr>\n",
       "    <tr>\n",
       "      <th>4</th>\n",
       "      <td>2015-01-08</td>\n",
       "      <td>2062.139893</td>\n",
       "    </tr>\n",
       "  </tbody>\n",
       "</table>\n",
       "</div>"
      ],
      "text/plain": [
       "         date       S&P500\n",
       "0  2015-01-02  2058.199951\n",
       "1  2015-01-05  2020.579956\n",
       "2  2015-01-06  2002.609985\n",
       "3  2015-01-07  2025.900024\n",
       "4  2015-01-08  2062.139893"
      ]
     },
     "execution_count": 19,
     "metadata": {},
     "output_type": "execute_result"
    }
   ],
   "source": [
    "sp500 = pd.read_csv('/Users/nacersere/Downloads/sp500.csv')\n",
    "sp500.head()"
   ]
  },
  {
   "cell_type": "code",
   "execution_count": 20,
   "id": "8a92fffe",
   "metadata": {},
   "outputs": [],
   "source": [
    "sp500.set_index('date',inplace=True)"
   ]
  },
  {
   "cell_type": "code",
   "execution_count": 21,
   "id": "275d7820",
   "metadata": {},
   "outputs": [],
   "source": [
    "sp500.index = pd.to_datetime(sp500.index)"
   ]
  },
  {
   "cell_type": "code",
   "execution_count": 22,
   "id": "cccd9d6d",
   "metadata": {},
   "outputs": [],
   "source": [
    "sp500.rename(columns={'S&P500':'Value'},inplace=True)"
   ]
  },
  {
   "cell_type": "code",
   "execution_count": 23,
   "id": "84dad3c7",
   "metadata": {},
   "outputs": [
    {
     "data": {
      "text/html": [
       "<div>\n",
       "<style scoped>\n",
       "    .dataframe tbody tr th:only-of-type {\n",
       "        vertical-align: middle;\n",
       "    }\n",
       "\n",
       "    .dataframe tbody tr th {\n",
       "        vertical-align: top;\n",
       "    }\n",
       "\n",
       "    .dataframe thead th {\n",
       "        text-align: right;\n",
       "    }\n",
       "</style>\n",
       "<table border=\"1\" class=\"dataframe\">\n",
       "  <thead>\n",
       "    <tr style=\"text-align: right;\">\n",
       "      <th></th>\n",
       "      <th>Value</th>\n",
       "    </tr>\n",
       "    <tr>\n",
       "      <th>date</th>\n",
       "      <th></th>\n",
       "    </tr>\n",
       "  </thead>\n",
       "  <tbody>\n",
       "    <tr>\n",
       "      <th>2015-01-02</th>\n",
       "      <td>2058.199951</td>\n",
       "    </tr>\n",
       "    <tr>\n",
       "      <th>2015-01-05</th>\n",
       "      <td>2020.579956</td>\n",
       "    </tr>\n",
       "    <tr>\n",
       "      <th>2015-01-06</th>\n",
       "      <td>2002.609985</td>\n",
       "    </tr>\n",
       "    <tr>\n",
       "      <th>2015-01-07</th>\n",
       "      <td>2025.900024</td>\n",
       "    </tr>\n",
       "    <tr>\n",
       "      <th>2015-01-08</th>\n",
       "      <td>2062.139893</td>\n",
       "    </tr>\n",
       "  </tbody>\n",
       "</table>\n",
       "</div>"
      ],
      "text/plain": [
       "                  Value\n",
       "date                   \n",
       "2015-01-02  2058.199951\n",
       "2015-01-05  2020.579956\n",
       "2015-01-06  2002.609985\n",
       "2015-01-07  2025.900024\n",
       "2015-01-08  2062.139893"
      ]
     },
     "execution_count": 23,
     "metadata": {},
     "output_type": "execute_result"
    }
   ],
   "source": [
    "sp500.head()"
   ]
  },
  {
   "cell_type": "code",
   "execution_count": 24,
   "id": "b9589280",
   "metadata": {},
   "outputs": [
    {
     "data": {
      "image/png": "[encoded data removed]",
      "text/plain": [
       "<Figure size 1080x720 with 1 Axes>"
      ]
     },
     "metadata": {},
     "output_type": "display_data"
    }
   ],
   "source": [
    "fig , ax = plt.subplots(figsize=(15,10))\n",
    "ax.plot(sp500['Value'],color='black')\n",
    "ax.set_xlabel('Time')\n",
    "ax.set_ylabel('S&P500 value')\n",
    "ax.set_title('S&P500 value fluctuation over time')\n",
    "ax.grid(False)\n",
    "plt.show()"
   ]
  },
  {
   "cell_type": "code",
   "execution_count": 25,
   "id": "6619a904",
   "metadata": {},
   "outputs": [
    {
     "data": {
      "text/plain": [
       "Value    0.376237\n",
       "dtype: float64"
      ]
     },
     "execution_count": 25,
     "metadata": {},
     "output_type": "execute_result"
    }
   ],
   "source": [
    "total_sp500_return = (sp500.iloc[-1]-sp500.iloc[0]) / (sp500.iloc[0])\n",
    "total_sp500_return"
   ]
  },
  {
   "cell_type": "code",
   "execution_count": 26,
   "id": "b5f5287d",
   "metadata": {},
   "outputs": [
    {
     "data": {
      "text/plain": [
       "0.2852947719688543"
      ]
     },
     "execution_count": 26,
     "metadata": {},
     "output_type": "execute_result"
    }
   ],
   "source": [
    "total_portfolio_return = (portfolio.dot(weights).iloc[-1] - portfolio.dot(weights).iloc[0]) / (portfolio.dot(weights).iloc[0])\n",
    "total_portfolio_return"
   ]
  },
  {
   "cell_type": "code",
   "execution_count": 27,
   "id": "17dc41e4",
   "metadata": {},
   "outputs": [
    {
     "data": {
      "text/plain": [
       "Timedelta('1537 days 00:00:00')"
      ]
     },
     "execution_count": 27,
     "metadata": {},
     "output_type": "execute_result"
    }
   ],
   "source": [
    "sp500.index.max() - sp500.index.min()"
   ]
  },
  {
   "cell_type": "code",
   "execution_count": 28,
   "id": "13c93d06",
   "metadata": {},
   "outputs": [
    {
     "data": {
      "text/plain": [
       "Value    7.87883\n",
       "dtype: float64"
      ]
     },
     "execution_count": 28,
     "metadata": {},
     "output_type": "execute_result"
    }
   ],
   "source": [
    "annualized_sp500_return = ((1+total_sp500_return)**(365/1537)) - 1 \n",
    "annualized_sp500_return * 100"
   ]
  },
  {
   "cell_type": "code",
   "execution_count": 29,
   "id": "c960debb",
   "metadata": {},
   "outputs": [
    {
     "data": {
      "text/plain": [
       "Timedelta('1180 days 00:00:00')"
      ]
     },
     "execution_count": 29,
     "metadata": {},
     "output_type": "execute_result"
    }
   ],
   "source": [
    "portfolio.index.max() - portfolio.index.min()"
   ]
  },
  {
   "cell_type": "code",
   "execution_count": 30,
   "id": "582ffbba",
   "metadata": {},
   "outputs": [
    {
     "data": {
      "text/plain": [
       "8.072935879727039"
      ]
     },
     "execution_count": 30,
     "metadata": {},
     "output_type": "execute_result"
    }
   ],
   "source": [
    "annualized_portfolio_return = ((1 + total_portfolio_return)**(365/1180)) - 1 \n",
    "annualized_portfolio_return * 100"
   ]
  },
  {
   "cell_type": "markdown",
   "id": "59b3743b",
   "metadata": {},
   "source": [
    "**Sharpe ratio**"
   ]
  },
  {
   "cell_type": "code",
   "execution_count": 31,
   "id": "be99b518",
   "metadata": {},
   "outputs": [
    {
     "data": {
      "text/html": [
       "<div>\n",
       "<style scoped>\n",
       "    .dataframe tbody tr th:only-of-type {\n",
       "        vertical-align: middle;\n",
       "    }\n",
       "\n",
       "    .dataframe tbody tr th {\n",
       "        vertical-align: top;\n",
       "    }\n",
       "\n",
       "    .dataframe thead th {\n",
       "        text-align: right;\n",
       "    }\n",
       "</style>\n",
       "<table border=\"1\" class=\"dataframe\">\n",
       "  <thead>\n",
       "    <tr style=\"text-align: right;\">\n",
       "      <th></th>\n",
       "      <th>Value</th>\n",
       "    </tr>\n",
       "    <tr>\n",
       "      <th>date</th>\n",
       "      <th></th>\n",
       "    </tr>\n",
       "  </thead>\n",
       "  <tbody>\n",
       "    <tr>\n",
       "      <th>2015-01-02</th>\n",
       "      <td>NaN</td>\n",
       "    </tr>\n",
       "    <tr>\n",
       "      <th>2015-01-05</th>\n",
       "      <td>-0.018278</td>\n",
       "    </tr>\n",
       "    <tr>\n",
       "      <th>2015-01-06</th>\n",
       "      <td>-0.008893</td>\n",
       "    </tr>\n",
       "    <tr>\n",
       "      <th>2015-01-07</th>\n",
       "      <td>0.011630</td>\n",
       "    </tr>\n",
       "    <tr>\n",
       "      <th>2015-01-08</th>\n",
       "      <td>0.017888</td>\n",
       "    </tr>\n",
       "  </tbody>\n",
       "</table>\n",
       "</div>"
      ],
      "text/plain": [
       "               Value\n",
       "date                \n",
       "2015-01-02       NaN\n",
       "2015-01-05 -0.018278\n",
       "2015-01-06 -0.008893\n",
       "2015-01-07  0.011630\n",
       "2015-01-08  0.017888"
      ]
     },
     "execution_count": 31,
     "metadata": {},
     "output_type": "execute_result"
    }
   ],
   "source": [
    "sp500_return = sp500.pct_change()\n",
    "sp500_return.head()"
   ]
  },
  {
   "cell_type": "code",
   "execution_count": 32,
   "id": "8c821264",
   "metadata": {},
   "outputs": [
    {
     "data": {
      "text/plain": [
       "Value    0.136136\n",
       "dtype: float64"
      ]
     },
     "execution_count": 32,
     "metadata": {},
     "output_type": "execute_result"
    }
   ],
   "source": [
    "sp500_std = sp500_return.std() * np.sqrt(250)\n",
    "sp500_std"
   ]
  },
  {
   "cell_type": "code",
   "execution_count": 33,
   "id": "036c7179",
   "metadata": {},
   "outputs": [
    {
     "data": {
      "text/html": [
       "<div>\n",
       "<style scoped>\n",
       "    .dataframe tbody tr th:only-of-type {\n",
       "        vertical-align: middle;\n",
       "    }\n",
       "\n",
       "    .dataframe tbody tr th {\n",
       "        vertical-align: top;\n",
       "    }\n",
       "\n",
       "    .dataframe thead th {\n",
       "        text-align: right;\n",
       "    }\n",
       "</style>\n",
       "<table border=\"1\" class=\"dataframe\">\n",
       "  <thead>\n",
       "    <tr style=\"text-align: right;\">\n",
       "      <th></th>\n",
       "      <th>GE</th>\n",
       "      <th>JPM</th>\n",
       "      <th>MSFT</th>\n",
       "      <th>PG</th>\n",
       "    </tr>\n",
       "  </thead>\n",
       "  <tbody>\n",
       "    <tr>\n",
       "      <th>GE</th>\n",
       "      <td>0.043500</td>\n",
       "      <td>0.021545</td>\n",
       "      <td>0.015342</td>\n",
       "      <td>0.009651</td>\n",
       "    </tr>\n",
       "    <tr>\n",
       "      <th>JPM</th>\n",
       "      <td>0.021545</td>\n",
       "      <td>0.044068</td>\n",
       "      <td>0.022988</td>\n",
       "      <td>0.010406</td>\n",
       "    </tr>\n",
       "    <tr>\n",
       "      <th>MSFT</th>\n",
       "      <td>0.015342</td>\n",
       "      <td>0.022988</td>\n",
       "      <td>0.051631</td>\n",
       "      <td>0.013554</td>\n",
       "    </tr>\n",
       "    <tr>\n",
       "      <th>PG</th>\n",
       "      <td>0.009651</td>\n",
       "      <td>0.010406</td>\n",
       "      <td>0.013554</td>\n",
       "      <td>0.019563</td>\n",
       "    </tr>\n",
       "  </tbody>\n",
       "</table>\n",
       "</div>"
      ],
      "text/plain": [
       "            GE       JPM      MSFT        PG\n",
       "GE    0.043500  0.021545  0.015342  0.009651\n",
       "JPM   0.021545  0.044068  0.022988  0.010406\n",
       "MSFT  0.015342  0.022988  0.051631  0.013554\n",
       "PG    0.009651  0.010406  0.013554  0.019563"
      ]
     },
     "execution_count": 33,
     "metadata": {},
     "output_type": "execute_result"
    }
   ],
   "source": [
    "cov_matrix = portfolio_return.cov() * 250\n",
    "cov_matrix"
   ]
  },
  {
   "cell_type": "code",
   "execution_count": 34,
   "id": "692df7d4",
   "metadata": {},
   "outputs": [
    {
     "data": {
      "text/plain": [
       "0.021608308492858913"
      ]
     },
     "execution_count": 34,
     "metadata": {},
     "output_type": "execute_result"
    }
   ],
   "source": [
    "portfolio_variance = np.dot(weights.T,np.dot(cov_matrix,weights))\n",
    "portfolio_variance"
   ]
  },
  {
   "cell_type": "code",
   "execution_count": 35,
   "id": "f3d6cfa3",
   "metadata": {},
   "outputs": [
    {
     "data": {
      "text/plain": [
       "0.14699764791607692"
      ]
     },
     "execution_count": 35,
     "metadata": {},
     "output_type": "execute_result"
    }
   ],
   "source": [
    "portfolio_std = np.sqrt(portfolio_variance)\n",
    "portfolio_std"
   ]
  },
  {
   "cell_type": "code",
   "execution_count": 36,
   "id": "783f1045",
   "metadata": {},
   "outputs": [
    {
     "data": {
      "text/plain": [
       "Value    0.578746\n",
       "dtype: float64"
      ]
     },
     "execution_count": 36,
     "metadata": {},
     "output_type": "execute_result"
    }
   ],
   "source": [
    "sp500_sharpe = (annualized_sp500_return) / sp500_std\n",
    "sp500_sharpe"
   ]
  },
  {
   "cell_type": "code",
   "execution_count": 37,
   "id": "bb08c707",
   "metadata": {},
   "outputs": [
    {
     "data": {
      "text/plain": [
       "Value    0.535983\n",
       "dtype: float64"
      ]
     },
     "execution_count": 37,
     "metadata": {},
     "output_type": "execute_result"
    }
   ],
   "source": [
    "portfolio_sharpe = (annualized_sp500_return) / portfolio_std\n",
    "portfolio_sharpe"
   ]
  },
  {
   "cell_type": "markdown",
   "id": "2784859e",
   "metadata": {},
   "source": [
    "> SP500 beats our portfolio in terms of sharpe ratio"
   ]
  },
  {
   "cell_type": "markdown",
   "id": "89a07269",
   "metadata": {},
   "source": [
    "**Non normal distribution of returns**"
   ]
  },
  {
   "cell_type": "code",
   "execution_count": 38,
   "id": "f8d2721b",
   "metadata": {},
   "outputs": [
    {
     "data": {
      "text/plain": [
       "{'sp500_mean': Value    0.000339\n",
       " dtype: float64,\n",
       " 'sp500_std': Value    0.00861\n",
       " dtype: float64,\n",
       " 'sp500_skew': Value   -0.383199\n",
       " dtype: float64,\n",
       " 'sp500_kurtosis': Value    3.922391\n",
       " dtype: float64}"
      ]
     },
     "execution_count": 38,
     "metadata": {},
     "output_type": "execute_result"
    }
   ],
   "source": [
    "{'sp500_mean':sp500_return.mean(),\n",
    "'sp500_std':sp500_return.std(),\n",
    "'sp500_skew':sp500_return.skew(),\n",
    "'sp500_kurtosis':sp500_return.kurtosis()}"
   ]
  },
  {
   "cell_type": "code",
   "execution_count": 39,
   "id": "c61128aa",
   "metadata": {},
   "outputs": [
    {
     "data": {
      "text/plain": [
       "{'portfolio_return_mean': 0.00020522633480341926,\n",
       " 'portfolio_return_std': 0.009296947562046146,\n",
       " 'portfolio_return_skew': -0.2679204817785998,\n",
       " 'portfolio_return_kurtosis': 3.9074379920415563}"
      ]
     },
     "execution_count": 39,
     "metadata": {},
     "output_type": "execute_result"
    }
   ],
   "source": [
    "{'portfolio_return_mean':portfolio_portfolio.mean(),\n",
    "'portfolio_return_std':portfolio_portfolio.std(),\n",
    "'portfolio_return_skew':portfolio_portfolio.skew(),\n",
    "'portfolio_return_kurtosis':portfolio_portfolio.kurtosis()}"
   ]
  },
  {
   "cell_type": "markdown",
   "id": "af913c79",
   "metadata": {},
   "source": [
    "**Active return**"
   ]
  },
  {
   "cell_type": "code",
   "execution_count": 40,
   "id": "53e9bfdb",
   "metadata": {},
   "outputs": [
    {
     "data": {
      "text/html": [
       "<div>\n",
       "<style scoped>\n",
       "    .dataframe tbody tr th:only-of-type {\n",
       "        vertical-align: middle;\n",
       "    }\n",
       "\n",
       "    .dataframe tbody tr th {\n",
       "        vertical-align: top;\n",
       "    }\n",
       "\n",
       "    .dataframe thead th {\n",
       "        text-align: right;\n",
       "    }\n",
       "</style>\n",
       "<table border=\"1\" class=\"dataframe\">\n",
       "  <thead>\n",
       "    <tr style=\"text-align: right;\">\n",
       "      <th></th>\n",
       "      <th>Unnamed: 0</th>\n",
       "      <th>mean_return</th>\n",
       "      <th>variance</th>\n",
       "      <th>pf_weights</th>\n",
       "      <th>bm_weights</th>\n",
       "      <th>Security</th>\n",
       "      <th>GICS Sector</th>\n",
       "      <th>GICS Sub Industry</th>\n",
       "    </tr>\n",
       "  </thead>\n",
       "  <tbody>\n",
       "    <tr>\n",
       "      <th>0</th>\n",
       "      <td>A</td>\n",
       "      <td>0.146146</td>\n",
       "      <td>0.035194</td>\n",
       "      <td>0.000</td>\n",
       "      <td>0.0</td>\n",
       "      <td>Agilent Technologies Inc</td>\n",
       "      <td>Health Care</td>\n",
       "      <td>Health Care Equipment</td>\n",
       "    </tr>\n",
       "    <tr>\n",
       "      <th>1</th>\n",
       "      <td>AAL</td>\n",
       "      <td>0.444411</td>\n",
       "      <td>0.094328</td>\n",
       "      <td>0.214</td>\n",
       "      <td>0.0</td>\n",
       "      <td>American Airlines Group</td>\n",
       "      <td>Industrials</td>\n",
       "      <td>Airlines</td>\n",
       "    </tr>\n",
       "    <tr>\n",
       "      <th>2</th>\n",
       "      <td>AAP</td>\n",
       "      <td>0.242189</td>\n",
       "      <td>0.029633</td>\n",
       "      <td>0.000</td>\n",
       "      <td>0.0</td>\n",
       "      <td>Advance Auto Parts</td>\n",
       "      <td>Consumer Discretionary</td>\n",
       "      <td>Automotive Retail</td>\n",
       "    </tr>\n",
       "    <tr>\n",
       "      <th>3</th>\n",
       "      <td>AAPL</td>\n",
       "      <td>0.225074</td>\n",
       "      <td>0.027283</td>\n",
       "      <td>0.000</td>\n",
       "      <td>0.0</td>\n",
       "      <td>Apple Inc.</td>\n",
       "      <td>Information Technology</td>\n",
       "      <td>Computer Hardware</td>\n",
       "    </tr>\n",
       "    <tr>\n",
       "      <th>4</th>\n",
       "      <td>ABBV</td>\n",
       "      <td>0.182541</td>\n",
       "      <td>0.029926</td>\n",
       "      <td>0.000</td>\n",
       "      <td>0.0</td>\n",
       "      <td>AbbVie</td>\n",
       "      <td>Health Care</td>\n",
       "      <td>Pharmaceuticals</td>\n",
       "    </tr>\n",
       "  </tbody>\n",
       "</table>\n",
       "</div>"
      ],
      "text/plain": [
       "  Unnamed: 0  mean_return  variance  pf_weights  bm_weights  \\\n",
       "0          A     0.146146  0.035194       0.000         0.0   \n",
       "1        AAL     0.444411  0.094328       0.214         0.0   \n",
       "2        AAP     0.242189  0.029633       0.000         0.0   \n",
       "3       AAPL     0.225074  0.027283       0.000         0.0   \n",
       "4       ABBV     0.182541  0.029926       0.000         0.0   \n",
       "\n",
       "                   Security             GICS Sector      GICS Sub Industry  \n",
       "0  Agilent Technologies Inc             Health Care  Health Care Equipment  \n",
       "1   American Airlines Group             Industrials               Airlines  \n",
       "2        Advance Auto Parts  Consumer Discretionary      Automotive Retail  \n",
       "3                Apple Inc.  Information Technology      Computer Hardware  \n",
       "4                    AbbVie             Health Care        Pharmaceuticals  "
      ]
     },
     "execution_count": 40,
     "metadata": {},
     "output_type": "execute_result"
    }
   ],
   "source": [
    "large_portofolio = pd.read_csv('https://assets.datacamp.com/production/repositories/4745/datasets/f61b6a5210dfa02b8299f96380e500f59cbe38c5/large_pf.csv')\n",
    "large_portofolio.head()"
   ]
  },
  {
   "cell_type": "code",
   "execution_count": 41,
   "id": "fe5f3ff0",
   "metadata": {},
   "outputs": [],
   "source": [
    "large_portofolio.rename(columns={'Unnamed: 0':'Stocks_tickers'},inplace=True)"
   ]
  },
  {
   "cell_type": "code",
   "execution_count": 42,
   "id": "c3eb16fd",
   "metadata": {},
   "outputs": [
    {
     "data": {
      "text/html": [
       "<div>\n",
       "<style scoped>\n",
       "    .dataframe tbody tr th:only-of-type {\n",
       "        vertical-align: middle;\n",
       "    }\n",
       "\n",
       "    .dataframe tbody tr th {\n",
       "        vertical-align: top;\n",
       "    }\n",
       "\n",
       "    .dataframe thead th {\n",
       "        text-align: right;\n",
       "    }\n",
       "</style>\n",
       "<table border=\"1\" class=\"dataframe\">\n",
       "  <thead>\n",
       "    <tr style=\"text-align: right;\">\n",
       "      <th></th>\n",
       "      <th>Stocks_tickers</th>\n",
       "      <th>mean_return</th>\n",
       "      <th>variance</th>\n",
       "      <th>pf_weights</th>\n",
       "      <th>bm_weights</th>\n",
       "      <th>Security</th>\n",
       "      <th>GICS Sector</th>\n",
       "      <th>GICS Sub Industry</th>\n",
       "    </tr>\n",
       "  </thead>\n",
       "  <tbody>\n",
       "    <tr>\n",
       "      <th>0</th>\n",
       "      <td>A</td>\n",
       "      <td>0.146146</td>\n",
       "      <td>0.035194</td>\n",
       "      <td>0.000</td>\n",
       "      <td>0.0</td>\n",
       "      <td>Agilent Technologies Inc</td>\n",
       "      <td>Health Care</td>\n",
       "      <td>Health Care Equipment</td>\n",
       "    </tr>\n",
       "    <tr>\n",
       "      <th>1</th>\n",
       "      <td>AAL</td>\n",
       "      <td>0.444411</td>\n",
       "      <td>0.094328</td>\n",
       "      <td>0.214</td>\n",
       "      <td>0.0</td>\n",
       "      <td>American Airlines Group</td>\n",
       "      <td>Industrials</td>\n",
       "      <td>Airlines</td>\n",
       "    </tr>\n",
       "    <tr>\n",
       "      <th>2</th>\n",
       "      <td>AAP</td>\n",
       "      <td>0.242189</td>\n",
       "      <td>0.029633</td>\n",
       "      <td>0.000</td>\n",
       "      <td>0.0</td>\n",
       "      <td>Advance Auto Parts</td>\n",
       "      <td>Consumer Discretionary</td>\n",
       "      <td>Automotive Retail</td>\n",
       "    </tr>\n",
       "    <tr>\n",
       "      <th>3</th>\n",
       "      <td>AAPL</td>\n",
       "      <td>0.225074</td>\n",
       "      <td>0.027283</td>\n",
       "      <td>0.000</td>\n",
       "      <td>0.0</td>\n",
       "      <td>Apple Inc.</td>\n",
       "      <td>Information Technology</td>\n",
       "      <td>Computer Hardware</td>\n",
       "    </tr>\n",
       "    <tr>\n",
       "      <th>4</th>\n",
       "      <td>ABBV</td>\n",
       "      <td>0.182541</td>\n",
       "      <td>0.029926</td>\n",
       "      <td>0.000</td>\n",
       "      <td>0.0</td>\n",
       "      <td>AbbVie</td>\n",
       "      <td>Health Care</td>\n",
       "      <td>Pharmaceuticals</td>\n",
       "    </tr>\n",
       "  </tbody>\n",
       "</table>\n",
       "</div>"
      ],
      "text/plain": [
       "  Stocks_tickers  mean_return  variance  pf_weights  bm_weights  \\\n",
       "0              A     0.146146  0.035194       0.000         0.0   \n",
       "1            AAL     0.444411  0.094328       0.214         0.0   \n",
       "2            AAP     0.242189  0.029633       0.000         0.0   \n",
       "3           AAPL     0.225074  0.027283       0.000         0.0   \n",
       "4           ABBV     0.182541  0.029926       0.000         0.0   \n",
       "\n",
       "                   Security             GICS Sector      GICS Sub Industry  \n",
       "0  Agilent Technologies Inc             Health Care  Health Care Equipment  \n",
       "1   American Airlines Group             Industrials               Airlines  \n",
       "2        Advance Auto Parts  Consumer Discretionary      Automotive Retail  \n",
       "3                Apple Inc.  Information Technology      Computer Hardware  \n",
       "4                    AbbVie             Health Care        Pharmaceuticals  "
      ]
     },
     "execution_count": 42,
     "metadata": {},
     "output_type": "execute_result"
    }
   ],
   "source": [
    "large_portofolio.head()"
   ]
  },
  {
   "cell_type": "code",
   "execution_count": 43,
   "id": "9261a035",
   "metadata": {},
   "outputs": [
    {
     "data": {
      "text/plain": [
       "10.557642112692944"
      ]
     },
     "execution_count": 43,
     "metadata": {},
     "output_type": "execute_result"
    }
   ],
   "source": [
    "total_index = large_portofolio['mean_return'].dot(large_portofolio['bm_weights'])\n",
    "total_index"
   ]
  },
  {
   "cell_type": "code",
   "execution_count": 44,
   "id": "f4ad00bd",
   "metadata": {},
   "outputs": [
    {
     "data": {
      "text/plain": [
       "33.134025872593554"
      ]
     },
     "execution_count": 44,
     "metadata": {},
     "output_type": "execute_result"
    }
   ],
   "source": [
    "total_portfolio = large_portofolio['mean_return'].dot(large_portofolio['pf_weights'])\n",
    "total_portfolio"
   ]
  },
  {
   "cell_type": "code",
   "execution_count": 45,
   "id": "93f70362",
   "metadata": {},
   "outputs": [
    {
     "data": {
      "text/plain": [
       "22.576383759900608"
      ]
     },
     "execution_count": 45,
     "metadata": {},
     "output_type": "execute_result"
    }
   ],
   "source": [
    "active_return = total_portfolio - total_index\n",
    "active_return"
   ]
  },
  {
   "cell_type": "markdown",
   "id": "7f1e5b36",
   "metadata": {},
   "source": [
    "              The S&P500, our benchmark overperformed our portfolio in terms of active returns"
   ]
  },
  {
   "cell_type": "markdown",
   "id": "cafb9276",
   "metadata": {},
   "source": [
    "**Portfolio factors**"
   ]
  },
  {
   "cell_type": "code",
   "execution_count": 46,
   "id": "61daa039",
   "metadata": {},
   "outputs": [
    {
     "data": {
      "text/html": [
       "<div>\n",
       "<style scoped>\n",
       "    .dataframe tbody tr th:only-of-type {\n",
       "        vertical-align: middle;\n",
       "    }\n",
       "\n",
       "    .dataframe tbody tr th {\n",
       "        vertical-align: top;\n",
       "    }\n",
       "\n",
       "    .dataframe thead th {\n",
       "        text-align: right;\n",
       "    }\n",
       "</style>\n",
       "<table border=\"1\" class=\"dataframe\">\n",
       "  <thead>\n",
       "    <tr style=\"text-align: right;\">\n",
       "      <th></th>\n",
       "      <th>date</th>\n",
       "      <th>S&amp;P500</th>\n",
       "      <th>WML</th>\n",
       "      <th>value_factor</th>\n",
       "      <th>portfolio</th>\n",
       "    </tr>\n",
       "  </thead>\n",
       "  <tbody>\n",
       "    <tr>\n",
       "      <th>0</th>\n",
       "      <td>2016-01-04</td>\n",
       "      <td>-1.530373</td>\n",
       "      <td>-1.69</td>\n",
       "      <td>-1.53</td>\n",
       "      <td>-1.651745</td>\n",
       "    </tr>\n",
       "    <tr>\n",
       "      <th>1</th>\n",
       "      <td>2016-01-05</td>\n",
       "      <td>0.201223</td>\n",
       "      <td>0.38</td>\n",
       "      <td>0.10</td>\n",
       "      <td>0.408161</td>\n",
       "    </tr>\n",
       "    <tr>\n",
       "      <th>2</th>\n",
       "      <td>2016-01-06</td>\n",
       "      <td>-1.311540</td>\n",
       "      <td>1.27</td>\n",
       "      <td>-1.22</td>\n",
       "      <td>0.325555</td>\n",
       "    </tr>\n",
       "    <tr>\n",
       "      <th>3</th>\n",
       "      <td>2016-01-07</td>\n",
       "      <td>-2.370044</td>\n",
       "      <td>0.21</td>\n",
       "      <td>-2.38</td>\n",
       "      <td>-0.698259</td>\n",
       "    </tr>\n",
       "    <tr>\n",
       "      <th>4</th>\n",
       "      <td>2016-01-08</td>\n",
       "      <td>-1.083837</td>\n",
       "      <td>-0.20</td>\n",
       "      <td>-0.91</td>\n",
       "      <td>-0.959352</td>\n",
       "    </tr>\n",
       "  </tbody>\n",
       "</table>\n",
       "</div>"
      ],
      "text/plain": [
       "         date    S&P500   WML  value_factor  portfolio\n",
       "0  2016-01-04 -1.530373 -1.69         -1.53  -1.651745\n",
       "1  2016-01-05  0.201223  0.38          0.10   0.408161\n",
       "2  2016-01-06 -1.311540  1.27         -1.22   0.325555\n",
       "3  2016-01-07 -2.370044  0.21         -2.38  -0.698259\n",
       "4  2016-01-08 -1.083837 -0.20         -0.91  -0.959352"
      ]
     },
     "execution_count": 46,
     "metadata": {},
     "output_type": "execute_result"
    }
   ],
   "source": [
    "portfolio_fact = pd.read_csv('https://assets.datacamp.com/production/repositories/4745/datasets/9a9c0ae96a31e2502fb60882eb539c61c0c1230d/pf_factors.csv')\n",
    "portfolio_fact.head()"
   ]
  },
  {
   "cell_type": "code",
   "execution_count": 47,
   "id": "3186b895",
   "metadata": {},
   "outputs": [],
   "source": [
    "portfolio_fact.set_index('date',inplace=True)"
   ]
  },
  {
   "cell_type": "code",
   "execution_count": 48,
   "id": "11ee4f8c",
   "metadata": {},
   "outputs": [],
   "source": [
    "portfolio_fact.index = pd.to_datetime(portfolio_fact.index)"
   ]
  },
  {
   "cell_type": "code",
   "execution_count": 49,
   "id": "f40d6e21",
   "metadata": {},
   "outputs": [
    {
     "data": {
      "text/html": [
       "<div>\n",
       "<style scoped>\n",
       "    .dataframe tbody tr th:only-of-type {\n",
       "        vertical-align: middle;\n",
       "    }\n",
       "\n",
       "    .dataframe tbody tr th {\n",
       "        vertical-align: top;\n",
       "    }\n",
       "\n",
       "    .dataframe thead th {\n",
       "        text-align: right;\n",
       "    }\n",
       "</style>\n",
       "<table border=\"1\" class=\"dataframe\">\n",
       "  <thead>\n",
       "    <tr style=\"text-align: right;\">\n",
       "      <th></th>\n",
       "      <th>S&amp;P500</th>\n",
       "      <th>WML</th>\n",
       "      <th>value_factor</th>\n",
       "      <th>portfolio</th>\n",
       "    </tr>\n",
       "  </thead>\n",
       "  <tbody>\n",
       "    <tr>\n",
       "      <th>S&amp;P500</th>\n",
       "      <td>1.000000</td>\n",
       "      <td>-0.389313</td>\n",
       "      <td>0.981045</td>\n",
       "      <td>0.751926</td>\n",
       "    </tr>\n",
       "    <tr>\n",
       "      <th>WML</th>\n",
       "      <td>-0.389313</td>\n",
       "      <td>1.000000</td>\n",
       "      <td>-0.363237</td>\n",
       "      <td>0.001012</td>\n",
       "    </tr>\n",
       "    <tr>\n",
       "      <th>value_factor</th>\n",
       "      <td>0.981045</td>\n",
       "      <td>-0.363237</td>\n",
       "      <td>1.000000</td>\n",
       "      <td>0.767663</td>\n",
       "    </tr>\n",
       "    <tr>\n",
       "      <th>portfolio</th>\n",
       "      <td>0.751926</td>\n",
       "      <td>0.001012</td>\n",
       "      <td>0.767663</td>\n",
       "      <td>1.000000</td>\n",
       "    </tr>\n",
       "  </tbody>\n",
       "</table>\n",
       "</div>"
      ],
      "text/plain": [
       "                S&P500       WML  value_factor  portfolio\n",
       "S&P500        1.000000 -0.389313      0.981045   0.751926\n",
       "WML          -0.389313  1.000000     -0.363237   0.001012\n",
       "value_factor  0.981045 -0.363237      1.000000   0.767663\n",
       "portfolio     0.751926  0.001012      0.767663   1.000000"
      ]
     },
     "execution_count": 49,
     "metadata": {},
     "output_type": "execute_result"
    }
   ],
   "source": [
    "portfolio_fact.corr()"
   ]
  },
  {
   "cell_type": "markdown",
   "id": "0849ecba",
   "metadata": {},
   "source": [
    "                            factors : S&P 500 & value_factor"
   ]
  },
  {
   "cell_type": "code",
   "execution_count": 50,
   "id": "49c2c35e",
   "metadata": {},
   "outputs": [],
   "source": [
    "portfolio_fact['corr_sp500'] = portfolio_fact['portfolio'].rolling(window=50).corr(portfolio_fact['S&P500'])\n",
    "portfolio_fact['corr_value_factor'] = portfolio_fact['portfolio'].rolling(window=50).corr(portfolio_fact['value_factor'])"
   ]
  },
  {
   "cell_type": "code",
   "execution_count": 51,
   "id": "51a81dee",
   "metadata": {},
   "outputs": [
    {
     "data": {
      "image/png": "[encoded data removed]",
      "text/plain": [
       "<Figure size 1080x720 with 1 Axes>"
      ]
     },
     "metadata": {},
     "output_type": "display_data"
    }
   ],
   "source": [
    "plt.style.use('ggplot')\n",
    "fig , ax = plt.subplots(figsize=(15,10))\n",
    "ax.plot(portfolio_fact['corr_sp500'],color='black')\n",
    "ax.plot(portfolio_fact['corr_value_factor'],color='blue')\n",
    "ax.set_xlabel('Time')\n",
    "ax.set_ylabel('Correlation')\n",
    "ax.set_title('Portfolio correlation with factors')\n",
    "ax.grid(False)\n",
    "plt.show()"
   ]
  },
  {
   "cell_type": "markdown",
   "id": "eeccf5b6",
   "metadata": {},
   "source": [
    "**Fama french factor model**"
   ]
  },
  {
   "cell_type": "code",
   "execution_count": 52,
   "id": "3233e074",
   "metadata": {},
   "outputs": [
    {
     "data": {
      "text/html": [
       "<div>\n",
       "<style scoped>\n",
       "    .dataframe tbody tr th:only-of-type {\n",
       "        vertical-align: middle;\n",
       "    }\n",
       "\n",
       "    .dataframe tbody tr th {\n",
       "        vertical-align: top;\n",
       "    }\n",
       "\n",
       "    .dataframe thead th {\n",
       "        text-align: right;\n",
       "    }\n",
       "</style>\n",
       "<table border=\"1\" class=\"dataframe\">\n",
       "  <thead>\n",
       "    <tr style=\"text-align: right;\">\n",
       "      <th></th>\n",
       "      <th>date</th>\n",
       "      <th>Mkt-RF</th>\n",
       "      <th>SMB</th>\n",
       "      <th>HML</th>\n",
       "      <th>RF</th>\n",
       "      <th>pf_returns</th>\n",
       "    </tr>\n",
       "  </thead>\n",
       "  <tbody>\n",
       "    <tr>\n",
       "      <th>0</th>\n",
       "      <td>2016-01-04</td>\n",
       "      <td>-1.59</td>\n",
       "      <td>-0.83</td>\n",
       "      <td>0.53</td>\n",
       "      <td>0.0</td>\n",
       "      <td>-1.651745</td>\n",
       "    </tr>\n",
       "    <tr>\n",
       "      <th>1</th>\n",
       "      <td>2016-01-05</td>\n",
       "      <td>0.12</td>\n",
       "      <td>-0.22</td>\n",
       "      <td>0.01</td>\n",
       "      <td>0.0</td>\n",
       "      <td>0.408161</td>\n",
       "    </tr>\n",
       "    <tr>\n",
       "      <th>2</th>\n",
       "      <td>2016-01-06</td>\n",
       "      <td>-1.35</td>\n",
       "      <td>-0.12</td>\n",
       "      <td>0.00</td>\n",
       "      <td>0.0</td>\n",
       "      <td>0.325555</td>\n",
       "    </tr>\n",
       "    <tr>\n",
       "      <th>3</th>\n",
       "      <td>2016-01-07</td>\n",
       "      <td>-2.44</td>\n",
       "      <td>-0.29</td>\n",
       "      <td>0.08</td>\n",
       "      <td>0.0</td>\n",
       "      <td>-0.698259</td>\n",
       "    </tr>\n",
       "    <tr>\n",
       "      <th>4</th>\n",
       "      <td>2016-01-08</td>\n",
       "      <td>-1.11</td>\n",
       "      <td>-0.47</td>\n",
       "      <td>-0.03</td>\n",
       "      <td>0.0</td>\n",
       "      <td>-0.959352</td>\n",
       "    </tr>\n",
       "  </tbody>\n",
       "</table>\n",
       "</div>"
      ],
      "text/plain": [
       "         date  Mkt-RF   SMB   HML   RF  pf_returns\n",
       "0  2016-01-04   -1.59 -0.83  0.53  0.0   -1.651745\n",
       "1  2016-01-05    0.12 -0.22  0.01  0.0    0.408161\n",
       "2  2016-01-06   -1.35 -0.12  0.00  0.0    0.325555\n",
       "3  2016-01-07   -2.44 -0.29  0.08  0.0   -0.698259\n",
       "4  2016-01-08   -1.11 -0.47 -0.03  0.0   -0.959352"
      ]
     },
     "execution_count": 52,
     "metadata": {},
     "output_type": "execute_result"
    }
   ],
   "source": [
    "portfolio_factor = pd.read_csv('https://assets.datacamp.com/production/repositories/4745/datasets/cd4884fa086d67c85d89e879e3fc2d95269f16bd/factors_pf_returns.csv')\n",
    "portfolio_factor.head()"
   ]
  },
  {
   "cell_type": "code",
   "execution_count": 53,
   "id": "956850cc",
   "metadata": {},
   "outputs": [],
   "source": [
    "portfolio_factor.set_index('date',inplace=True)"
   ]
  },
  {
   "cell_type": "code",
   "execution_count": 54,
   "id": "fd55703a",
   "metadata": {},
   "outputs": [],
   "source": [
    "portfolio_factor.index = pd.to_datetime(portfolio_factor.index)"
   ]
  },
  {
   "cell_type": "code",
   "execution_count": 55,
   "id": "eeff4dfe",
   "metadata": {},
   "outputs": [
    {
     "data": {
      "text/html": [
       "<div>\n",
       "<style scoped>\n",
       "    .dataframe tbody tr th:only-of-type {\n",
       "        vertical-align: middle;\n",
       "    }\n",
       "\n",
       "    .dataframe tbody tr th {\n",
       "        vertical-align: top;\n",
       "    }\n",
       "\n",
       "    .dataframe thead th {\n",
       "        text-align: right;\n",
       "    }\n",
       "</style>\n",
       "<table border=\"1\" class=\"dataframe\">\n",
       "  <thead>\n",
       "    <tr style=\"text-align: right;\">\n",
       "      <th></th>\n",
       "      <th>Mkt-RF</th>\n",
       "      <th>SMB</th>\n",
       "      <th>HML</th>\n",
       "      <th>RF</th>\n",
       "      <th>pf_returns</th>\n",
       "    </tr>\n",
       "    <tr>\n",
       "      <th>date</th>\n",
       "      <th></th>\n",
       "      <th></th>\n",
       "      <th></th>\n",
       "      <th></th>\n",
       "      <th></th>\n",
       "    </tr>\n",
       "  </thead>\n",
       "  <tbody>\n",
       "    <tr>\n",
       "      <th>2016-01-04</th>\n",
       "      <td>-1.59</td>\n",
       "      <td>-0.83</td>\n",
       "      <td>0.53</td>\n",
       "      <td>0.0</td>\n",
       "      <td>-1.651745</td>\n",
       "    </tr>\n",
       "    <tr>\n",
       "      <th>2016-01-05</th>\n",
       "      <td>0.12</td>\n",
       "      <td>-0.22</td>\n",
       "      <td>0.01</td>\n",
       "      <td>0.0</td>\n",
       "      <td>0.408161</td>\n",
       "    </tr>\n",
       "    <tr>\n",
       "      <th>2016-01-06</th>\n",
       "      <td>-1.35</td>\n",
       "      <td>-0.12</td>\n",
       "      <td>0.00</td>\n",
       "      <td>0.0</td>\n",
       "      <td>0.325555</td>\n",
       "    </tr>\n",
       "    <tr>\n",
       "      <th>2016-01-07</th>\n",
       "      <td>-2.44</td>\n",
       "      <td>-0.29</td>\n",
       "      <td>0.08</td>\n",
       "      <td>0.0</td>\n",
       "      <td>-0.698259</td>\n",
       "    </tr>\n",
       "    <tr>\n",
       "      <th>2016-01-08</th>\n",
       "      <td>-1.11</td>\n",
       "      <td>-0.47</td>\n",
       "      <td>-0.03</td>\n",
       "      <td>0.0</td>\n",
       "      <td>-0.959352</td>\n",
       "    </tr>\n",
       "  </tbody>\n",
       "</table>\n",
       "</div>"
      ],
      "text/plain": [
       "            Mkt-RF   SMB   HML   RF  pf_returns\n",
       "date                                           \n",
       "2016-01-04   -1.59 -0.83  0.53  0.0   -1.651745\n",
       "2016-01-05    0.12 -0.22  0.01  0.0    0.408161\n",
       "2016-01-06   -1.35 -0.12  0.00  0.0    0.325555\n",
       "2016-01-07   -2.44 -0.29  0.08  0.0   -0.698259\n",
       "2016-01-08   -1.11 -0.47 -0.03  0.0   -0.959352"
      ]
     },
     "execution_count": 55,
     "metadata": {},
     "output_type": "execute_result"
    }
   ],
   "source": [
    "portfolio_factor.head()"
   ]
  },
  {
   "cell_type": "code",
   "execution_count": 56,
   "id": "aaabccee",
   "metadata": {},
   "outputs": [],
   "source": [
    "stepwise = sm.OLS(portfolio_factor['pf_returns'],portfolio_factor[['Mkt-RF','SMB','HML']]).fit()"
   ]
  },
  {
   "cell_type": "code",
   "execution_count": 57,
   "id": "5ee212e1",
   "metadata": {},
   "outputs": [
    {
     "data": {
      "text/html": [
       "<table class=\"simpletable\">\n",
       "<caption>OLS Regression Results</caption>\n",
       "<tr>\n",
       "  <th>Dep. Variable:</th>       <td>pf_returns</td>    <th>  R-squared (uncentered):</th>      <td>   0.657</td>\n",
       "</tr>\n",
       "<tr>\n",
       "  <th>Model:</th>                   <td>OLS</td>       <th>  Adj. R-squared (uncentered):</th> <td>   0.653</td>\n",
       "</tr>\n",
       "<tr>\n",
       "  <th>Method:</th>             <td>Least Squares</td>  <th>  F-statistic:       </th>          <td>   158.8</td>\n",
       "</tr>\n",
       "<tr>\n",
       "  <th>Date:</th>             <td>Tue, 27 Dec 2022</td> <th>  Prob (F-statistic):</th>          <td>1.55e-57</td>\n",
       "</tr>\n",
       "<tr>\n",
       "  <th>Time:</th>                 <td>00:01:11</td>     <th>  Log-Likelihood:    </th>          <td> -185.67</td>\n",
       "</tr>\n",
       "<tr>\n",
       "  <th>No. Observations:</th>      <td>   252</td>      <th>  AIC:               </th>          <td>   377.3</td>\n",
       "</tr>\n",
       "<tr>\n",
       "  <th>Df Residuals:</th>          <td>   249</td>      <th>  BIC:               </th>          <td>   387.9</td>\n",
       "</tr>\n",
       "<tr>\n",
       "  <th>Df Model:</th>              <td>     3</td>      <th>                     </th>              <td> </td>   \n",
       "</tr>\n",
       "<tr>\n",
       "  <th>Covariance Type:</th>      <td>nonrobust</td>    <th>                     </th>              <td> </td>   \n",
       "</tr>\n",
       "</table>\n",
       "<table class=\"simpletable\">\n",
       "<tr>\n",
       "     <td></td>       <th>coef</th>     <th>std err</th>      <th>t</th>      <th>P>|t|</th>  <th>[0.025</th>    <th>0.975]</th>  \n",
       "</tr>\n",
       "<tr>\n",
       "  <th>Mkt-RF</th> <td>    0.8234</td> <td>    0.040</td> <td>   20.627</td> <td> 0.000</td> <td>    0.745</td> <td>    0.902</td>\n",
       "</tr>\n",
       "<tr>\n",
       "  <th>SMB</th>    <td>   -0.2272</td> <td>    0.064</td> <td>   -3.545</td> <td> 0.000</td> <td>   -0.353</td> <td>   -0.101</td>\n",
       "</tr>\n",
       "<tr>\n",
       "  <th>HML</th>    <td>   -0.4826</td> <td>    0.056</td> <td>   -8.611</td> <td> 0.000</td> <td>   -0.593</td> <td>   -0.372</td>\n",
       "</tr>\n",
       "</table>\n",
       "<table class=\"simpletable\">\n",
       "<tr>\n",
       "  <th>Omnibus:</th>       <td>143.224</td> <th>  Durbin-Watson:     </th> <td>   1.925</td>\n",
       "</tr>\n",
       "<tr>\n",
       "  <th>Prob(Omnibus):</th> <td> 0.000</td>  <th>  Jarque-Bera (JB):  </th> <td>1746.552</td>\n",
       "</tr>\n",
       "<tr>\n",
       "  <th>Skew:</th>          <td> 1.972</td>  <th>  Prob(JB):          </th> <td>    0.00</td>\n",
       "</tr>\n",
       "<tr>\n",
       "  <th>Kurtosis:</th>      <td>15.279</td>  <th>  Cond. No.          </th> <td>    1.89</td>\n",
       "</tr>\n",
       "</table><br/><br/>Notes:<br/>[1] R² is computed without centering (uncentered) since the model does not contain a constant.<br/>[2] Standard Errors assume that the covariance matrix of the errors is correctly specified."
      ],
      "text/plain": [
       "<class 'statsmodels.iolib.summary.Summary'>\n",
       "\"\"\"\n",
       "                                 OLS Regression Results                                \n",
       "=======================================================================================\n",
       "Dep. Variable:             pf_returns   R-squared (uncentered):                   0.657\n",
       "Model:                            OLS   Adj. R-squared (uncentered):              0.653\n",
       "Method:                 Least Squares   F-statistic:                              158.8\n",
       "Date:                Tue, 27 Dec 2022   Prob (F-statistic):                    1.55e-57\n",
       "Time:                        00:01:11   Log-Likelihood:                         -185.67\n",
       "No. Observations:                 252   AIC:                                      377.3\n",
       "Df Residuals:                     249   BIC:                                      387.9\n",
       "Df Model:                           3                                                  \n",
       "Covariance Type:            nonrobust                                                  \n",
       "==============================================================================\n",
       "                 coef    std err          t      P>|t|      [0.025      0.975]\n",
       "------------------------------------------------------------------------------\n",
       "Mkt-RF         0.8234      0.040     20.627      0.000       0.745       0.902\n",
       "SMB           -0.2272      0.064     -3.545      0.000      -0.353      -0.101\n",
       "HML           -0.4826      0.056     -8.611      0.000      -0.593      -0.372\n",
       "==============================================================================\n",
       "Omnibus:                      143.224   Durbin-Watson:                   1.925\n",
       "Prob(Omnibus):                  0.000   Jarque-Bera (JB):             1746.552\n",
       "Skew:                           1.972   Prob(JB):                         0.00\n",
       "Kurtosis:                      15.279   Cond. No.                         1.89\n",
       "==============================================================================\n",
       "\n",
       "Notes:\n",
       "[1] R² is computed without centering (uncentered) since the model does not contain a constant.\n",
       "[2] Standard Errors assume that the covariance matrix of the errors is correctly specified.\n",
       "\"\"\""
      ]
     },
     "execution_count": 57,
     "metadata": {},
     "output_type": "execute_result"
    }
   ],
   "source": [
    "stepwise.summary()"
   ]
  },
  {
   "cell_type": "code",
   "execution_count": 58,
   "id": "2caf4d1e",
   "metadata": {},
   "outputs": [
    {
     "data": {
      "text/plain": [
       "Mkt-RF    0.823443\n",
       "SMB      -0.227198\n",
       "HML      -0.482598\n",
       "dtype: float64"
      ]
     },
     "execution_count": 58,
     "metadata": {},
     "output_type": "execute_result"
    }
   ],
   "source": [
    "sm.OLS(portfolio_factor['pf_returns'],portfolio_factor[['Mkt-RF','SMB','HML']]).fit().params"
   ]
  },
  {
   "cell_type": "markdown",
   "id": "7bb90af5",
   "metadata": {},
   "source": [
    "**Portfolio optimisation**"
   ]
  },
  {
   "cell_type": "code",
   "execution_count": 59,
   "id": "79c756ad",
   "metadata": {},
   "outputs": [],
   "source": [
    "from pypfopt.efficient_frontier import EfficientFrontier\n",
    "from pypfopt import risk_models\n",
    "from pypfopt import expected_returns"
   ]
  },
  {
   "cell_type": "code",
   "execution_count": 60,
   "id": "47928df4",
   "metadata": {},
   "outputs": [],
   "source": [
    "mu = expected_returns.mean_historical_return(portfolio)\n",
    "sigma = risk_models.sample_cov(portfolio)"
   ]
  },
  {
   "cell_type": "code",
   "execution_count": 61,
   "id": "b24e1d9c",
   "metadata": {},
   "outputs": [],
   "source": [
    "ef_1 = EfficientFrontier(mu,sigma)"
   ]
  },
  {
   "cell_type": "code",
   "execution_count": 62,
   "id": "fdd98bfd",
   "metadata": {},
   "outputs": [
    {
     "data": {
      "text/plain": [
       "OrderedDict([('GE', 0.0),\n",
       "             ('JPM', 0.4301435848594539),\n",
       "             ('MSFT', 0.569856415140546),\n",
       "             ('PG', 0.0)])"
      ]
     },
     "execution_count": 62,
     "metadata": {},
     "output_type": "execute_result"
    }
   ],
   "source": [
    "weights = ef_1.max_sharpe()\n",
    "weights"
   ]
  },
  {
   "cell_type": "code",
   "execution_count": 63,
   "id": "44b97b73",
   "metadata": {},
   "outputs": [
    {
     "name": "stdout",
     "output_type": "stream",
     "text": [
      "Expected annual return: 19.9%\n",
      "Annual volatility: 19.1%\n",
      "Sharpe Ratio: 0.94\n"
     ]
    },
    {
     "data": {
      "text/plain": [
       "(0.19891102843432645, 0.19099492309927402, 0.9367318540783062)"
      ]
     },
     "execution_count": 63,
     "metadata": {},
     "output_type": "execute_result"
    }
   ],
   "source": [
    "ef_1.portfolio_performance(verbose=True)"
   ]
  },
  {
   "cell_type": "code",
   "execution_count": 64,
   "id": "887a8146",
   "metadata": {},
   "outputs": [],
   "source": [
    "ef_2 = EfficientFrontier(mu,sigma)"
   ]
  },
  {
   "cell_type": "code",
   "execution_count": 65,
   "id": "c2189272",
   "metadata": {},
   "outputs": [
    {
     "data": {
      "text/plain": [
       "OrderedDict([('GE', 0.1584701819817765),\n",
       "             ('JPM', 0.1163325137280976),\n",
       "             ('MSFT', 0.0451947032013797),\n",
       "             ('PG', 0.6800026010887462)])"
      ]
     },
     "execution_count": 65,
     "metadata": {},
     "output_type": "execute_result"
    }
   ],
   "source": [
    "weights = ef_2.min_volatility()\n",
    "weights"
   ]
  },
  {
   "cell_type": "code",
   "execution_count": 66,
   "id": "3b9471e0",
   "metadata": {},
   "outputs": [
    {
     "name": "stdout",
     "output_type": "stream",
     "text": [
      "Expected annual return: -2.6%\n",
      "Annual volatility: 13.0%\n",
      "Sharpe Ratio: -0.36\n"
     ]
    },
    {
     "data": {
      "text/plain": [
       "(-0.026492429387293168, 0.129571908249066, -0.3588156570012413)"
      ]
     },
     "execution_count": 66,
     "metadata": {},
     "output_type": "execute_result"
    }
   ],
   "source": [
    "ef_2.portfolio_performance(verbose=True)"
   ]
  },
  {
   "cell_type": "code",
   "execution_count": 67,
   "id": "9d1d74c3",
   "metadata": {},
   "outputs": [
    {
     "data": {
      "text/plain": [
       "OrderedDict([('GE', 0.0), ('JPM', 0.43014), ('MSFT', 0.56986), ('PG', 0.0)])"
      ]
     },
     "execution_count": 67,
     "metadata": {},
     "output_type": "execute_result"
    }
   ],
   "source": [
    "ef_1.clean_weights()"
   ]
  },
  {
   "cell_type": "code",
   "execution_count": 68,
   "id": "45091020",
   "metadata": {},
   "outputs": [
    {
     "data": {
      "text/plain": [
       "OrderedDict([('GE', 0.15847),\n",
       "             ('JPM', 0.11633),\n",
       "             ('MSFT', 0.04519),\n",
       "             ('PG', 0.68)])"
      ]
     },
     "execution_count": 68,
     "metadata": {},
     "output_type": "execute_result"
    }
   ],
   "source": [
    "ef_2.clean_weights()"
   ]
  },
  {
   "cell_type": "code",
   "execution_count": 69,
   "id": "37e50a12",
   "metadata": {},
   "outputs": [],
   "source": [
    "ef_3 = EfficientFrontier(mu,sigma)"
   ]
  },
  {
   "cell_type": "code",
   "execution_count": 70,
   "id": "219319d8",
   "metadata": {},
   "outputs": [
    {
     "data": {
      "text/plain": [
       "OrderedDict([('GE', 0.0), ('JPM', 0.39978), ('MSFT', 0.60022), ('PG', 0.0)])"
      ]
     },
     "execution_count": 70,
     "metadata": {},
     "output_type": "execute_result"
    }
   ],
   "source": [
    "weights = ef_3.efficient_return(0.2)\n",
    "ef_3.clean_weights()"
   ]
  },
  {
   "cell_type": "code",
   "execution_count": 71,
   "id": "0b9da5ab",
   "metadata": {},
   "outputs": [
    {
     "name": "stdout",
     "output_type": "stream",
     "text": [
      "Expected annual return: 20.0%\n",
      "Annual volatility: 19.2%\n",
      "Sharpe Ratio: 0.94\n"
     ]
    },
    {
     "data": {
      "text/plain": [
       "(0.2, 0.19227410775051842, 0.9361634913087495)"
      ]
     },
     "execution_count": 71,
     "metadata": {},
     "output_type": "execute_result"
    }
   ],
   "source": [
    "ef_3.portfolio_performance(verbose=True)"
   ]
  },
  {
   "cell_type": "code",
   "execution_count": 72,
   "id": "20545344",
   "metadata": {},
   "outputs": [],
   "source": [
    "ef_4 = EfficientFrontier(mu,sigma)"
   ]
  },
  {
   "cell_type": "code",
   "execution_count": 73,
   "id": "39e1a2be",
   "metadata": {},
   "outputs": [
    {
     "data": {
      "text/plain": [
       "OrderedDict([('GE', 0.0), ('JPM', 0.3538), ('MSFT', 0.28398), ('PG', 0.36222)])"
      ]
     },
     "execution_count": 73,
     "metadata": {},
     "output_type": "execute_result"
    }
   ],
   "source": [
    "weights = ef_4.efficient_risk(0.15)\n",
    "ef_4.clean_weights()"
   ]
  },
  {
   "cell_type": "code",
   "execution_count": 74,
   "id": "b1caa8db",
   "metadata": {},
   "outputs": [
    {
     "name": "stdout",
     "output_type": "stream",
     "text": [
      "Expected annual return: 10.8%\n",
      "Annual volatility: 15.0%\n",
      "Sharpe Ratio: 0.59\n"
     ]
    },
    {
     "data": {
      "text/plain": [
       "(0.10804016023353585, 0.1500000000105237, 0.5869344015157276)"
      ]
     },
     "execution_count": 74,
     "metadata": {},
     "output_type": "execute_result"
    }
   ],
   "source": [
    "ef_4.portfolio_performance(verbose=True)"
   ]
  },
  {
   "cell_type": "markdown",
   "id": "199f8cff",
   "metadata": {},
   "source": [
    "**Exponentially weighted returns & risks**"
   ]
  },
  {
   "cell_type": "code",
   "execution_count": 75,
   "id": "a7a3d97f",
   "metadata": {},
   "outputs": [],
   "source": [
    "mu = expected_returns.ema_historical_return(portfolio,span=252,frequency=252)\n",
    "sigma = risk_models.exp_cov(portfolio,span=252,frequency=252)"
   ]
  },
  {
   "cell_type": "code",
   "execution_count": 76,
   "id": "c8b65b07",
   "metadata": {},
   "outputs": [],
   "source": [
    "ef_5 = EfficientFrontier(mu,sigma)"
   ]
  },
  {
   "cell_type": "code",
   "execution_count": 77,
   "id": "57632997",
   "metadata": {},
   "outputs": [
    {
     "data": {
      "text/plain": [
       "OrderedDict([('GE', 0.0), ('JPM', 0.33277), ('MSFT', 0.66723), ('PG', 0.0)])"
      ]
     },
     "execution_count": 77,
     "metadata": {},
     "output_type": "execute_result"
    }
   ],
   "source": [
    "weights = ef_5.max_sharpe()\n",
    "ef_5.clean_weights()"
   ]
  },
  {
   "cell_type": "code",
   "execution_count": 78,
   "id": "826a355c",
   "metadata": {},
   "outputs": [
    {
     "name": "stdout",
     "output_type": "stream",
     "text": [
      "Expected annual return: 27.3%\n",
      "Annual volatility: 20.4%\n",
      "Sharpe Ratio: 1.24\n"
     ]
    },
    {
     "data": {
      "text/plain": [
       "(0.27302461222701896, 0.20415965394350863, 1.2393467922757713)"
      ]
     },
     "execution_count": 78,
     "metadata": {},
     "output_type": "execute_result"
    }
   ],
   "source": [
    "ef_5.portfolio_performance(verbose=True)"
   ]
  },
  {
   "cell_type": "code",
   "execution_count": 79,
   "id": "0248689d",
   "metadata": {},
   "outputs": [],
   "source": [
    "ef_6 = EfficientFrontier(mu,sigma)"
   ]
  },
  {
   "cell_type": "code",
   "execution_count": 80,
   "id": "a9a35833",
   "metadata": {},
   "outputs": [
    {
     "data": {
      "text/plain": [
       "OrderedDict([('GE', 0.08893),\n",
       "             ('JPM', 0.15444),\n",
       "             ('MSFT', 0.09135),\n",
       "             ('PG', 0.66528)])"
      ]
     },
     "execution_count": 80,
     "metadata": {},
     "output_type": "execute_result"
    }
   ],
   "source": [
    "weights = ef_6.min_volatility()\n",
    "ef_6.clean_weights()"
   ]
  },
  {
   "cell_type": "code",
   "execution_count": 81,
   "id": "d1b837d0",
   "metadata": {},
   "outputs": [
    {
     "name": "stdout",
     "output_type": "stream",
     "text": [
      "Expected annual return: -11.2%\n",
      "Annual volatility: 12.7%\n",
      "Sharpe Ratio: -1.04\n"
     ]
    },
    {
     "data": {
      "text/plain": [
       "(-0.11174077872402338, 0.12650445699560522, -1.0413923892705224)"
      ]
     },
     "execution_count": 81,
     "metadata": {},
     "output_type": "execute_result"
    }
   ],
   "source": [
    "ef_6.portfolio_performance(verbose=True)"
   ]
  },
  {
   "cell_type": "code",
   "execution_count": 82,
   "id": "b2950bbd",
   "metadata": {},
   "outputs": [],
   "source": [
    "ef_7 = EfficientFrontier(mu,sigma)"
   ]
  },
  {
   "cell_type": "code",
   "execution_count": 83,
   "id": "f4a11dbc",
   "metadata": {},
   "outputs": [
    {
     "data": {
      "text/plain": [
       "OrderedDict([('GE', 0.0),\n",
       "             ('JPM', 0.4915879438301279),\n",
       "             ('MSFT', 0.3884891349269475),\n",
       "             ('PG', 0.1199229212429247)])"
      ]
     },
     "execution_count": 83,
     "metadata": {},
     "output_type": "execute_result"
    }
   ],
   "source": [
    "weights = ef_7.efficient_return(0.2)\n",
    "weights"
   ]
  },
  {
   "cell_type": "code",
   "execution_count": 84,
   "id": "0864ecd9",
   "metadata": {},
   "outputs": [
    {
     "name": "stdout",
     "output_type": "stream",
     "text": [
      "Expected annual return: 20.0%\n",
      "Annual volatility: 17.5%\n",
      "Sharpe Ratio: 1.03\n"
     ]
    },
    {
     "data": {
      "text/plain": [
       "(0.2, 0.17536492457356725, 1.0264310291108887)"
      ]
     },
     "execution_count": 84,
     "metadata": {},
     "output_type": "execute_result"
    }
   ],
   "source": [
    "ef_7.portfolio_performance(verbose=True)"
   ]
  },
  {
   "cell_type": "code",
   "execution_count": 85,
   "id": "b1698c20",
   "metadata": {},
   "outputs": [],
   "source": [
    "ef_8 = EfficientFrontier(mu,sigma)"
   ]
  },
  {
   "cell_type": "code",
   "execution_count": 86,
   "id": "38801a39",
   "metadata": {},
   "outputs": [
    {
     "data": {
      "text/plain": [
       "OrderedDict([('GE', 1.753543e-10),\n",
       "             ('JPM', 0.3936820456355967),\n",
       "             ('MSFT', 0.2811924142566848),\n",
       "             ('PG', 0.3251255399324404)])"
      ]
     },
     "execution_count": 86,
     "metadata": {},
     "output_type": "execute_result"
    }
   ],
   "source": [
    "weights = ef_8.efficient_risk(0.15)\n",
    "weights"
   ]
  },
  {
   "cell_type": "code",
   "execution_count": 87,
   "id": "4b64ffa2",
   "metadata": {},
   "outputs": [
    {
     "name": "stdout",
     "output_type": "stream",
     "text": [
      "Expected annual return: 10.8%\n",
      "Annual volatility: 15.0%\n",
      "Sharpe Ratio: 0.59\n"
     ]
    },
    {
     "data": {
      "text/plain": [
       "(0.10827288809668395, 0.15000000009210337, 0.588485920283216)"
      ]
     },
     "execution_count": 87,
     "metadata": {},
     "output_type": "execute_result"
    }
   ],
   "source": [
    "ef_8.portfolio_performance(verbose=True)"
   ]
  },
  {
   "cell_type": "code",
   "execution_count": null,
   "id": "ed769b5d",
   "metadata": {},
   "outputs": [],
   "source": []
  }
 ],
 "metadata": {
  "kernelspec": {
   "display_name": "Python 3 (ipykernel)",
   "language": "python",
   "name": "python3"
  },
  "language_info": {
   "codemirror_mode": {
    "name": "ipython",
    "version": 3
   },
   "file_extension": ".py",
   "mimetype": "text/x-python",
   "name": "python",
   "nbconvert_exporter": "python",
   "pygments_lexer": "ipython3",
   "version": "3.8.13"
  }
 },
 "nbformat": 4,
 "nbformat_minor": 5
}
