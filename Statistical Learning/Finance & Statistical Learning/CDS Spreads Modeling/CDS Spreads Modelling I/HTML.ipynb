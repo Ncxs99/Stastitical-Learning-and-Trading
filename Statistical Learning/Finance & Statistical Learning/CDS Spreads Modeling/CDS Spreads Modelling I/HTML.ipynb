{
 "cells": [
  {
   "cell_type": "code",
   "execution_count": 1,
   "id": "cadd0de0",
   "metadata": {},
   "outputs": [
    {
     "name": "stdout",
     "output_type": "stream",
     "text": [
      "[NbConvertApp] Converting notebook /Users/nacersere/Projet Stratégie Quantitative/Credit Risk Modeling Spreads Time Series Analysis.ipynb to html\n",
      "[NbConvertApp] Writing 2007083 bytes to /Users/nacersere/Projet Stratégie Quantitative/Credit Risk Modeling Spreads Time Series Analysis.html\n"
     ]
    }
   ],
   "source": [
    "! jupyter nbconvert --to html '/Users/nacersere/Projet Stratégie Quantitative/Credit Risk Modeling Spreads Time Series Analysis.ipynb'"
   ]
  },
  {
   "cell_type": "code",
   "execution_count": 3,
   "id": "0ae9c2d0",
   "metadata": {},
   "outputs": [
    {
     "name": "stdout",
     "output_type": "stream",
     "text": [
      "[NbConvertApp] Converting notebook /Users/nacersere/Projet Stratégie Quantitative/Credit Risk Modeling Spreads Time Series Analysis II.ipynb to html\n",
      "[NbConvertApp] Writing 1061475 bytes to /Users/nacersere/Projet Stratégie Quantitative/Credit Risk Modeling Spreads Time Series Analysis II.html\n"
     ]
    }
   ],
   "source": [
    "! jupyter nbconvert --to html '/Users/nacersere/Projet Stratégie Quantitative/Credit Risk Modeling Spreads Time Series Analysis II.ipynb'"
   ]
  },
  {
   "cell_type": "code",
   "execution_count": null,
   "id": "ae4642af",
   "metadata": {},
   "outputs": [],
   "source": []
  }
 ],
 "metadata": {
  "kernelspec": {
   "display_name": "Python 3 (ipykernel)",
   "language": "python",
   "name": "python3"
  },
  "language_info": {
   "codemirror_mode": {
    "name": "ipython",
    "version": 3
   },
   "file_extension": ".py",
   "mimetype": "text/x-python",
   "name": "python",
   "nbconvert_exporter": "python",
   "pygments_lexer": "ipython3",
   "version": "3.9.12"
  }
 },
 "nbformat": 4,
 "nbformat_minor": 5
}
