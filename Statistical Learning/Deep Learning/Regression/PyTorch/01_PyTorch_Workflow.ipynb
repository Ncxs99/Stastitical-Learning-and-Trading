{
 "cells": [
  {
   "cell_type": "code",
   "execution_count": 1,
   "id": "c77ea8e1",
   "metadata": {},
   "outputs": [
    {
     "data": {
      "text/plain": [
       "'2.2.1'"
      ]
     },
     "execution_count": 1,
     "metadata": {},
     "output_type": "execute_result"
    }
   ],
   "source": [
    "import torch\n",
    "from torch import nn\n",
    "import matplotlib.pyplot as plt\n",
    "\n",
    "torch.__version__"
   ]
  },
  {
   "cell_type": "code",
   "execution_count": 2,
   "id": "eaffc4bc",
   "metadata": {},
   "outputs": [
    {
     "data": {
      "text/plain": [
       "'mps'"
      ]
     },
     "execution_count": 2,
     "metadata": {},
     "output_type": "execute_result"
    }
   ],
   "source": [
    "# device agnostic code \n",
    "device = \"mps\" if torch.backends.mps.is_available() else \"cpu\"\n",
    "device"
   ]
  },
  {
   "cell_type": "markdown",
   "id": "c1f3c9ba",
   "metadata": {},
   "source": [
    "**1 - Create a known Data**"
   ]
  },
  {
   "cell_type": "code",
   "execution_count": 3,
   "id": "c82b8706",
   "metadata": {},
   "outputs": [
    {
     "data": {
      "text/plain": [
       "(tensor([[0.0000],\n",
       "         [0.0200],\n",
       "         [0.0400],\n",
       "         [0.0600],\n",
       "         [0.0800],\n",
       "         [0.1000],\n",
       "         [0.1200],\n",
       "         [0.1400],\n",
       "         [0.1600],\n",
       "         [0.1800]]),\n",
       " tensor([[0.3000],\n",
       "         [0.3140],\n",
       "         [0.3280],\n",
       "         [0.3420],\n",
       "         [0.3560],\n",
       "         [0.3700],\n",
       "         [0.3840],\n",
       "         [0.3980],\n",
       "         [0.4120],\n",
       "         [0.4260]]))"
      ]
     },
     "execution_count": 3,
     "metadata": {},
     "output_type": "execute_result"
    }
   ],
   "source": [
    "# Create some known parameters \n",
    "weigth = 0.7\n",
    "bias = 0.3 \n",
    "\n",
    "# Create some known data \n",
    "start = 0\n",
    "end = 1\n",
    "step = 0.02\n",
    "X = torch.arange(start,end,step).unsqueeze(dim=1)\n",
    "y = weigth * X + bias \n",
    "\n",
    "X[:10], y[:10]"
   ]
  },
  {
   "cell_type": "markdown",
   "id": "05378c30",
   "metadata": {},
   "source": [
    "- **Split the data into train and test sets**"
   ]
  },
  {
   "cell_type": "code",
   "execution_count": 4,
   "id": "5770b000",
   "metadata": {},
   "outputs": [
    {
     "data": {
      "text/plain": [
       "(40, 10, 40, 10)"
      ]
     },
     "execution_count": 4,
     "metadata": {},
     "output_type": "execute_result"
    }
   ],
   "source": [
    "split_train = int(0.8 * len(X))\n",
    "X_train,X_test,y_train,y_test = X[:split_train], X[split_train:], y[:split_train], y[split_train:]\n",
    "\n",
    "len(X_train), len(X_test), len(y_train), len(y_test)"
   ]
  },
  {
   "cell_type": "markdown",
   "id": "fa75c3ad",
   "metadata": {},
   "source": [
    "- **Visualizing the Data**"
   ]
  },
  {
   "cell_type": "code",
   "execution_count": 5,
   "id": "8762ac3d",
   "metadata": {},
   "outputs": [],
   "source": [
    "def plot_predictions(train_data=X_train,\n",
    "                    test_data=X_test,\n",
    "                    train_labels=y_train,\n",
    "                    test_labels=y_test,\n",
    "                    predictions=None):\n",
    "    \n",
    "    plt.figure(figsize=(10,8))\n",
    "    plt.scatter(train_data, train_labels, color='blue', label='Training Data')\n",
    "    plt.scatter(test_data, test_labels, color='green', label='Testing Data')\n",
    "    if predictions is not None:\n",
    "        plt.scatter(test_data, predictions, color='red', label='Predictions')\n",
    "    plt.legend()\n",
    "    plt.show()"
   ]
  },
  {
   "cell_type": "code",
   "execution_count": 6,
   "id": "b0186ce9",
   "metadata": {},
   "outputs": [
    {
     "data": {
      "image/png": "[encoded data removed]",
      "text/plain": [
       "<Figure size 720x576 with 1 Axes>"
      ]
     },
     "metadata": {
      "needs_background": "light"
     },
     "output_type": "display_data"
    }
   ],
   "source": [
    "plot_predictions(X_train,X_test,y_train,y_test)"
   ]
  },
  {
   "cell_type": "markdown",
   "id": "585064fe",
   "metadata": {},
   "source": [
    "**2 - Build, Load or Pick a model**"
   ]
  },
  {
   "cell_type": "code",
   "execution_count": 7,
   "id": "c19ed6f8",
   "metadata": {},
   "outputs": [],
   "source": [
    "class LinearRegressionModel(nn.Module):\n",
    "    def __init__(self):\n",
    "        super().__init__()\n",
    "        self.linear_layer = nn.Linear(in_features=1,  # we initialize linear layer of our neural networks\n",
    "                                     out_features=1)\n",
    "        \n",
    "    def forward(self, x:torch.Tensor) -> torch.Tensor:\n",
    "        return self.linear_layer(x)"
   ]
  },
  {
   "cell_type": "code",
   "execution_count": 8,
   "id": "60c674d6",
   "metadata": {},
   "outputs": [
    {
     "data": {
      "text/plain": [
       "OrderedDict([('linear_layer.weight', tensor([[0.7645]])),\n",
       "             ('linear_layer.bias', tensor([0.8300]))])"
      ]
     },
     "execution_count": 8,
     "metadata": {},
     "output_type": "execute_result"
    }
   ],
   "source": [
    "# Instaniate and create the model \n",
    "torch.manual_seed(42)\n",
    "model = LinearRegressionModel()\n",
    "model.state_dict()"
   ]
  },
  {
   "cell_type": "code",
   "execution_count": 9,
   "id": "a1241718",
   "metadata": {},
   "outputs": [
    {
     "data": {
      "text/plain": [
       "OrderedDict([('linear_layer.weight', tensor([[0.7645]], device='mps:0')),\n",
       "             ('linear_layer.bias', tensor([0.8300], device='mps:0'))])"
      ]
     },
     "execution_count": 9,
     "metadata": {},
     "output_type": "execute_result"
    }
   ],
   "source": [
    "# Load the model to the GPU !!! \n",
    "model.to(device)\n",
    "model.state_dict()"
   ]
  },
  {
   "cell_type": "markdown",
   "id": "653a6991",
   "metadata": {},
   "source": [
    "- **Setting up a Loss function and Optimizer**"
   ]
  },
  {
   "cell_type": "code",
   "execution_count": 10,
   "id": "d9cadcf4",
   "metadata": {},
   "outputs": [],
   "source": [
    "# Create a loss \n",
    "loss_fn = nn.MSELoss()\n",
    "\n",
    "# Create an optimizer \n",
    "optimizer = torch.optim.SGD(params=model.parameters(),\n",
    "                           lr=0.1)"
   ]
  },
  {
   "cell_type": "markdown",
   "id": "0cb99ad0",
   "metadata": {},
   "source": [
    "**3 - Train the model to learn patterns**"
   ]
  },
  {
   "cell_type": "code",
   "execution_count": 11,
   "id": "dbbe1512",
   "metadata": {},
   "outputs": [
    {
     "name": "stdout",
     "output_type": "stream",
     "text": [
      "Epochs:0 | Train Loss:0.3084445595741272 | Test Loss:0.19119670987129211\n",
      "Epochs:10 | Train Loss:0.0023296137806028128 | Test Loss:0.0004770881205331534\n",
      "Epochs:20 | Train Loss:0.0006379926926456392 | Test Loss:0.0024493359960615635\n",
      "Epochs:30 | Train Loss:0.0005237426958046854 | Test Loss:0.0022332894150167704\n",
      "Epochs:40 | Train Loss:0.00043536644079722464 | Test Loss:0.0018697625491768122\n",
      "Epochs:50 | Train Loss:0.00036193159758113325 | Test Loss:0.0015552403638139367\n",
      "Epochs:60 | Train Loss:0.0003008826752193272 | Test Loss:0.0012929689837619662\n",
      "Epochs:70 | Train Loss:0.00025013103731907904 | Test Loss:0.0010748807108029723\n",
      "Epochs:80 | Train Loss:0.000207940858672373 | Test Loss:0.0008935779333114624\n",
      "Epochs:90 | Train Loss:0.00017286599904764444 | Test Loss:0.0007428491371683776\n",
      "Epochs:100 | Train Loss:0.00014370799181051552 | Test Loss:0.0006175530725158751\n",
      "Epochs:110 | Train Loss:0.00011946809536311775 | Test Loss:0.0005133839440532029\n",
      "Epochs:120 | Train Loss:9.931693057296798e-05 | Test Loss:0.0004267899494152516\n",
      "Epochs:130 | Train Loss:8.25645329314284e-05 | Test Loss:0.0003548018867149949\n",
      "Epochs:140 | Train Loss:6.86380808474496e-05 | Test Loss:0.0002949572226498276\n",
      "Epochs:150 | Train Loss:5.706087904400192e-05 | Test Loss:0.0002452067274134606\n",
      "Epochs:160 | Train Loss:4.743648605654016e-05 | Test Loss:0.00020384804520290345\n",
      "Epochs:170 | Train Loss:3.943516639992595e-05 | Test Loss:0.0001694641396170482\n",
      "Epochs:180 | Train Loss:3.278358417446725e-05 | Test Loss:0.0001408800744684413\n",
      "Epochs:190 | Train Loss:2.7253887310507707e-05 | Test Loss:0.00011711641127476469\n"
     ]
    }
   ],
   "source": [
    "torch.manual_seed(42)\n",
    "epoch_count = []\n",
    "train_loss_count = []\n",
    "test_loss_count = []\n",
    "epochs = 200\n",
    "\n",
    "X_train = X_train.to(device)\n",
    "X_test = X_test.to(device)\n",
    "y_train = y_train.to(device)\n",
    "y_test = y_test.to(device)\n",
    "\n",
    "for epoch in range(epochs):\n",
    "    \n",
    "    model.train()\n",
    "    \n",
    "    y_pred = model(X_train)\n",
    "    \n",
    "    loss = loss_fn(y_pred, y_train)\n",
    "    \n",
    "    optimizer.zero_grad()\n",
    "    \n",
    "    loss.backward()\n",
    "    \n",
    "    optimizer.step()\n",
    "    \n",
    "    model.eval()\n",
    "    \n",
    "    with torch.inference_mode():\n",
    "        test_pred = model(X_test)\n",
    "        \n",
    "        test_loss = loss_fn(test_pred, y_test)\n",
    "        \n",
    "    if epoch % 10 == 0:\n",
    "        epoch_count.append(epoch)\n",
    "        train_loss_count.append(loss.cpu().detach().numpy())\n",
    "        test_loss_count.append(test_loss.cpu().detach().numpy())\n",
    "        print(f\"Epochs:{epoch} | Train Loss:{loss} | Test Loss:{test_loss}\")"
   ]
  },
  {
   "cell_type": "markdown",
   "id": "9b62c211",
   "metadata": {},
   "source": [
    "**4 - Make some inferences and predictions**"
   ]
  },
  {
   "cell_type": "code",
   "execution_count": 12,
   "id": "427302be",
   "metadata": {},
   "outputs": [
    {
     "data": {
      "text/plain": [
       "tensor([[0.8520],\n",
       "        [0.8655],\n",
       "        [0.8791],\n",
       "        [0.8927],\n",
       "        [0.9063],\n",
       "        [0.9199],\n",
       "        [0.9335],\n",
       "        [0.9471],\n",
       "        [0.9607],\n",
       "        [0.9743]])"
      ]
     },
     "execution_count": 12,
     "metadata": {},
     "output_type": "execute_result"
    }
   ],
   "source": [
    "model.eval()\n",
    "with torch.inference_mode():\n",
    "    y_preds = model(X_test)\n",
    "y_preds = y_preds.cpu()\n",
    "y_preds"
   ]
  },
  {
   "cell_type": "markdown",
   "id": "57b7a67b",
   "metadata": {},
   "source": [
    "- **Plot Predictions**"
   ]
  },
  {
   "cell_type": "code",
   "execution_count": 13,
   "id": "7b8681f6",
   "metadata": {},
   "outputs": [
    {
     "data": {
      "image/png": "[encoded data removed]",
      "text/plain": [
       "<Figure size 720x576 with 1 Axes>"
      ]
     },
     "metadata": {
      "needs_background": "light"
     },
     "output_type": "display_data"
    }
   ],
   "source": [
    "plot_predictions(predictions=y_preds)"
   ]
  },
  {
   "cell_type": "markdown",
   "id": "6eec51dc",
   "metadata": {},
   "source": [
    "- **Plot the train and loss curve**"
   ]
  },
  {
   "cell_type": "code",
   "execution_count": 14,
   "id": "6242ee74",
   "metadata": {},
   "outputs": [
    {
     "data": {
      "image/png": "[encoded data removed]",
      "text/plain": [
       "<Figure size 720x576 with 1 Axes>"
      ]
     },
     "metadata": {
      "needs_background": "light"
     },
     "output_type": "display_data"
    }
   ],
   "source": [
    "plt.figure(figsize=(10,8))\n",
    "plt.plot(epoch_count, train_loss_count, color='blue', label='Train Loss')\n",
    "plt.plot(epoch_count, test_loss_count, color='green', label='Test Loss')\n",
    "plt.xlabel('Epochs')\n",
    "plt.ylabel('Loss')\n",
    "plt.title('Loss Curve')\n",
    "plt.legend()\n",
    "plt.show()"
   ]
  },
  {
   "cell_type": "markdown",
   "id": "499bc99f",
   "metadata": {},
   "source": [
    "**5 - Save and Load our model**"
   ]
  },
  {
   "cell_type": "markdown",
   "id": "14a081e8",
   "metadata": {},
   "source": [
    "- **Save**"
   ]
  },
  {
   "cell_type": "code",
   "execution_count": 15,
   "id": "044fb8a6",
   "metadata": {},
   "outputs": [
    {
     "data": {
      "text/plain": [
       "PosixPath('models/01_pytorch_workflow_model.pth')"
      ]
     },
     "execution_count": 15,
     "metadata": {},
     "output_type": "execute_result"
    }
   ],
   "source": [
    "from pathlib import Path\n",
    "\n",
    "MODEL_PATH = Path('models')\n",
    "MODEL_PATH.mkdir(parents=True, exist_ok=True)\n",
    "\n",
    "MODEL_NAME = '01_pytorch_workflow_model.pth'\n",
    "MODEL_SAVE_PATH = MODEL_PATH / MODEL_NAME\n",
    "\n",
    "MODEL_SAVE_PATH"
   ]
  },
  {
   "cell_type": "code",
   "execution_count": 16,
   "id": "8a6477ae",
   "metadata": {},
   "outputs": [],
   "source": [
    "torch.save(obj=model.state_dict(), f=MODEL_SAVE_PATH)"
   ]
  },
  {
   "cell_type": "markdown",
   "id": "4d06054b",
   "metadata": {},
   "source": [
    "- **Load**"
   ]
  },
  {
   "cell_type": "code",
   "execution_count": 17,
   "id": "070c8b90",
   "metadata": {},
   "outputs": [
    {
     "data": {
      "text/plain": [
       "OrderedDict([('linear_layer.weight', tensor([[0.7645]])),\n",
       "             ('linear_layer.bias', tensor([0.8300]))])"
      ]
     },
     "execution_count": 17,
     "metadata": {},
     "output_type": "execute_result"
    }
   ],
   "source": [
    "loaded_model = LinearRegressionModel()\n",
    "torch.manual_seed(42)\n",
    "loaded_model.state_dict()"
   ]
  },
  {
   "cell_type": "code",
   "execution_count": 18,
   "id": "85780c1a",
   "metadata": {},
   "outputs": [
    {
     "data": {
      "text/plain": [
       "<All keys matched successfully>"
      ]
     },
     "execution_count": 18,
     "metadata": {},
     "output_type": "execute_result"
    }
   ],
   "source": [
    "loaded_model.load_state_dict(torch.load(f=MODEL_SAVE_PATH))"
   ]
  },
  {
   "cell_type": "code",
   "execution_count": 19,
   "id": "c0cc4341",
   "metadata": {},
   "outputs": [
    {
     "data": {
      "text/plain": [
       "OrderedDict([('linear_layer.weight', tensor([[0.6795]])),\n",
       "             ('linear_layer.bias', tensor([0.3084]))])"
      ]
     },
     "execution_count": 19,
     "metadata": {},
     "output_type": "execute_result"
    }
   ],
   "source": [
    "loaded_model.state_dict()"
   ]
  },
  {
   "cell_type": "code",
   "execution_count": 21,
   "id": "2a1b1fb8",
   "metadata": {},
   "outputs": [
    {
     "data": {
      "text/plain": [
       "tensor([[0.8520],\n",
       "        [0.8655],\n",
       "        [0.8791],\n",
       "        [0.8927],\n",
       "        [0.9063],\n",
       "        [0.9199],\n",
       "        [0.9335],\n",
       "        [0.9471],\n",
       "        [0.9607],\n",
       "        [0.9743]])"
      ]
     },
     "execution_count": 21,
     "metadata": {},
     "output_type": "execute_result"
    }
   ],
   "source": [
    "loaded_model.eval()\n",
    "with torch.inference_mode():\n",
    "    loaded_model_preds = loaded_model(X_test.cpu())\n",
    "loaded_model_preds"
   ]
  },
  {
   "cell_type": "code",
   "execution_count": 22,
   "id": "5fa83cb8",
   "metadata": {},
   "outputs": [
    {
     "data": {
      "text/plain": [
       "tensor([[True],\n",
       "        [True],\n",
       "        [True],\n",
       "        [True],\n",
       "        [True],\n",
       "        [True],\n",
       "        [True],\n",
       "        [True],\n",
       "        [True],\n",
       "        [True]])"
      ]
     },
     "execution_count": 22,
     "metadata": {},
     "output_type": "execute_result"
    }
   ],
   "source": [
    "loaded_model_preds == y_preds"
   ]
  },
  {
   "cell_type": "code",
   "execution_count": null,
   "id": "6d6e8edd",
   "metadata": {},
   "outputs": [],
   "source": []
  }
 ],
 "metadata": {
  "kernelspec": {
   "display_name": "Python 3 (ipykernel)",
   "language": "python",
   "name": "python3"
  },
  "language_info": {
   "codemirror_mode": {
    "name": "ipython",
    "version": 3
   },
   "file_extension": ".py",
   "mimetype": "text/x-python",
   "name": "python",
   "nbconvert_exporter": "python",
   "pygments_lexer": "ipython3",
   "version": "3.8.13"
  }
 },
 "nbformat": 4,
 "nbformat_minor": 5
}
