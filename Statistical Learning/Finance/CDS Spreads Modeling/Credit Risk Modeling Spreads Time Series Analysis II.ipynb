{
 "cells": [
  {
   "cell_type": "markdown",
   "id": "d6bf87a0",
   "metadata": {},
   "source": [
    "<header style=\"background-color: rgb(0, 62, 92); color: white; margin-top: 20px; padding:28px; \">\n",
    "  <img src=\"Xlogo.png\" alt=\"Transposition of a vector\" title=\"Vector transposition\" width=\"115\" style=\"float: left;\">\n",
    "  <p style=\" text-align: center; font-size: 32px;\">   \n",
    "  <strong> Stratégie quantitative: Application au marché crédit  </strong></p>\n",
    "  <p style=\" text-align: center; font-size: 25px;\"><strong> Projet de validation de module </strong></p>\n",
    "  <p style=\" text-align: center; font-size: 20px;\">    SERE MODOU </p>\n",
    "</header>"
   ]
  },
  {
   "cell_type": "markdown",
   "id": "00057a74",
   "metadata": {},
   "source": [
    "## Second notebook"
   ]
  },
  {
   "cell_type": "markdown",
   "id": "580a3281",
   "metadata": {},
   "source": [
    "**SUJET D'ÉTUDE :**  \n",
    "\n",
    "**Etudier des séries de spreads et de valeurs relatives (spread contre secteur) : stationnarité, variations, autocorrélation, estimer des modèles de série temporelles (ARMA, modèles de type GARCH pour prendre en compte les variations de « volatilité »).**"
   ]
  },
  {
   "cell_type": "markdown",
   "id": "4855aeb3",
   "metadata": {},
   "source": [
    "Ce notebook nous permet de passer à la seconde phase du sujet : L'étude des valeurs relatives (des spreads contre secteur.) Comment allons nous donc procéder ? Pour ce faire, nous avons pris toujours les spreads de crédit du DJ ITraxx X-over 3Y mais cette fois couplés avec les spreads de crédit de maturité 3Y d'une société appartenant à l'Itraxx et dans le secteur automobile : Renault. L'idée pour nous consiste donc à étudier les valeurs relatives de renault contre le DJ ITraxx et inversement. Autrement dit, nous voulons étudier une série temporelle multi-variée d'un secteur bien particulier du DJ Itraxx X-over (l'automobile) contre l'indice lui meme. Comment ont t'il varié relativement ? "
   ]
  },
  {
   "cell_type": "markdown",
   "id": "03c31c62",
   "metadata": {},
   "source": [
    "### IMPORTATION DES DONNÉES ET ANALYSE DESCRIPTIVE\n",
    "\n",
    "Notre base de donnée brute est un fichier Excel qui contient plusieurs feuilles ou sheets qui contiennent à leurs tours plusieurs informations sur le DJ Itraxx X-over 3Y et les spreads de crédit de Renault. Dans cette étape, nous avons importé séparément chaque feuille excel correspondant respectivement à Renault et au DJ Itraxx directement sur Python, les avons procésser pour ne retenir que celles des maturités 3Y et les avons fusionné pour obtenir une base unique avec deux séries temporelles intéragissant coinjointement."
   ]
  },
  {
   "cell_type": "code",
   "execution_count": 1,
   "id": "8bceb0fd",
   "metadata": {},
   "outputs": [],
   "source": [
    "import pandas as pd\n",
    "import matplotlib.pyplot as plt \n",
    "import numpy as np"
   ]
  },
  {
   "cell_type": "code",
   "execution_count": 2,
   "id": "b90e14f8",
   "metadata": {},
   "outputs": [],
   "source": [
    "import warnings \n",
    "\n",
    "warnings.filterwarnings('ignore')"
   ]
  },
  {
   "cell_type": "code",
   "execution_count": 3,
   "id": "8422dc62",
   "metadata": {},
   "outputs": [],
   "source": [
    "renault = pd.read_excel('/Users/nacersere/Downloads/FinancialCrisis.xlsx',sheet_name=[2],header=2)"
   ]
  },
  {
   "cell_type": "code",
   "execution_count": 4,
   "id": "fb0bc397",
   "metadata": {},
   "outputs": [],
   "source": [
    "renault = renault[2].loc[:,['Timestamp','Mid Spread Close']]"
   ]
  },
  {
   "cell_type": "code",
   "execution_count": 5,
   "id": "f861b158",
   "metadata": {},
   "outputs": [],
   "source": [
    "renault['Timestamp'] = pd.to_datetime(renault['Timestamp'])"
   ]
  },
  {
   "cell_type": "code",
   "execution_count": 6,
   "id": "36e7c8bb",
   "metadata": {},
   "outputs": [],
   "source": [
    "renault.set_index('Timestamp',inplace=True)"
   ]
  },
  {
   "cell_type": "code",
   "execution_count": 7,
   "id": "0d3cc866",
   "metadata": {},
   "outputs": [],
   "source": [
    "renault.sort_index(ascending=True,inplace=True)"
   ]
  },
  {
   "cell_type": "code",
   "execution_count": 8,
   "id": "34afa510",
   "metadata": {},
   "outputs": [],
   "source": [
    "renault.rename(columns={'Mid Spread Close':'Renault Credit Spread'},inplace=True)"
   ]
  },
  {
   "cell_type": "code",
   "execution_count": 9,
   "id": "0fe23130",
   "metadata": {},
   "outputs": [
    {
     "data": {
      "text/html": [
       "<div>\n",
       "<style scoped>\n",
       "    .dataframe tbody tr th:only-of-type {\n",
       "        vertical-align: middle;\n",
       "    }\n",
       "\n",
       "    .dataframe tbody tr th {\n",
       "        vertical-align: top;\n",
       "    }\n",
       "\n",
       "    .dataframe thead th {\n",
       "        text-align: right;\n",
       "    }\n",
       "</style>\n",
       "<table border=\"1\" class=\"dataframe\">\n",
       "  <thead>\n",
       "    <tr style=\"text-align: right;\">\n",
       "      <th></th>\n",
       "      <th>Renault Credit Spread</th>\n",
       "    </tr>\n",
       "    <tr>\n",
       "      <th>Timestamp</th>\n",
       "      <th></th>\n",
       "    </tr>\n",
       "  </thead>\n",
       "  <tbody>\n",
       "    <tr>\n",
       "      <th>2013-05-22</th>\n",
       "      <td>106.346</td>\n",
       "    </tr>\n",
       "    <tr>\n",
       "      <th>2013-05-23</th>\n",
       "      <td>117.237</td>\n",
       "    </tr>\n",
       "    <tr>\n",
       "      <th>2013-05-24</th>\n",
       "      <td>123.636</td>\n",
       "    </tr>\n",
       "    <tr>\n",
       "      <th>2013-05-27</th>\n",
       "      <td>123.631</td>\n",
       "    </tr>\n",
       "    <tr>\n",
       "      <th>2013-05-28</th>\n",
       "      <td>123.630</td>\n",
       "    </tr>\n",
       "    <tr>\n",
       "      <th>...</th>\n",
       "      <td>...</td>\n",
       "    </tr>\n",
       "    <tr>\n",
       "      <th>2023-05-15</th>\n",
       "      <td>216.075</td>\n",
       "    </tr>\n",
       "    <tr>\n",
       "      <th>2023-05-16</th>\n",
       "      <td>216.064</td>\n",
       "    </tr>\n",
       "    <tr>\n",
       "      <th>2023-05-17</th>\n",
       "      <td>216.055</td>\n",
       "    </tr>\n",
       "    <tr>\n",
       "      <th>2023-05-18</th>\n",
       "      <td>216.185</td>\n",
       "    </tr>\n",
       "    <tr>\n",
       "      <th>2023-05-19</th>\n",
       "      <td>208.300</td>\n",
       "    </tr>\n",
       "  </tbody>\n",
       "</table>\n",
       "<p>2607 rows × 1 columns</p>\n",
       "</div>"
      ],
      "text/plain": [
       "            Renault Credit Spread\n",
       "Timestamp                        \n",
       "2013-05-22                106.346\n",
       "2013-05-23                117.237\n",
       "2013-05-24                123.636\n",
       "2013-05-27                123.631\n",
       "2013-05-28                123.630\n",
       "...                           ...\n",
       "2023-05-15                216.075\n",
       "2023-05-16                216.064\n",
       "2023-05-17                216.055\n",
       "2023-05-18                216.185\n",
       "2023-05-19                208.300\n",
       "\n",
       "[2607 rows x 1 columns]"
      ]
     },
     "execution_count": 9,
     "metadata": {},
     "output_type": "execute_result"
    }
   ],
   "source": [
    "renault"
   ]
  },
  {
   "cell_type": "code",
   "execution_count": 10,
   "id": "74db87c7",
   "metadata": {},
   "outputs": [],
   "source": [
    "Itraxx = pd.read_excel('/Users/nacersere/Downloads/FinancialCrisis.xlsx',sheet_name=[0],header=4)"
   ]
  },
  {
   "cell_type": "code",
   "execution_count": 11,
   "id": "829cb048",
   "metadata": {},
   "outputs": [],
   "source": [
    "Itraxx = Itraxx[0].loc[:,['Timestamp','Mid Spread Close']]"
   ]
  },
  {
   "cell_type": "code",
   "execution_count": 12,
   "id": "759e4387",
   "metadata": {},
   "outputs": [
    {
     "data": {
      "text/html": [
       "<div>\n",
       "<style scoped>\n",
       "    .dataframe tbody tr th:only-of-type {\n",
       "        vertical-align: middle;\n",
       "    }\n",
       "\n",
       "    .dataframe tbody tr th {\n",
       "        vertical-align: top;\n",
       "    }\n",
       "\n",
       "    .dataframe thead th {\n",
       "        text-align: right;\n",
       "    }\n",
       "</style>\n",
       "<table border=\"1\" class=\"dataframe\">\n",
       "  <thead>\n",
       "    <tr style=\"text-align: right;\">\n",
       "      <th></th>\n",
       "      <th>Timestamp</th>\n",
       "      <th>Mid Spread Close</th>\n",
       "    </tr>\n",
       "  </thead>\n",
       "  <tbody>\n",
       "    <tr>\n",
       "      <th>0</th>\n",
       "      <td>2023-05-19</td>\n",
       "      <td>354.35</td>\n",
       "    </tr>\n",
       "    <tr>\n",
       "      <th>1</th>\n",
       "      <td>2023-05-18</td>\n",
       "      <td>378.39</td>\n",
       "    </tr>\n",
       "    <tr>\n",
       "      <th>2</th>\n",
       "      <td>2023-05-17</td>\n",
       "      <td>378.38</td>\n",
       "    </tr>\n",
       "    <tr>\n",
       "      <th>3</th>\n",
       "      <td>2023-05-16</td>\n",
       "      <td>378.37</td>\n",
       "    </tr>\n",
       "    <tr>\n",
       "      <th>4</th>\n",
       "      <td>2023-05-15</td>\n",
       "      <td>378.37</td>\n",
       "    </tr>\n",
       "    <tr>\n",
       "      <th>...</th>\n",
       "      <td>...</td>\n",
       "      <td>...</td>\n",
       "    </tr>\n",
       "    <tr>\n",
       "      <th>2165</th>\n",
       "      <td>2015-01-08</td>\n",
       "      <td>244.53</td>\n",
       "    </tr>\n",
       "    <tr>\n",
       "      <th>2166</th>\n",
       "      <td>2015-01-07</td>\n",
       "      <td>264.03</td>\n",
       "    </tr>\n",
       "    <tr>\n",
       "      <th>2167</th>\n",
       "      <td>2015-01-06</td>\n",
       "      <td>272.03</td>\n",
       "    </tr>\n",
       "    <tr>\n",
       "      <th>2168</th>\n",
       "      <td>2015-01-05</td>\n",
       "      <td>260.53</td>\n",
       "    </tr>\n",
       "    <tr>\n",
       "      <th>2169</th>\n",
       "      <td>2015-01-02</td>\n",
       "      <td>240.53</td>\n",
       "    </tr>\n",
       "  </tbody>\n",
       "</table>\n",
       "<p>2170 rows × 2 columns</p>\n",
       "</div>"
      ],
      "text/plain": [
       "      Timestamp  Mid Spread Close\n",
       "0    2023-05-19            354.35\n",
       "1    2023-05-18            378.39\n",
       "2    2023-05-17            378.38\n",
       "3    2023-05-16            378.37\n",
       "4    2023-05-15            378.37\n",
       "...         ...               ...\n",
       "2165 2015-01-08            244.53\n",
       "2166 2015-01-07            264.03\n",
       "2167 2015-01-06            272.03\n",
       "2168 2015-01-05            260.53\n",
       "2169 2015-01-02            240.53\n",
       "\n",
       "[2170 rows x 2 columns]"
      ]
     },
     "execution_count": 12,
     "metadata": {},
     "output_type": "execute_result"
    }
   ],
   "source": [
    "Itraxx"
   ]
  },
  {
   "cell_type": "code",
   "execution_count": 13,
   "id": "84b910f5",
   "metadata": {},
   "outputs": [],
   "source": [
    "Itraxx['Timestamp'] = pd.to_datetime(Itraxx['Timestamp'])"
   ]
  },
  {
   "cell_type": "code",
   "execution_count": 14,
   "id": "7524ee58",
   "metadata": {},
   "outputs": [],
   "source": [
    "Itraxx.set_index('Timestamp',inplace=True)"
   ]
  },
  {
   "cell_type": "code",
   "execution_count": 15,
   "id": "b2a9f8b7",
   "metadata": {},
   "outputs": [],
   "source": [
    "Itraxx = Itraxx.sort_index(ascending=True)"
   ]
  },
  {
   "cell_type": "code",
   "execution_count": 16,
   "id": "7e9c9891",
   "metadata": {},
   "outputs": [],
   "source": [
    "Itraxx.rename(columns={'Mid Spread Close':'Itraxx Credit Spread'},inplace=True)"
   ]
  },
  {
   "cell_type": "code",
   "execution_count": 17,
   "id": "e3a9dad6",
   "metadata": {},
   "outputs": [
    {
     "data": {
      "text/html": [
       "<div>\n",
       "<style scoped>\n",
       "    .dataframe tbody tr th:only-of-type {\n",
       "        vertical-align: middle;\n",
       "    }\n",
       "\n",
       "    .dataframe tbody tr th {\n",
       "        vertical-align: top;\n",
       "    }\n",
       "\n",
       "    .dataframe thead th {\n",
       "        text-align: right;\n",
       "    }\n",
       "</style>\n",
       "<table border=\"1\" class=\"dataframe\">\n",
       "  <thead>\n",
       "    <tr style=\"text-align: right;\">\n",
       "      <th></th>\n",
       "      <th>Itraxx Credit Spread</th>\n",
       "    </tr>\n",
       "    <tr>\n",
       "      <th>Timestamp</th>\n",
       "      <th></th>\n",
       "    </tr>\n",
       "  </thead>\n",
       "  <tbody>\n",
       "    <tr>\n",
       "      <th>2015-01-02</th>\n",
       "      <td>240.53</td>\n",
       "    </tr>\n",
       "    <tr>\n",
       "      <th>2015-01-05</th>\n",
       "      <td>260.53</td>\n",
       "    </tr>\n",
       "    <tr>\n",
       "      <th>2015-01-06</th>\n",
       "      <td>272.03</td>\n",
       "    </tr>\n",
       "    <tr>\n",
       "      <th>2015-01-07</th>\n",
       "      <td>264.03</td>\n",
       "    </tr>\n",
       "    <tr>\n",
       "      <th>2015-01-08</th>\n",
       "      <td>244.53</td>\n",
       "    </tr>\n",
       "    <tr>\n",
       "      <th>...</th>\n",
       "      <td>...</td>\n",
       "    </tr>\n",
       "    <tr>\n",
       "      <th>2023-05-15</th>\n",
       "      <td>378.37</td>\n",
       "    </tr>\n",
       "    <tr>\n",
       "      <th>2023-05-16</th>\n",
       "      <td>378.37</td>\n",
       "    </tr>\n",
       "    <tr>\n",
       "      <th>2023-05-17</th>\n",
       "      <td>378.38</td>\n",
       "    </tr>\n",
       "    <tr>\n",
       "      <th>2023-05-18</th>\n",
       "      <td>378.39</td>\n",
       "    </tr>\n",
       "    <tr>\n",
       "      <th>2023-05-19</th>\n",
       "      <td>354.35</td>\n",
       "    </tr>\n",
       "  </tbody>\n",
       "</table>\n",
       "<p>2170 rows × 1 columns</p>\n",
       "</div>"
      ],
      "text/plain": [
       "            Itraxx Credit Spread\n",
       "Timestamp                       \n",
       "2015-01-02                240.53\n",
       "2015-01-05                260.53\n",
       "2015-01-06                272.03\n",
       "2015-01-07                264.03\n",
       "2015-01-08                244.53\n",
       "...                          ...\n",
       "2023-05-15                378.37\n",
       "2023-05-16                378.37\n",
       "2023-05-17                378.38\n",
       "2023-05-18                378.39\n",
       "2023-05-19                354.35\n",
       "\n",
       "[2170 rows x 1 columns]"
      ]
     },
     "execution_count": 17,
     "metadata": {},
     "output_type": "execute_result"
    }
   ],
   "source": [
    "Itraxx"
   ]
  },
  {
   "cell_type": "code",
   "execution_count": 18,
   "id": "14f55073",
   "metadata": {},
   "outputs": [],
   "source": [
    "renau_Itraxx = pd.concat([Itraxx,renault],axis=1,join='inner')"
   ]
  },
  {
   "cell_type": "markdown",
   "id": "5196d067",
   "metadata": {},
   "source": [
    "**Représentation graphique**"
   ]
  },
  {
   "cell_type": "code",
   "execution_count": 19,
   "id": "fdfc7c27",
   "metadata": {},
   "outputs": [
    {
     "data": {
      "image/png": "[encoded data removed]",
      "text/plain": [
       "<Figure size 1080x720 with 1 Axes>"
      ]
     },
     "metadata": {
      "needs_background": "light"
     },
     "output_type": "display_data"
    }
   ],
   "source": [
    "fig , ax = plt.subplots(figsize=(15,10))\n",
    "\n",
    "ax.plot(renau_Itraxx.index,renau_Itraxx['Itraxx Credit Spread'],label='Itraxx X-over 3Y à travers le temps',color='Black')\n",
    "ax.plot(renau_Itraxx.index,renau_Itraxx['Renault Credit Spread'],label='Renault Credit Spread 3Y à travers le temps',color='Blue')\n",
    "\n",
    "ax.legend()\n",
    "plt.show()"
   ]
  },
  {
   "cell_type": "markdown",
   "id": "05a72043",
   "metadata": {},
   "source": [
    "Interprétation : \n",
    "\n",
    "Le graphe en noir représente les séries de spread du DJ ITraxx X-over 3Y et celui en bleu représente celle de Renault. On voit clairement que les deux séries temporelles semblent évoluer dans le meme sens. Quasiment à chaque niveau, si les spreads du DJ Itraxx X-over augmentent, les spreads de crédit de renault augmentent. Le DJ Itraxx a donc une grande influence sur le comportement meme de la série des spreads de Renault. Cela confirme la théorie financière selon laquelle il existe deux types de risques : \n",
    "\n",
    "- Le risque systémique ou le risque de marché : C'est le risque auquel tous les actifs du portefeuille de reférence (encore appelé portefeuille du marché) sont soumis. C'est le risque qui gouverne l'ensemble des actifs du marché. Par conséquent, on voit que les spreads de Renault augmentent quasiment identiquement à ceux de l'Itraxx. On peut inférer qu'un risque systémique est bel et bien présent. \n",
    "\n",
    "\n",
    "- Le risque idiosyncratique ou spécifique : C'est le risque qui est spécifique à un actif propre du marché. Il est diversifiable. Mathématiquement parlant, plus on a d'actifs dans notre portefeuille stratégiquement corrélées, plus la variance de ce dernier va diminuer. Mais cela ne s'applique pas au risque de marché. Il est dit non diversifiable. Par conséquent, ce que l'on oberve sur le graphe précédent est la conséquence du risque non diversifiable.\n",
    "\n",
    "Les graphes évoluant dans le meme sens, on peut inférer qu'il existe une corrélation positive forte entre les spreads de crédit des deux séries. Pour le confirmer, calculons donc la corrélation qui existe entre les spreads de crédit du DJ Itraxx et ceux de renault. "
   ]
  },
  {
   "cell_type": "code",
   "execution_count": 20,
   "id": "2063b746",
   "metadata": {},
   "outputs": [
    {
     "data": {
      "text/plain": [
       "0.8217171894289546"
      ]
     },
     "execution_count": 20,
     "metadata": {},
     "output_type": "execute_result"
    }
   ],
   "source": [
    "renau_Itraxx['Itraxx Credit Spread'].corr(renau_Itraxx['Renault Credit Spread'])"
   ]
  },
  {
   "cell_type": "markdown",
   "id": "7a2e6d5e",
   "metadata": {},
   "source": [
    "On voit clairement que la corrélation entre les deux séries temporelles est de $0.82$, ce qui est confirmé visuellement par les graphes. La corrélation entre les deux séries temporelles, justifie t'elle à elle seule le fait que l'on puisse dire que les deux séries temporelles sont effectivement corrélées ? Qu'en est il de la corrélation entre les rentabilités ?\n",
    "\n",
    "Essayons de caculer la corrélation entre les rentabilités de spreads de crédit. Financièrement parlant, cela n'a aucun sens de parler de rentabilité de spreads de crédit. La rentabilité représente pour nous ici à un facteur pret, la série différenciée d'ordre 1 de notre série temporelle multivariée. "
   ]
  },
  {
   "cell_type": "code",
   "execution_count": 21,
   "id": "a34894b1",
   "metadata": {},
   "outputs": [
    {
     "data": {
      "text/html": [
       "<div>\n",
       "<style scoped>\n",
       "    .dataframe tbody tr th:only-of-type {\n",
       "        vertical-align: middle;\n",
       "    }\n",
       "\n",
       "    .dataframe tbody tr th {\n",
       "        vertical-align: top;\n",
       "    }\n",
       "\n",
       "    .dataframe thead th {\n",
       "        text-align: right;\n",
       "    }\n",
       "</style>\n",
       "<table border=\"1\" class=\"dataframe\">\n",
       "  <thead>\n",
       "    <tr style=\"text-align: right;\">\n",
       "      <th></th>\n",
       "      <th>Itraxx Credit Spread</th>\n",
       "      <th>Renault Credit Spread</th>\n",
       "    </tr>\n",
       "    <tr>\n",
       "      <th>Timestamp</th>\n",
       "      <th></th>\n",
       "      <th></th>\n",
       "    </tr>\n",
       "  </thead>\n",
       "  <tbody>\n",
       "    <tr>\n",
       "      <th>2015-01-02</th>\n",
       "      <td>NaN</td>\n",
       "      <td>NaN</td>\n",
       "    </tr>\n",
       "    <tr>\n",
       "      <th>2015-01-05</th>\n",
       "      <td>0.083150</td>\n",
       "      <td>0.040455</td>\n",
       "    </tr>\n",
       "    <tr>\n",
       "      <th>2015-01-06</th>\n",
       "      <td>0.044141</td>\n",
       "      <td>0.015906</td>\n",
       "    </tr>\n",
       "    <tr>\n",
       "      <th>2015-01-07</th>\n",
       "      <td>-0.029409</td>\n",
       "      <td>-0.021509</td>\n",
       "    </tr>\n",
       "    <tr>\n",
       "      <th>2015-01-08</th>\n",
       "      <td>-0.073855</td>\n",
       "      <td>-0.025214</td>\n",
       "    </tr>\n",
       "  </tbody>\n",
       "</table>\n",
       "</div>"
      ],
      "text/plain": [
       "            Itraxx Credit Spread  Renault Credit Spread\n",
       "Timestamp                                              \n",
       "2015-01-02                   NaN                    NaN\n",
       "2015-01-05              0.083150               0.040455\n",
       "2015-01-06              0.044141               0.015906\n",
       "2015-01-07             -0.029409              -0.021509\n",
       "2015-01-08             -0.073855              -0.025214"
      ]
     },
     "execution_count": 21,
     "metadata": {},
     "output_type": "execute_result"
    }
   ],
   "source": [
    "renau_Itraxx_pct = renau_Itraxx.pct_change()   # pourcentage de changement \n",
    "renau_Itraxx_pct.head()"
   ]
  },
  {
   "cell_type": "code",
   "execution_count": 22,
   "id": "ec4bf1a4",
   "metadata": {},
   "outputs": [
    {
     "data": {
      "text/plain": [
       "0.5047765378722925"
      ]
     },
     "execution_count": 22,
     "metadata": {},
     "output_type": "execute_result"
    }
   ],
   "source": [
    "renau_Itraxx_pct['Itraxx Credit Spread'].corr(renau_Itraxx_pct['Renault Credit Spread'])"
   ]
  },
  {
   "cell_type": "code",
   "execution_count": 23,
   "id": "3139af73",
   "metadata": {},
   "outputs": [
    {
     "data": {
      "text/html": [
       "<div>\n",
       "<style scoped>\n",
       "    .dataframe tbody tr th:only-of-type {\n",
       "        vertical-align: middle;\n",
       "    }\n",
       "\n",
       "    .dataframe tbody tr th {\n",
       "        vertical-align: top;\n",
       "    }\n",
       "\n",
       "    .dataframe thead th {\n",
       "        text-align: right;\n",
       "    }\n",
       "</style>\n",
       "<table border=\"1\" class=\"dataframe\">\n",
       "  <thead>\n",
       "    <tr style=\"text-align: right;\">\n",
       "      <th></th>\n",
       "      <th>Itraxx Credit Spread</th>\n",
       "      <th>Renault Credit Spread</th>\n",
       "    </tr>\n",
       "    <tr>\n",
       "      <th>Timestamp</th>\n",
       "      <th></th>\n",
       "      <th></th>\n",
       "    </tr>\n",
       "  </thead>\n",
       "  <tbody>\n",
       "    <tr>\n",
       "      <th>2015-01-05</th>\n",
       "      <td>20.0</td>\n",
       "      <td>2.42</td>\n",
       "    </tr>\n",
       "    <tr>\n",
       "      <th>2015-01-06</th>\n",
       "      <td>11.5</td>\n",
       "      <td>0.99</td>\n",
       "    </tr>\n",
       "    <tr>\n",
       "      <th>2015-01-07</th>\n",
       "      <td>-8.0</td>\n",
       "      <td>-1.36</td>\n",
       "    </tr>\n",
       "    <tr>\n",
       "      <th>2015-01-08</th>\n",
       "      <td>-19.5</td>\n",
       "      <td>-1.56</td>\n",
       "    </tr>\n",
       "    <tr>\n",
       "      <th>2015-01-09</th>\n",
       "      <td>10.0</td>\n",
       "      <td>0.57</td>\n",
       "    </tr>\n",
       "  </tbody>\n",
       "</table>\n",
       "</div>"
      ],
      "text/plain": [
       "            Itraxx Credit Spread  Renault Credit Spread\n",
       "Timestamp                                              \n",
       "2015-01-05                  20.0                   2.42\n",
       "2015-01-06                  11.5                   0.99\n",
       "2015-01-07                  -8.0                  -1.36\n",
       "2015-01-08                 -19.5                  -1.56\n",
       "2015-01-09                  10.0                   0.57"
      ]
     },
     "execution_count": 23,
     "metadata": {},
     "output_type": "execute_result"
    }
   ],
   "source": [
    "from statsmodels.tsa.statespace.tools import diff\n",
    "\n",
    "renau_Itraxx_diff = diff(renau_Itraxx,\n",
    "                        k_diff=1,               # différentiation d'ordre 1\n",
    "                        k_seasonal_diff=None,   # Aucune différentiation saisonnale\n",
    "                        seasonal_periods=1)\n",
    "\n",
    "renau_Itraxx_diff.head()"
   ]
  },
  {
   "cell_type": "code",
   "execution_count": 24,
   "id": "656d8bcd",
   "metadata": {},
   "outputs": [
    {
     "data": {
      "text/plain": [
       "0.5597614917144765"
      ]
     },
     "execution_count": 24,
     "metadata": {},
     "output_type": "execute_result"
    }
   ],
   "source": [
    "renau_Itraxx_diff['Itraxx Credit Spread'].corr(renau_Itraxx_diff['Renault Credit Spread'])"
   ]
  },
  {
   "cell_type": "markdown",
   "id": "9b622d4a",
   "metadata": {},
   "source": [
    "Récapitulons le code que l'on vient de tourner : \n",
    "\n",
    "- D'une part, nous avons calculé la variation relative des spreads de crédit au vrai sens du terme avec la fonction .pct_change() de Pandas. Cette fonction calcule automatiquement la variation en pourcentage de n'importe quelle obervation d'une série temporelle à une date donnée par rapport à l'observation précédente prise a la date précédente. Autrement dit, entre ces deux dates, de quel pourcentage a augmenté ou diminué l'observation depuis sa dernière valeur ? En finance, cela s'appelle une rentabilité. On a donc calculé avec la fonction .pct_change() de Python, la rentabilité des spreads de crédit ( meme si cela n'a aucun sens financier! ). Lorsque l'on calcule maintenant la corrélation entre la rentabilité des spreads de crédit de Renault et celle du DJ Itraxx X-over, on voit que cette dernière est aux alentours de $\\sim$ $0.504$, bien loin des $0.82$ obtenus précédemment. \n",
    "\n",
    "\n",
    "- D'autre part, en utilisant la fonction Python diff() que l'on a vu dans le premier notebook, Python nous retourne cette fois la vraie série différenciée au vrai sens mathématique du terme comme vu précédemment (confère notebook 1). En calculant la corrélation entre les spreads de crédit différenciée de Renault et celle du DJ Itraxx X-over, on voit également que cette dernière avoisine $\\sim$ $0.55$ sensiblement proche des $0.504$ précédemment obtenus avec pct_change(). On voit donc que les deux sont égaux à 1 facteur près . \n",
    "\n",
    "\n",
    "Ce qui nous fait déduire un point crucial lors de l'étude d'une série temporelle financière mutlivariée : \n",
    "\n",
    "**Lorsque l'on étudie une série temporelle financière multivariée, ce sur quoi nous devons nous concentrer n'est pas la corrélation entre les prix des actifs ($0.82$) mais la corrélation entre les rentabilités des actifs correspondants ($0.55$) dans notre cas. Deux séries temporelles peuvent exhiber une corrélation forte de prix, mais cela ne signifie en aucun cas qu'elles sont corrélées pour de vrai. La rentabilité ou un pourcentage relatif réflète mieux les variations de séries temporelles financières. Cette règle ne s'applique qu'aux séries temporelles financières et n'est pas extensible aux autres.** \n",
    "\n",
    "Un contre-exemple classique célèbre que l'on trouve dans la littérature est le suivant : Lorsque l'on compare la série temporelle des prix du S&P500 et celle du C02 dans l'atmosphère, on trouve une corrélation de $\\sim$ $0.95$. On serait donc tenté d'affirmer que lorsque le niveau de C02 dans l'atmosphère augmente, les cours du S&P500 en font de meme. Non sens absolu ! Par contre si on décide de calculer la corrélation entre les rentabilités des séries temporelles correspondantes, on la trouve $\\sim$ $0.05$. La dans ce cas, on voit qu'il n'y a aucun lien direct entre ces deux phénomènes.\n",
    "\n",
    "\n",
    "**Spécificités de la série temporelle**\n",
    "\n",
    "Dans cette partie, contrairement à la partie précédente, nous traitons deux séries temporelles simultanément. Il s'agit donc d'une étude de série temporelle multivariée. Une série temporelle est dite multivariée si et seulement si pour une seule date, l'on dispose de réalisations de plusieurs phénomènes indexés par le temps simultanément. Dans notre cas, pour chaque date, on dispose des spreads de crédit à la fois pour Renault et pour le DJ Itraxx X-over 3Y. Nous sommes donc en présence d'une série temporelle bivariée. Pour les séries temporelles multivariées, il existe une pléthore de tests et de modèles mathématiques adpatés. Dans un tel cas, l'on ne va plus parler des méthodes classqiues comme $ARMA$ mais cette fois des modèles $VARMA$ qui sont la ganéralisation vectorielle des modèles de types $ARMA$. Nous verrons en détail dans une section dédiée ce que sont que les modèles de type $VARMA$ et comment les practiciens déterminent l'ordre de ces modèles de manière concrète.\n",
    "\n",
    "\n",
    "\n",
    "**Remarque** :\n",
    "\n",
    "On voit que nos séries temporelles ne sont pas stationnaires. La déduction précédente s'aligne donc bien sur le fait que en plus de comparer les séries temporelles différenciées lors de l'analyse d'une série temporelle financière multivariée, cette différentiation d'ordre 1 nous assure bien la stationnarité des séries, hypothèse indispensable pour la modélisation de ces dernières avec les modèles de type $VARMA$. Dans toute la suite de notre étude, nous allons travailler avec la série différenciée de nos données."
   ]
  },
  {
   "cell_type": "markdown",
   "id": "ec7480ce",
   "metadata": {},
   "source": [
    "<em>**Fonctions intermédiaires utilisées**</em>\n",
    "\n",
    "<a href='https://pandas.pydata.org/docs/reference/api/pandas.DataFrame.pct_change.html'>pandas.DataFrame.pct_change</a> : Calcule le pourcentage de variation d'un élement du dataframe avec l'élément précédent. Utile en finance pour calculer la rentabilité des séries temporelles. Exemple : calculer la rentabilité du S&P 500 dont la colonne s'appelle 'Close_Price'. $SP\\_500['Close\\_Price'].pct\\_change()$\n",
    "\n",
    "<a href='https://pandas.pydata.org/docs/reference/api/pandas.DataFrame.corr.html'>pandas.DataFrame.corr</a> : Calcule la corrélation entre deux colonnes de deux dataframes, meme différents. Exemple : calculer la corrélation entre les colonnes SP_500_return et ETH_return, deux dataframes différents respectivement nommées SP_500 et ETH. $SP\\_500['SP\\_500\\_close\\_return'].corr(ETH['ETH\\_close\\_return'])$\n",
    "\n",
    "\n",
    "<a href='https://pandas.pydata.org/docs/reference/api/pandas.concat.html'>pandas.concat</a> : concatène deux dataframes sur une colonne identique : $Inner$ pour l'intersection dans la jointure, $Outer$ pour le complémentaire de $Inner$ dans la jointure, etc..\n",
    "\n",
    "<a href='https://pandas.pydata.org/docs/reference/api/pandas.DataFrame.sort_index.html'>pandas.DataFrame.sort_index</a> : Permet de trier l'indice ou index d'un dataframe. Si l'argument $ascending=True$, on veut trier dans l'ordre croissant sinon c'est l'ordre décroissant dont il s'agit. Exemple : Trier l'indice du dataframe BTC du plus grand au plus petit. $BTC = BTC.sort\\_index(ascending=False)$"
   ]
  },
  {
   "cell_type": "markdown",
   "id": "42579f52",
   "metadata": {},
   "source": [
    "### QUELQUES TESTS STATISTIQUES SUR DES SÉRIE TEMPORELLES MULTIVARIÉES"
   ]
  },
  {
   "cell_type": "markdown",
   "id": "c18c9187",
   "metadata": {},
   "source": [
    "#### Test de causalité de Granger\n",
    "\n",
    "\n",
    "\n",
    "Le <a href='https://fr.wikipedia.org/wiki/Causalité_de_Granger'>test de causalité de Granger</a> est un test d'hypothèse visant à déterminer si une série chronologique est utile pour prévoir une autre. Alors qu'il est assez facile de mesurer les corrélations entre deux séries temporelles- quand l'une monte, l'autre monte, et vice versa - il en va autrement pour observer des changements dans une série corrélés à des changements dans une autre après un laps de temps donné. Autrement dit, une variation de la première série temporelle, entraine t'elle après un laps de temps une variation de la seconde ? Cela <em>peut</em> indiquer la présence d'une causalité, c'est-à-dire que les changements dans la première série ont influencé le comportement de la seconde. Cependant, il se peut aussi que les deux séries soient affectées par un troisième facteur, mais à des rythmes différents. Néanmoins, cela peut être utile si les changements dans une série peuvent prédire les changements à venir dans une autre, qu'il y ait une causalité ou non. Dans ce cas, nous disons qu'une série \"Granger-cause\" une autre.\n",
    "\n",
    "Dans le cas de deux séries, $y$ et $x$, l'hypothèse nulle est que les valeurs retardées de $x$ n'expliquent <em>pas</em> les variations de $y$.<br>\n",
    "En d'autres termes, cela suppose que $x_t$ ne cause pas $y_t$.\n",
    "\n",
    "La fonction <tt><strong>grangercausalitytests</strong></tt> de stattools offre quatre tests pour la non-causalité de Granger de 2 séries temporelles."
   ]
  },
  {
   "cell_type": "code",
   "execution_count": 25,
   "id": "af97bca4",
   "metadata": {},
   "outputs": [],
   "source": [
    "from statsmodels.tsa.stattools import grangercausalitytests"
   ]
  },
  {
   "cell_type": "code",
   "execution_count": 26,
   "id": "d2f5a643",
   "metadata": {},
   "outputs": [
    {
     "name": "stdout",
     "output_type": "stream",
     "text": [
      "\n",
      "Granger Causality\n",
      "number of lags (no zero) 1\n",
      "ssr based F test:         F=15.5772 , p=0.0001  , df_denom=2164, df_num=1\n",
      "ssr based chi2 test:   chi2=15.5988 , p=0.0001  , df=1\n",
      "likelihood ratio test: chi2=15.5430 , p=0.0001  , df=1\n",
      "parameter F test:         F=15.5772 , p=0.0001  , df_denom=2164, df_num=1\n",
      "\n",
      "Granger Causality\n",
      "number of lags (no zero) 2\n",
      "ssr based F test:         F=8.1709  , p=0.0003  , df_denom=2161, df_num=2\n",
      "ssr based chi2 test:   chi2=16.3796 , p=0.0003  , df=2\n",
      "likelihood ratio test: chi2=16.3180 , p=0.0003  , df=2\n",
      "parameter F test:         F=8.1709  , p=0.0003  , df_denom=2161, df_num=2\n",
      "\n",
      "Granger Causality\n",
      "number of lags (no zero) 3\n",
      "ssr based F test:         F=7.6183  , p=0.0000  , df_denom=2158, df_num=3\n",
      "ssr based chi2 test:   chi2=22.9291 , p=0.0000  , df=3\n",
      "likelihood ratio test: chi2=22.8085 , p=0.0000  , df=3\n",
      "parameter F test:         F=7.6183  , p=0.0000  , df_denom=2158, df_num=3\n",
      "\n",
      "Granger Causality\n",
      "number of lags (no zero) 4\n",
      "ssr based F test:         F=7.7705  , p=0.0000  , df_denom=2155, df_num=4\n",
      "ssr based chi2 test:   chi2=31.2120 , p=0.0000  , df=4\n",
      "likelihood ratio test: chi2=30.9890 , p=0.0000  , df=4\n",
      "parameter F test:         F=7.7705  , p=0.0000  , df_denom=2155, df_num=4\n"
     ]
    },
    {
     "data": {
      "text/plain": [
       "{1: ({'ssr_ftest': (15.577242545698041, 8.172934831860602e-05, 2164.0, 1),\n",
       "   'ssr_chi2test': (15.598837613922207, 7.830270988144858e-05, 1),\n",
       "   'lrtest': (15.542962598778104, 8.065130944388542e-05, 1),\n",
       "   'params_ftest': (15.577242545700942, 8.17293483184935e-05, 2164.0, 1.0)},\n",
       "  [<statsmodels.regression.linear_model.RegressionResultsWrapper at 0x141dfd5b0>,\n",
       "   <statsmodels.regression.linear_model.RegressionResultsWrapper at 0x1462e59d0>,\n",
       "   array([[0., 1., 0.]])]),\n",
       " 2: ({'ssr_ftest': (8.170909046614582, 0.00029158789225582044, 2161.0, 2),\n",
       "   'ssr_chi2test': (16.379628870862735, 0.00027746536720494664, 2),\n",
       "   'lrtest': (16.318006689722097, 0.000286147443046022, 2),\n",
       "   'params_ftest': (8.170909046614696, 0.00029158789225574997, 2161.0, 2.0)},\n",
       "  [<statsmodels.regression.linear_model.RegressionResultsWrapper at 0x158e12280>,\n",
       "   <statsmodels.regression.linear_model.RegressionResultsWrapper at 0x158e12520>,\n",
       "   array([[0., 0., 1., 0., 0.],\n",
       "          [0., 0., 0., 1., 0.]])]),\n",
       " 3: ({'ssr_ftest': (7.618317147704201, 4.574808873411824e-05, 2158.0, 3),\n",
       "   'ssr_chi2test': (22.929087059471172, 4.17809892570695e-05, 3),\n",
       "   'lrtest': (22.808518873855064, 4.426942782236076e-05, 3),\n",
       "   'params_ftest': (7.618317147705174, 4.574808873404648e-05, 2158.0, 3.0)},\n",
       "  [<statsmodels.regression.linear_model.RegressionResultsWrapper at 0x158e122e0>,\n",
       "   <statsmodels.regression.linear_model.RegressionResultsWrapper at 0x158e12820>,\n",
       "   array([[0., 0., 0., 1., 0., 0., 0.],\n",
       "          [0., 0., 0., 0., 1., 0., 0.],\n",
       "          [0., 0., 0., 0., 0., 1., 0.]])]),\n",
       " 4: ({'ssr_ftest': (7.770538526086526, 3.247359169374992e-06, 2155.0, 4),\n",
       "   'ssr_chi2test': (31.211963564642673, 2.7712313564223455e-06, 4),\n",
       "   'lrtest': (30.989015427501727, 3.0772314222863033e-06, 4),\n",
       "   'params_ftest': (7.770538526086891, 3.2473591693727657e-06, 2155.0, 4.0)},\n",
       "  [<statsmodels.regression.linear_model.RegressionResultsWrapper at 0x158e125e0>,\n",
       "   <statsmodels.regression.linear_model.RegressionResultsWrapper at 0x158e12a60>,\n",
       "   array([[0., 0., 0., 0., 1., 0., 0., 0., 0.],\n",
       "          [0., 0., 0., 0., 0., 1., 0., 0., 0.],\n",
       "          [0., 0., 0., 0., 0., 0., 1., 0., 0.],\n",
       "          [0., 0., 0., 0., 0., 0., 0., 1., 0.]])])}"
      ]
     },
     "execution_count": 26,
     "metadata": {},
     "output_type": "execute_result"
    }
   ],
   "source": [
    "grangercausalitytests(renau_Itraxx_diff[['Itraxx Credit Spread','Renault Credit Spread']],maxlag=4)"
   ]
  },
  {
   "cell_type": "markdown",
   "id": "b0982477",
   "metadata": {},
   "source": [
    "Comment interpréter ce test ? \n",
    "\n",
    "L'hypothèse nulle pour les tests de causalité de Granger est que la série temporelle dans la deuxième colonne de notre dataframe donc Renault Credit Spread, ne \"Granger cause\" pas la série temporelle dans la première colonne, à savoir Itraxx Credit Spread. **La causalité de Granger signifie que les valeurs passées de la série Renault Credit Spread ont un effet statistiquement significatif sur la valeur actuelle de la colonne Itraxx Credit Spread, en prenant en compte les valeurs passées de la série Itraxx Credit Spread en tant que régresseurs.** \n",
    "\n",
    "Nous devons accepter par conséquent l'hypothèse nulle que Renault Credit Spread ne \"Granger cause\" pas Itraxx Credit Spread si les valeurs p sont inférieures à une taille de test souhaitée. Autrement dit, s'il existe un rang à partir duquel les p-values sont nulles ou $\\sim$ $0$, alors l'hypothèse nulle est vérifiée. \n",
    "\n",
    "Dans notre cas, cela signifie qu'une variation de la série différenciée de Renault n'impacte en aucun cas celle du DJ Itraxx X-over. Cela semble etre logique. La variation d'un actif dans un indice bien diversifié aura très peu d'impacts sur le marché ou l'indice lui-meme. Mathématiquement parlant, les cours des spreads de Renault n'impactent pas celles du DJ Itraxx X-over. Bien d'autres facteurs peuvent justifier d'un tel résultat. Par exemple la capitalisation boursière, la pondération des titres dans le portefeuille, etc..."
   ]
  },
  {
   "cell_type": "markdown",
   "id": "c03822d6",
   "metadata": {},
   "source": [
    "#### Test de cointégration\n",
    "\n",
    "L'idée derrière la cointégration est que même si les prix de deux actifs différents suivent tous deux des marches aléatoires, il est toujours possible qu'une combinaison linéaire d'entre eux ne soit pas une marche aléatoire. Si c'est vrai, alors même si $P$ et $Q$ ne sont pas prévisibles car ils sont des marches aléatoires, la combinaison linéaire est prévisible, et nous disons que $P$ et $Q$ sont cointégrés.\n",
    "\n",
    "La cointégration implique deux étapes : la régression d'une série chronologique $P$ sur l'autre $Q$ pour obtenir le vecteur de cointégration, puis l'exécution d'un test ADF sur les résidus de la régression. \n",
    "\n",
    "Si la p-value du test de ADF dans la cointégration est $>$ à $0.05$, les séries temporelles ne sont pas co-intégrées et si la p-value est $<$ à $0.05$, l'hypothèse de cointégration est bien acceptée.\n",
    "\n",
    "Nous allons le faire manuellement avec statsmodels."
   ]
  },
  {
   "cell_type": "code",
   "execution_count": 27,
   "id": "2f4f0d80",
   "metadata": {},
   "outputs": [],
   "source": [
    "import statsmodels.api as sm\n",
    "from statsmodels.tsa.stattools import adfuller"
   ]
  },
  {
   "cell_type": "code",
   "execution_count": 28,
   "id": "ca8b805e",
   "metadata": {},
   "outputs": [
    {
     "name": "stdout",
     "output_type": "stream",
     "text": [
      "La p-value du test de ADF est :   0.05444358900100502\n"
     ]
    }
   ],
   "source": [
    "# Regresser Itraxx et Renault\n",
    "result = sm.OLS(renau_Itraxx['Itraxx Credit Spread'],sm.add_constant(renau_Itraxx['Renault Credit Spread'])).fit()\n",
    "\n",
    "# Calculer ADF\n",
    "b = result.params[1]\n",
    "adf_stats = adfuller(renau_Itraxx['Itraxx Credit Spread'] - b*renau_Itraxx['Renault Credit Spread'])\n",
    "print(\"La p-value du test de ADF est :  \", adf_stats[1])"
   ]
  },
  {
   "cell_type": "markdown",
   "id": "80cbd204",
   "metadata": {},
   "source": [
    "La p-value du test de Dickey Fuller est $> \\sim $ à $0.05$ donc les deux séries temporelles ne sont pas co-intégrées.\n",
    "\n",
    "<div class=\"alert alert-info\"><h3>Fonctions utilisées:</h3>\n",
    "<tt><strong>\n",
    "<strong><a href='https://www.statsmodels.org/stable/generated/statsmodels.tsa.stattools.grangercausalitytests.html'>stattools.grangercausalitytests</a></strong><font color=black>(x, maxlag[, …])</font>&nbsp;Test de causalité de Granger pour deux séries temporelles<br> "
   ]
  },
  {
   "cell_type": "markdown",
   "id": "0dfff071",
   "metadata": {},
   "source": [
    "Ceci marque la fin de la section des tests statistiques sur les séries temporelles multivariées. Il en existe bien d'autres mais les plus utilisées sont le test de causalité de Granger et le test de co-intégration.\n",
    "\n",
    "Concernant les séries temporelles mutli-variées, les modèles de type $ARIMA$ sont obsolètes puisque ces deniers s'appliquent seulement aux séries temporelles univariées. Or, dans notre cas, nous avons deux séries temporelles qui intéragissent conjointement. Il faut donc utiliser l'équivalent des modèles de type $ARIMA$ mais en haute dimension. Mathématiquement parlant, il faut dont utiliser la version vectorielle des modèles linéaires univariés vus dans le notebook 1. Parmi ces modèles, nous avons les modèles de type $VARMA$(**V**ectorial **A**utoregressive **M**oving **A**verage) ou $VAR$ (**V**ector **A**ute**R**eggression)\n",
    "\n",
    "\n",
    "Passons sans plus tarder aux modèles de types $VARMA$ en théorie des séries temporelles et comment les modéliser concrètement en pratique. Mais avant tout, passons a la compréhension théorique des modèles $VAR$ et $VARMA$. "
   ]
  },
  {
   "cell_type": "markdown",
   "id": "6e3c903d",
   "metadata": {},
   "source": [
    "#### MODÈLE DE TYPE $VAR(P)$  ET $VARMA(p,q)$ EN THÉORIE DES SÉRIES TEMPORELLES\n",
    "\n",
    "Nous avons vu qu'un modèle d'autorégression $AR(p)$ est décrit par la formule suivante :\n",
    "\n",
    "\\begin{equation*}\n",
    "y_{t} = c + \\phi_{1}y_{t-1} + \\phi_{2}y_{t-2} + \\dots + \\phi_{p}y_{t-p} + \\varepsilon_{t}\n",
    "\\end{equation*}\n",
    "\n",
    "où $c$ est une constante, $\\phi_{1}$, $\\phi_{2}$, ..., $\\phi_{p}$ sont des coefficients de retard jusqu'à l'ordre $p$, et $\\varepsilon_{t}$ est un bruit blanc.\n",
    "\n",
    "\n",
    "Un modèle VAR de dimension $K$ et d'ordre $p$, noté <strong>$VAR(p)$</strong>, prend en compte chaque variable $y_K$ dans le système.\n",
    "\n",
    "Par exemple, le système d'équations pour un modèle VAR(1) à 2 dimensions est :\n",
    "\n",
    "&nbsp;&nbsp;&nbsp;&nbsp;$y_{1,t} = c_1 + \\phi_{11,1}y_{1,t-1} + \\phi_{12,1}y_{2,t-1} + \\varepsilon_{1,t}$<br>\n",
    "&nbsp;&nbsp;&nbsp;&nbsp;$y_{2,t} = c_2 + \\phi_{21,1}y_{1,t-1} + \\phi_{22,1}y_{2,t-1} + \\varepsilon_{2,t}$\n",
    "\n",
    "où le coefficient $\\phi_{ii,l}$ capture l'influence du $l$ème retard de la variable $y_i$ sur elle-même,\n",
    "le coefficient $\\phi_{ij,l}$ capture l'influence du $l$ème retard de la variable $y_j$ sur $y_i$,\n",
    "et $\\varepsilon_{1,t}$ et $\\varepsilon_{2,t}$ sont des processus de bruit blanc qui peuvent être corrélés\n",
    "\n",
    "En allant plus loin, le système d'équations pour un modèle $VAR(3)$ à $2$ dimensions est :\n",
    "\n",
    "&nbsp;&nbsp;&nbsp;&nbsp;$y_{1,t} = c_1 + \\phi_{11,1}y_{1,t-1} + \\phi_{12,1}y_{2,t-1} + \\phi_{11,2}y_{1,t-2} + \\phi_{12,2}y_{2,t-2} + \\phi_{11,3}y_{1,t-3} + \\phi_{12,3}y_{2,t-3} + \\varepsilon_{1,t}$<br>\n",
    "&nbsp;&nbsp;&nbsp;&nbsp;$y_{2,t} = c_2 + \\phi_{21,1}y_{1,t-1} + \\phi_{22,1}y_{2,t-1} + \\phi_{21,2}y_{1,t-2} + \\phi_{22,2}y_{2,t-2} + \\phi_{21,3}y_{1,t-3} + \\phi_{22,3}y_{2,t-3} + \\varepsilon_{2,t}$<br><br>\n",
    "\n",
    "\n",
    "et le système d'équations pour un modèle $VAR(2)$ à $3$ dimensions est :\n",
    "\n",
    "&nbsp;&nbsp;&nbsp;&nbsp;$y_{1,t} = c_1 + \\phi_{11,1}y_{1,t-1} + \\phi_{12,1}y_{2,t-1} + \\phi_{13,1}y_{3,t-1} + \\phi_{11,2}y_{1,t-2} + \\phi_{12,2}y_{2,t-2} + \\phi_{13,2}y_{3,t-2} + \\varepsilon_{1,t}$<br>\n",
    "&nbsp;&nbsp;&nbsp;&nbsp;$y_{2,t} = c_2 + \\phi_{21,1}y_{1,t-1} + \\phi_{22,1}y_{2,t-1} + \\phi_{23,1}y_{3,t-1} + \\phi_{21,2}y_{1,t-2} + \\phi_{22,2}y_{2,t-2} + \\phi_{23,2}y_{3,t-2} + \\varepsilon_{2,t}$<br>\n",
    "&nbsp;&nbsp;&nbsp;&nbsp;$y_{3,t} = c_3 + \\phi_{31,1}y_{1,t-1} + \\phi_{32,1}y_{2,t-1} + \\phi_{33,1}y_{3,t-1} + \\phi_{31,2}y_{1,t-2} + \\phi_{32,2}y_{2,t-2} + \\phi_{33,2}y_{3,t-2} + \\varepsilon_{3,t}$<br><br>\n",
    "\n",
    "\n",
    "\n",
    "Nous avons vu précédemment que la formule d'un modèle $ARMA(p,q)$ est donnée par : \n",
    "\n",
    "&nbsp;&nbsp;&nbsp;&nbsp; $y_{t} = c + \\phi_{1}y_{t-1} + \\phi_{2}y_{t-2} + \\dots + \\phi_{p}y_{t-p} + \\theta_{1}\\varepsilon_{t-1} + \\theta_{2}\\varepsilon_{t-2} + \\dots + \\theta_{q}\\varepsilon_{t-q} + \\varepsilon_{t}$\n",
    "\n",
    "\n",
    "Un modèle $VARMA$ $K$-dimensionnel d'ordre $(p, q)$ prend en compte chaque variable $y_K$ dans le système.\n",
    "\n",
    "Par exemple, le système d'équations pour un modèle $VARMA(1,1)$ à $2$ dimensions est le suivant :\n",
    "\n",
    "\n",
    "&nbsp;&nbsp;&nbsp;&nbsp;$y_{1,t} = c_1 + \\phi_{11,1}y_{1,t-1} + \\phi_{12,1}y_{2,t-1} + \\theta_{11,1}\\varepsilon_{1,t-1} + \\theta_{12,1}\\varepsilon_{2,t-1} + \\varepsilon_{1,t}$<br>\n",
    "&nbsp;&nbsp;&nbsp;&nbsp;$y_{2,t} = c_2 + \\phi_{21,1}y_{1,t-1} + \\phi_{22,1}y_{2,t-1} + \\theta_{21,1}\\varepsilon_{1,t-1} + \\theta_{22,1}\\varepsilon_{2,t-1} + \\varepsilon_{2,t}$\n",
    "\n",
    "\n",
    "où le coefficient $\\theta_{ii,l}$ capture l'influence du $l$-ième retard de l'erreur $\\varepsilon_i$ sur lui-même, le coefficient $\\theta_{ij,l}$ capture l'influence du $l$-ième retard de l'erreur $\\varepsilon_j$ sur $\\varepsilon_i$, et $\\varepsilon_{1,t}$ et $\\varepsilon_{2,t}$ sont des bruits blancs résiduels.\n",
    "\n",
    "Comment faire pour trouver l'ordre optimal de notre modèle de type $VARMA$ en pratique ? \n",
    "\n",
    "Pour déterminer en pratique l'ordre d'un modèle de type $VARMA$, une pratique consiste à déterminer au travers de auto_arima, l'ordre optimal des modèles $ARIMA$ de chaque série temporelle constituant la série temporelle multivariée, puis, à déduire ou inférer l'ensemble des modèles $VARMA$ possibles au travers d'une Grid Search et des critères $AIC$ et $BIC$. À ce jour, il n'existe pas de procédures permettant de déterminer de manière automatique, l'ordre d'un modèle de type $VARMA$. Dans les lignes suivantes, nous allons tenter cette procédure."
   ]
  },
  {
   "cell_type": "code",
   "execution_count": 29,
   "id": "4f615d9e",
   "metadata": {},
   "outputs": [],
   "source": [
    "from pmdarima import auto_arima"
   ]
  },
  {
   "cell_type": "code",
   "execution_count": 30,
   "id": "2181aefb",
   "metadata": {},
   "outputs": [
    {
     "name": "stdout",
     "output_type": "stream",
     "text": [
      "Performing stepwise search to minimize aic\n",
      " ARIMA(1,1,1)(0,0,0)[0] intercept   : AIC=17190.313, Time=0.22 sec\n",
      " ARIMA(0,1,0)(0,0,0)[0] intercept   : AIC=17186.482, Time=0.02 sec\n",
      " ARIMA(1,1,0)(0,0,0)[0] intercept   : AIC=17188.313, Time=0.08 sec\n",
      " ARIMA(0,1,1)(0,0,0)[0] intercept   : AIC=17188.315, Time=0.12 sec\n",
      " ARIMA(0,1,0)(0,0,0)[0]             : AIC=17184.519, Time=0.02 sec\n",
      "\n",
      "Best model:  ARIMA(0,1,0)(0,0,0)[0]          \n",
      "Total fit time: 0.476 seconds\n"
     ]
    },
    {
     "data": {
      "text/html": [
       "<table class=\"simpletable\">\n",
       "<caption>SARIMAX Results</caption>\n",
       "<tr>\n",
       "  <th>Dep. Variable:</th>           <td>y</td>        <th>  No. Observations:  </th>   <td>2169</td>   \n",
       "</tr>\n",
       "<tr>\n",
       "  <th>Model:</th>           <td>SARIMAX(0, 1, 0)</td> <th>  Log Likelihood     </th> <td>-8591.260</td>\n",
       "</tr>\n",
       "<tr>\n",
       "  <th>Date:</th>            <td>Thu, 06 Jul 2023</td> <th>  AIC                </th> <td>17184.519</td>\n",
       "</tr>\n",
       "<tr>\n",
       "  <th>Time:</th>                <td>19:44:10</td>     <th>  BIC                </th> <td>17190.201</td>\n",
       "</tr>\n",
       "<tr>\n",
       "  <th>Sample:</th>                  <td>0</td>        <th>  HQIC               </th> <td>17186.597</td>\n",
       "</tr>\n",
       "<tr>\n",
       "  <th></th>                      <td> - 2169</td>     <th>                     </th>     <td> </td>    \n",
       "</tr>\n",
       "<tr>\n",
       "  <th>Covariance Type:</th>        <td>opg</td>       <th>                     </th>     <td> </td>    \n",
       "</tr>\n",
       "</table>\n",
       "<table class=\"simpletable\">\n",
       "<tr>\n",
       "     <td></td>       <th>coef</th>     <th>std err</th>      <th>z</th>      <th>P>|z|</th>  <th>[0.025</th>    <th>0.975]</th>  \n",
       "</tr>\n",
       "<tr>\n",
       "  <th>sigma2</th> <td>  162.0077</td> <td>    1.310</td> <td>  123.649</td> <td> 0.000</td> <td>  159.440</td> <td>  164.576</td>\n",
       "</tr>\n",
       "</table>\n",
       "<table class=\"simpletable\">\n",
       "<tr>\n",
       "  <th>Ljung-Box (L1) (Q):</th>     <td>0.17</td> <th>  Jarque-Bera (JB):  </th> <td>62080.31</td>\n",
       "</tr>\n",
       "<tr>\n",
       "  <th>Prob(Q):</th>                <td>0.68</td> <th>  Prob(JB):          </th>   <td>0.00</td>  \n",
       "</tr>\n",
       "<tr>\n",
       "  <th>Heteroskedasticity (H):</th> <td>1.47</td> <th>  Skew:              </th>   <td>0.39</td>  \n",
       "</tr>\n",
       "<tr>\n",
       "  <th>Prob(H) (two-sided):</th>    <td>0.00</td> <th>  Kurtosis:          </th>   <td>29.20</td> \n",
       "</tr>\n",
       "</table><br/><br/>Warnings:<br/>[1] Covariance matrix calculated using the outer product of gradients (complex-step)."
      ],
      "text/plain": [
       "<class 'statsmodels.iolib.summary.Summary'>\n",
       "\"\"\"\n",
       "                               SARIMAX Results                                \n",
       "==============================================================================\n",
       "Dep. Variable:                      y   No. Observations:                 2169\n",
       "Model:               SARIMAX(0, 1, 0)   Log Likelihood               -8591.260\n",
       "Date:                Thu, 06 Jul 2023   AIC                          17184.519\n",
       "Time:                        19:44:10   BIC                          17190.201\n",
       "Sample:                             0   HQIC                         17186.597\n",
       "                               - 2169                                         \n",
       "Covariance Type:                  opg                                         \n",
       "==============================================================================\n",
       "                 coef    std err          z      P>|z|      [0.025      0.975]\n",
       "------------------------------------------------------------------------------\n",
       "sigma2       162.0077      1.310    123.649      0.000     159.440     164.576\n",
       "===================================================================================\n",
       "Ljung-Box (L1) (Q):                   0.17   Jarque-Bera (JB):             62080.31\n",
       "Prob(Q):                              0.68   Prob(JB):                         0.00\n",
       "Heteroskedasticity (H):               1.47   Skew:                             0.39\n",
       "Prob(H) (two-sided):                  0.00   Kurtosis:                        29.20\n",
       "===================================================================================\n",
       "\n",
       "Warnings:\n",
       "[1] Covariance matrix calculated using the outer product of gradients (complex-step).\n",
       "\"\"\""
      ]
     },
     "execution_count": 30,
     "metadata": {},
     "output_type": "execute_result"
    }
   ],
   "source": [
    "auto_arima(renau_Itraxx['Itraxx Credit Spread'], start_p=1, start_q=1,\n",
    "                          max_p = None, max_q = None, seasonal = False,\n",
    "                          m=1, start_P = 1, max_P = None, start_Q = 1, \n",
    "                          max_Q = None, d=None, D=None, trace=True,\n",
    "                          error_action='ignore',  \n",
    "                          suppress_warnings=True,  \n",
    "                          stepwise=True).summary()"
   ]
  },
  {
   "cell_type": "markdown",
   "id": "ea8f247a",
   "metadata": {},
   "source": [
    "Nous avons vu dans le premier notebook comment interpréter le tableau de auto_arima. On voit ici que la série des spreads de crédit du DJ ITraxx X-over $\\sim$ $ARIMA(0,1,0)$. Cela était prévisible. Nous avons démontré également que cette série peut-etre modélisée par un $GARCH(1,1)$ et qu'un modèle $ARIMA$ n'était pas un modèle optimal des données."
   ]
  },
  {
   "cell_type": "code",
   "execution_count": 31,
   "id": "dbd418bf",
   "metadata": {},
   "outputs": [
    {
     "name": "stdout",
     "output_type": "stream",
     "text": [
      "Performing stepwise search to minimize aic\n",
      " ARIMA(1,1,1)(0,0,0)[0] intercept   : AIC=13622.406, Time=0.20 sec\n",
      " ARIMA(0,1,0)(0,0,0)[0] intercept   : AIC=13700.440, Time=0.02 sec\n",
      " ARIMA(1,1,0)(0,0,0)[0] intercept   : AIC=13638.420, Time=0.07 sec\n",
      " ARIMA(0,1,1)(0,0,0)[0] intercept   : AIC=13646.873, Time=0.14 sec\n",
      " ARIMA(0,1,0)(0,0,0)[0]             : AIC=13698.753, Time=0.02 sec\n",
      " ARIMA(2,1,1)(0,0,0)[0] intercept   : AIC=13623.844, Time=0.34 sec\n",
      " ARIMA(1,1,2)(0,0,0)[0] intercept   : AIC=13623.599, Time=0.26 sec\n",
      " ARIMA(0,1,2)(0,0,0)[0] intercept   : AIC=13637.358, Time=0.22 sec\n",
      " ARIMA(2,1,0)(0,0,0)[0] intercept   : AIC=13627.940, Time=0.09 sec\n",
      " ARIMA(2,1,2)(0,0,0)[0] intercept   : AIC=13608.818, Time=0.79 sec\n",
      " ARIMA(3,1,2)(0,0,0)[0] intercept   : AIC=13606.452, Time=1.02 sec\n",
      " ARIMA(3,1,1)(0,0,0)[0] intercept   : AIC=13618.290, Time=0.56 sec\n",
      " ARIMA(4,1,2)(0,0,0)[0] intercept   : AIC=13606.726, Time=1.78 sec\n",
      " ARIMA(3,1,3)(0,0,0)[0] intercept   : AIC=13607.364, Time=0.73 sec\n",
      " ARIMA(2,1,3)(0,0,0)[0] intercept   : AIC=13606.351, Time=0.93 sec\n",
      " ARIMA(1,1,3)(0,0,0)[0] intercept   : AIC=13614.148, Time=0.75 sec\n",
      " ARIMA(2,1,4)(0,0,0)[0] intercept   : AIC=13606.770, Time=2.02 sec\n",
      " ARIMA(1,1,4)(0,0,0)[0] intercept   : AIC=13614.117, Time=1.35 sec\n",
      " ARIMA(3,1,4)(0,0,0)[0] intercept   : AIC=13610.345, Time=2.06 sec\n",
      " ARIMA(2,1,3)(0,0,0)[0]             : AIC=13604.530, Time=0.56 sec\n",
      " ARIMA(1,1,3)(0,0,0)[0]             : AIC=13612.308, Time=0.38 sec\n",
      " ARIMA(2,1,2)(0,0,0)[0]             : AIC=13607.028, Time=0.35 sec\n",
      " ARIMA(3,1,3)(0,0,0)[0]             : AIC=13605.558, Time=0.42 sec\n",
      " ARIMA(2,1,4)(0,0,0)[0]             : AIC=13604.970, Time=1.20 sec\n",
      " ARIMA(1,1,2)(0,0,0)[0]             : AIC=13621.764, Time=0.15 sec\n",
      " ARIMA(1,1,4)(0,0,0)[0]             : AIC=13612.277, Time=0.66 sec\n",
      " ARIMA(3,1,2)(0,0,0)[0]             : AIC=13604.629, Time=0.52 sec\n",
      " ARIMA(3,1,4)(0,0,0)[0]             : AIC=13608.526, Time=1.09 sec\n",
      "\n",
      "Best model:  ARIMA(2,1,3)(0,0,0)[0]          \n",
      "Total fit time: 18.687 seconds\n"
     ]
    },
    {
     "data": {
      "text/html": [
       "<table class=\"simpletable\">\n",
       "<caption>SARIMAX Results</caption>\n",
       "<tr>\n",
       "  <th>Dep. Variable:</th>           <td>y</td>        <th>  No. Observations:  </th>   <td>2169</td>   \n",
       "</tr>\n",
       "<tr>\n",
       "  <th>Model:</th>           <td>SARIMAX(2, 1, 3)</td> <th>  Log Likelihood     </th> <td>-6796.265</td>\n",
       "</tr>\n",
       "<tr>\n",
       "  <th>Date:</th>            <td>Thu, 06 Jul 2023</td> <th>  AIC                </th> <td>13604.530</td>\n",
       "</tr>\n",
       "<tr>\n",
       "  <th>Time:</th>                <td>19:44:29</td>     <th>  BIC                </th> <td>13638.620</td>\n",
       "</tr>\n",
       "<tr>\n",
       "  <th>Sample:</th>                  <td>0</td>        <th>  HQIC               </th> <td>13616.996</td>\n",
       "</tr>\n",
       "<tr>\n",
       "  <th></th>                      <td> - 2169</td>     <th>                     </th>     <td> </td>    \n",
       "</tr>\n",
       "<tr>\n",
       "  <th>Covariance Type:</th>        <td>opg</td>       <th>                     </th>     <td> </td>    \n",
       "</tr>\n",
       "</table>\n",
       "<table class=\"simpletable\">\n",
       "<tr>\n",
       "     <td></td>       <th>coef</th>     <th>std err</th>      <th>z</th>      <th>P>|z|</th>  <th>[0.025</th>    <th>0.975]</th>  \n",
       "</tr>\n",
       "<tr>\n",
       "  <th>ar.L1</th>  <td>    0.8342</td> <td>    0.092</td> <td>    9.114</td> <td> 0.000</td> <td>    0.655</td> <td>    1.014</td>\n",
       "</tr>\n",
       "<tr>\n",
       "  <th>ar.L2</th>  <td>   -0.5219</td> <td>    0.058</td> <td>   -8.974</td> <td> 0.000</td> <td>   -0.636</td> <td>   -0.408</td>\n",
       "</tr>\n",
       "<tr>\n",
       "  <th>ma.L1</th>  <td>   -0.6857</td> <td>    0.091</td> <td>   -7.562</td> <td> 0.000</td> <td>   -0.863</td> <td>   -0.508</td>\n",
       "</tr>\n",
       "<tr>\n",
       "  <th>ma.L2</th>  <td>    0.4893</td> <td>    0.048</td> <td>   10.154</td> <td> 0.000</td> <td>    0.395</td> <td>    0.584</td>\n",
       "</tr>\n",
       "<tr>\n",
       "  <th>ma.L3</th>  <td>    0.1171</td> <td>    0.014</td> <td>    8.298</td> <td> 0.000</td> <td>    0.089</td> <td>    0.145</td>\n",
       "</tr>\n",
       "<tr>\n",
       "  <th>sigma2</th> <td>   30.9277</td> <td>    0.346</td> <td>   89.465</td> <td> 0.000</td> <td>   30.250</td> <td>   31.605</td>\n",
       "</tr>\n",
       "</table>\n",
       "<table class=\"simpletable\">\n",
       "<tr>\n",
       "  <th>Ljung-Box (L1) (Q):</th>     <td>0.00</td> <th>  Jarque-Bera (JB):  </th> <td>19208.30</td>\n",
       "</tr>\n",
       "<tr>\n",
       "  <th>Prob(Q):</th>                <td>0.99</td> <th>  Prob(JB):          </th>   <td>0.00</td>  \n",
       "</tr>\n",
       "<tr>\n",
       "  <th>Heteroskedasticity (H):</th> <td>3.06</td> <th>  Skew:              </th>   <td>0.37</td>  \n",
       "</tr>\n",
       "<tr>\n",
       "  <th>Prob(H) (two-sided):</th>    <td>0.00</td> <th>  Kurtosis:          </th>   <td>17.56</td> \n",
       "</tr>\n",
       "</table><br/><br/>Warnings:<br/>[1] Covariance matrix calculated using the outer product of gradients (complex-step)."
      ],
      "text/plain": [
       "<class 'statsmodels.iolib.summary.Summary'>\n",
       "\"\"\"\n",
       "                               SARIMAX Results                                \n",
       "==============================================================================\n",
       "Dep. Variable:                      y   No. Observations:                 2169\n",
       "Model:               SARIMAX(2, 1, 3)   Log Likelihood               -6796.265\n",
       "Date:                Thu, 06 Jul 2023   AIC                          13604.530\n",
       "Time:                        19:44:29   BIC                          13638.620\n",
       "Sample:                             0   HQIC                         13616.996\n",
       "                               - 2169                                         \n",
       "Covariance Type:                  opg                                         \n",
       "==============================================================================\n",
       "                 coef    std err          z      P>|z|      [0.025      0.975]\n",
       "------------------------------------------------------------------------------\n",
       "ar.L1          0.8342      0.092      9.114      0.000       0.655       1.014\n",
       "ar.L2         -0.5219      0.058     -8.974      0.000      -0.636      -0.408\n",
       "ma.L1         -0.6857      0.091     -7.562      0.000      -0.863      -0.508\n",
       "ma.L2          0.4893      0.048     10.154      0.000       0.395       0.584\n",
       "ma.L3          0.1171      0.014      8.298      0.000       0.089       0.145\n",
       "sigma2        30.9277      0.346     89.465      0.000      30.250      31.605\n",
       "===================================================================================\n",
       "Ljung-Box (L1) (Q):                   0.00   Jarque-Bera (JB):             19208.30\n",
       "Prob(Q):                              0.99   Prob(JB):                         0.00\n",
       "Heteroskedasticity (H):               3.06   Skew:                             0.37\n",
       "Prob(H) (two-sided):                  0.00   Kurtosis:                        17.56\n",
       "===================================================================================\n",
       "\n",
       "Warnings:\n",
       "[1] Covariance matrix calculated using the outer product of gradients (complex-step).\n",
       "\"\"\""
      ]
     },
     "execution_count": 31,
     "metadata": {},
     "output_type": "execute_result"
    }
   ],
   "source": [
    "auto_arima(renau_Itraxx['Renault Credit Spread'], start_p=1, start_q=1,\n",
    "                          max_p = None, max_q = None, seasonal = False,\n",
    "                          m=1, start_P = 1, max_P = None, start_Q = 1, \n",
    "                          max_Q = None, d=None, D=None, trace=True,\n",
    "                          error_action='ignore',  \n",
    "                          suppress_warnings=True,  \n",
    "                          stepwise=True).summary()"
   ]
  },
  {
   "cell_type": "markdown",
   "id": "cbe64cf3",
   "metadata": {},
   "source": [
    "En analysant attentivement les résultats de auto_arima pour les spreads de crédit de Renault, on remarque que **Prob(JB)** est $<$ à $0.05$ tandis que **Prob(Q)** est $>$ à $0.05$. On voit clairement que l'hypothèse de normalité des résidus est rejetée, hypothèse centrale et indispensable dans l'élaboration d'un bon modèle mathématique. Ce qui signifie que le modèle $ARIMA(2,1,3)$ que nous retourne auto_arima n'est pas vérifiée et ne convient pas aux données. On peut clairement le vérifier avec la méthode .plot_diagnostics()"
   ]
  },
  {
   "cell_type": "code",
   "execution_count": 32,
   "id": "97f8928e",
   "metadata": {},
   "outputs": [
    {
     "name": "stdout",
     "output_type": "stream",
     "text": [
      "Performing stepwise search to minimize aic\n",
      " ARIMA(1,1,1)(0,0,0)[0] intercept   : AIC=13622.406, Time=0.27 sec\n",
      " ARIMA(0,1,0)(0,0,0)[0] intercept   : AIC=13700.440, Time=0.03 sec\n",
      " ARIMA(1,1,0)(0,0,0)[0] intercept   : AIC=13638.420, Time=0.08 sec\n",
      " ARIMA(0,1,1)(0,0,0)[0] intercept   : AIC=13646.873, Time=0.14 sec\n",
      " ARIMA(0,1,0)(0,0,0)[0]             : AIC=13698.753, Time=0.02 sec\n",
      " ARIMA(2,1,1)(0,0,0)[0] intercept   : AIC=13623.844, Time=0.34 sec\n",
      " ARIMA(1,1,2)(0,0,0)[0] intercept   : AIC=13623.599, Time=0.26 sec\n",
      " ARIMA(0,1,2)(0,0,0)[0] intercept   : AIC=13637.358, Time=0.22 sec\n",
      " ARIMA(2,1,0)(0,0,0)[0] intercept   : AIC=13627.940, Time=0.10 sec\n",
      " ARIMA(2,1,2)(0,0,0)[0] intercept   : AIC=13608.818, Time=0.80 sec\n",
      " ARIMA(3,1,2)(0,0,0)[0] intercept   : AIC=13606.452, Time=0.91 sec\n",
      " ARIMA(3,1,1)(0,0,0)[0] intercept   : AIC=13618.290, Time=0.57 sec\n",
      " ARIMA(4,1,2)(0,0,0)[0] intercept   : AIC=13606.726, Time=1.80 sec\n",
      " ARIMA(3,1,3)(0,0,0)[0] intercept   : AIC=13607.364, Time=0.68 sec\n",
      " ARIMA(2,1,3)(0,0,0)[0] intercept   : AIC=13606.351, Time=0.91 sec\n",
      " ARIMA(1,1,3)(0,0,0)[0] intercept   : AIC=13614.148, Time=0.75 sec\n",
      " ARIMA(2,1,4)(0,0,0)[0] intercept   : AIC=13606.770, Time=2.03 sec\n",
      " ARIMA(1,1,4)(0,0,0)[0] intercept   : AIC=13614.117, Time=1.36 sec\n",
      " ARIMA(3,1,4)(0,0,0)[0] intercept   : AIC=13610.345, Time=2.05 sec\n",
      " ARIMA(2,1,3)(0,0,0)[0]             : AIC=13604.530, Time=0.53 sec\n",
      " ARIMA(1,1,3)(0,0,0)[0]             : AIC=13612.308, Time=0.38 sec\n",
      " ARIMA(2,1,2)(0,0,0)[0]             : AIC=13607.028, Time=0.36 sec\n",
      " ARIMA(3,1,3)(0,0,0)[0]             : AIC=13605.558, Time=0.41 sec\n",
      " ARIMA(2,1,4)(0,0,0)[0]             : AIC=13604.970, Time=1.09 sec\n",
      " ARIMA(1,1,2)(0,0,0)[0]             : AIC=13621.764, Time=0.14 sec\n",
      " ARIMA(1,1,4)(0,0,0)[0]             : AIC=13612.277, Time=0.50 sec\n",
      " ARIMA(3,1,2)(0,0,0)[0]             : AIC=13604.629, Time=0.55 sec\n",
      " ARIMA(3,1,4)(0,0,0)[0]             : AIC=13608.526, Time=0.99 sec\n",
      "\n",
      "Best model:  ARIMA(2,1,3)(0,0,0)[0]          \n",
      "Total fit time: 18.255 seconds\n"
     ]
    },
    {
     "data": {
      "image/png": "[encoded data removed]",
      "text/plain": [
       "<Figure size 1080x720 with 4 Axes>"
      ]
     },
     "metadata": {
      "needs_background": "light"
     },
     "output_type": "display_data"
    }
   ],
   "source": [
    "auto_arima(renau_Itraxx['Renault Credit Spread'], start_p=1, start_q=1,\n",
    "                          max_p = None, max_q = None, seasonal = False,\n",
    "                          m=1, start_P = 1, max_P = None, start_Q = 1, \n",
    "                          max_Q = None, d=None, D=None, trace=True,\n",
    "                          error_action='ignore',  \n",
    "                          suppress_warnings=True,  \n",
    "                          stepwise=True).plot_diagnostics(figsize=(15,10));"
   ]
  },
  {
   "cell_type": "markdown",
   "id": "37b76baf",
   "metadata": {},
   "source": [
    "Tout comme les spreads de crédit du DJ Itraxx X-over, une modélisation $GARCH$ s'avère nécessaire pour ces séries temporelles. Cet exemple nous montre clairement la difficulté de modéliser des séries temporelles financières avec des modèles de type $ARIMA$ ou $VARMA$. Les séries temporelles financières ont des propriétés assez complexes qui nécessitent des modèles spécifiques. Comme on l'a vu dans le notebook 1, pour prédire des séries temporelles, le court terme est le mieux car les séries temporelles financières étant des sytèmes ouverts donc soumis à tout type de perturbations externes, les modèles mathématiques, meme les plus sophistiqués, captent mal cet aléatoire. C'est pour cela que pour prédire des séries temporelles en finance, il faut toujours se projéter dans le court-terme.\n",
    "\n",
    "On vient de voir que meme avec auto_arima, un modèle de type $VARMA$ était assez complexe a déterminer comme tenu du fait que les modèles de type $ARIMA$ fittent très mal les données. Une question se pose donc : Étant donné que le modèle de type $VARMA$ semble complexe et non adapté dans notre cas, comment modéliser alors notre série temporelle bivariée pour tenir compte conjointement de l'intéraction entre les spreads de crédit de Renault et celles du DJ Itraxx X-over ? En effet, un modèle $GARCH$ vectoriel semble compliqué et contient trop de paramètres. D'un autre coté, les modèles de type $ARIMA/VARMA$ nous donnent un controle et une compréhension des paramètres. C'est ainsi que l'on peut vérifier si oui ou non notre modèle est bon ou pas, s'il les paramètres sont significatifs ou non, si des tests statistiques sont vérifiés ou non, etc....\n",
    "\n",
    "\n",
    "Toutes ces questions nous font donc entamer la partie finale de ce projet qui est l'avènement et l'utilisation des méthodes d'apprentissage automatique en finance. Ces dernières années, les méthodes de machine learning/deep learning ont permis de résoudre les problèmes les plus complexes qui soient, d'approximer des fonctions jusque là théoriquement complexes et de substituer souvent, des méthodes de monte-carlo. Dans cette partie par conséquent, nous allons modéliser et prédire notre série temporelle multivariée avec des modèles de deep learning. Le revers de la médaille en utilisant de telles méthodes est que l'on fait un sacrifice sur le controle et la compréhension du modèle au profit des résultats qu'ils nous fournit. Par conséquent, nous n'avons aucun controle sur les paramètres qu'apprend notre réseau de neurones."
   ]
  },
  {
   "cell_type": "markdown",
   "id": "3265a724",
   "metadata": {},
   "source": [
    "#### DEEP LEARNING EN THÉORIE DES SÉRIES TEMPORELLES "
   ]
  },
  {
   "cell_type": "markdown",
   "id": "e91db977",
   "metadata": {},
   "source": [
    "**Pourquoi le deep learning est valable pour modéliser des séries temporelles financières ou des séries temporelles tout court ?**\n",
    "\n",
    "Deux raisons majeures justifient cette possibilité : \n",
    "\n",
    "- Une raison heuristique : Dans le deep learning par exemple, il existe une architecture de réseaux de neurones qui permet de modéliser des données séquentielles. Il s'agit des réseaux de neurones récurrents ou RNN ( Recurrent Neural Networks ) et des LSTM ( Long Short Term Memory ). Ces architectures permettent de modéliser des données dites chronologiques, par exemple du texte. Mais vu qu'une série temporelle est une séquence ordonnée d'observations chronologiques dans le temps, c'est la raison majeure pour laquelle le deep learning est utilisé en série temporelle. Le type de données que l'on veut modéliser correspond à une architecture prédéfinie existante qui lui est propre.\n",
    "\n",
    "\n",
    "\n",
    "- Une raison mathématique : Théorème ( Appoximation universelle dans $L2$, Hornick $91$ ) : Soit $\\sigma$ fonction d'activation bornée. Soit $\\mu$ une mesure de proba sur $\\mathbb{R}^\\alpha$, alors pour tout $L \\geq 2$, $\\mathcal{NN}_{\\infty}$ est dense dans $L^2\\left(\\mathbb{R}^a,\\mu \\right)$, ou $\\mathcal{NN}_{\\infty}$ représente l'ensemble des réseaux de neurones à $k$ couches et $\\mathcal{NN}_{\\infty}=\\bigcup_{m \\geqslant 1} \\mathcal{NN}_{m}$ et $\\mathcal{NN}_{m}$ représente un réseaux de neurones consitiués de $m$ neurones par couches. \n",
    "\n",
    "Mathématiquement parlant, toute variable aléatoire $L^P$ peut etre approximée par un réseau de neurones de $k$ couches avec au moins un neurone par couche. C'est ce qui justifie rigoureusement que l'on puisse calculer par exemple le prix de produits dérivés avec du deep learning car les payoffs sont dans $L^P$ et par un résultat de la théorie de la mésure, $L^P \\subset L^2$, pour $P > 2$, donc approximable par un réseau de neurones. C'est ce qui justifie également que l'on modélise plusieurs phénomènes en Data Science avec des réseaux de neurones puisque les phénomènes que l'on étudie peuvent etre représentés par une fonction suffisamment régulière et dont le moment d'ordre $P$ est défini : Par exemple le texte, les vidéos, les audios, les prix de l'immobilier, etc...Tous ces phénomènes peuvent etre représentés comme des réalisations de variables aléatoires dont leurs moments d'ordre $P$ sont bien définis et par le théorème de Hornick, on peut l'approximer par du deep learning. Dans notre cas particulièrement, on voit triviallement que l'on peut utiliser du deep learning pour modéliser notre série temporelle multivariée.\n",
    "\n",
    "Sans plus tarder, voyons comment nous pouvons créer des réseaux de neurones dans la pratique"
   ]
  },
  {
   "cell_type": "markdown",
   "id": "28cc5a0b",
   "metadata": {},
   "source": [
    "**Comment créer des architectures de réseaux de neurones de manière pratique ?**\n",
    "\n",
    "Pour créer des réseaux de neurones de manière pratique, il existe des frameworks dans des langages de programmation que l'on peut utiliser et qui sont vraiment optimisés. Parmi ces langages de programmation, nous pouvons citer R, Python et Java. Notons que Python est parmi ces derniers, le langage le plus populaire pour faire du deep learning car ce dernier contient les packages les plus matures et les plus optimisés pour l'intelligence artificielle, notamment les réseaux de neurones.\n",
    "\n",
    "Il existe deux frameworks de deep learning majeurs en Python : \n",
    "\n",
    "- <a href='https://www.tensorflow.org/?hl=fr'>Tensorflow</a> : C'est une librairie qui a été créée par Google. Tensorflow est un framework optimisé et écrit en C++ haute performance qui permet de créer des modèles de deep learning assez complexes en très peu de temps. L'une des forces majeures de Tensorflow est qu'il a été le premier framework de deep learning à voir le jour sur Python et a été très appréciée de la communauté. Une autre force majeure de Tensorflow est qu'il permet de faire du déploiement de modèle de machine learning depuis la conception jusqu'à la production. Par conséquent, Tensorflow est un framework très orienté vers les entreprises, car il dispose de plusieurs outils de productivité non négligeables, est accessible, scalable, et compatible avec plusieurs autres librairies de machine learning. Ce fut l'une des premières à avoir été sur le marché et certaines entreprises comme Coca-Cola, Uber, Spotify l'utilisent dans leurs modèles de recommendations de produits et de services. \n",
    "\n",
    "\n",
    "- Les + de Tensorflow : \n",
    "     - Populaire donc facile a débugger \n",
    "     - Nous donne un niveau de controle plus soutenu de notre code car tient compte des détails\n",
    "     - Scalable, éfficient, optimisé\n",
    "     - Orienté vers la production \n",
    "     - Plusieurs modèles prèts à l'utilisation et a l'emploi \n",
    "     - Plusieurs bibliothèques prédéfinies éfficientes\n",
    "     - Présente sur le cloud\n",
    "     \n",
    "- Les - de Tensorflow : \n",
    "     - Prise en main non évidente\n",
    "     - Langage de bas niveau mais facilité par Keras\n",
    "     - Difficilement customisable\n",
    "     - Classes et fonctions assez fastidieuses pour implémenter un modèle de recherche\n",
    "\n",
    "\n",
    "\n",
    "- <a href='https://pytorch.org'>Pytorch</a> : Pytorch a été une librairie dévéloppée par Facebook/META. Contrairement à Tensorflow, Pytorch a fait grandement sensation car il est plus \"Pythonic\" que Tensorflow. Ce que l'on entend par la, c'est que Pytorch nous permet de faire du deep learning mais en gardant les synthaxes de code le plus proche possible de Python, notamment numpy, de telle sorte que quelqu'un qui sait déjà coder en Python puisse le prendre en main très aisément. En ce sens, Tensorflow est en deep learning ce que C++ est aux langages de programmation et Pytorch est en deep learning ce que Python est aux langages de programmation : flexibilité, facilité, scalabilité et surtout un point qui a contribué au succès de Pytorch : **la customisation**. Pytorch est un des rares frameworks de deep learning que l'on peut customiser selon nos besoins et selon le contexte de modélisation dans lequel on se trouve. Par exemple Pytorch nous permet de combiner aisément plusieurs architectures de réseaux de neurones en un seul, nous permet de définir nous meme la \"loss function\" qui sied le plus a nos données, etc... Pytorch utilise également la programmation orientée objet qui permet de rendre scalable et flexible notre code. C'est la raison majeure pour laquelle Pytorch est beaucoup plus un framework de recherche en deep learning. C'est aussi la raison pourquoi il est très prisé et utilisé par les universitaires et les chercheurs en intelligence artificielle. À titre d'exemple, les modèles de recherches les plus récents en deep learning sont tous implémentés en Pytorch.\n",
    "\n",
    "\n",
    "- Les + de Pytorch : \n",
    "    - Synthaxe de code agréable, facile à implémenter et à debugger\n",
    "    - Customisable, éfficient, scalable\n",
    "    - Récents modèles de deep learning implémentés et implémentables facilement \n",
    "    - Programmation orientée objet \n",
    "    - Tout est controlable, modulable\n",
    "    - Forte communauté\n",
    "    - Présente sur le cloud\n",
    "    \n",
    "- Les - de Pytorch : \n",
    "     - Très peu de modèles prédéfinies prètes à l'emploi : Tout doit etre customisée et fait par l'utilisateur \n",
    "     \n",
    "     \n",
    "     \n",
    "Dans la suite de notre étude, nous allons utiliser Tensorflow qui a nos yeux contient les fonctions et librairies les plus pertinentes pour manipuler et modéliser les séries temporelles contrairement à Pytorch. "
   ]
  },
  {
   "cell_type": "code",
   "execution_count": 33,
   "id": "e9a5aa47",
   "metadata": {},
   "outputs": [],
   "source": [
    "import tensorflow as tf"
   ]
  },
  {
   "cell_type": "markdown",
   "id": "cf57de83",
   "metadata": {},
   "source": [
    "Vérifions si Tensorflow a bien accès au calcul accéléré via un processeur graphique. C'est une composante métallique d'un ordinateur qui permet d'accélérer les calculs graphiques des tenseurs de deep learning."
   ]
  },
  {
   "cell_type": "code",
   "execution_count": 34,
   "id": "1e0ffffb",
   "metadata": {},
   "outputs": [
    {
     "data": {
      "text/plain": [
       "[PhysicalDevice(name='/physical_device:CPU:0', device_type='CPU'),\n",
       " PhysicalDevice(name='/physical_device:GPU:0', device_type='GPU')]"
      ]
     },
     "execution_count": 34,
     "metadata": {},
     "output_type": "execute_result"
    }
   ],
   "source": [
    "tf.config.list_physical_devices()"
   ]
  },
  {
   "cell_type": "markdown",
   "id": "194660ca",
   "metadata": {},
   "source": [
    "Tensorflow a bien accès a un accelérateur de calculs. On peut donc tourner sereinement notre modèle. "
   ]
  },
  {
   "cell_type": "markdown",
   "id": "80d3af1e",
   "metadata": {},
   "source": [
    "**Train Test Split**\n",
    "\n",
    "Comme vu dans le notebook 1, nous devons séparer nos données en deux : Une base d'entrainement et une base de test pour tester la performance de notre modèle et en considérant l'ordre chronologique de la série temporelle. Comme précédemment, nous avons considéré dans notre base de test 50 jours succéssifs des cours des spreads de crédit. "
   ]
  },
  {
   "cell_type": "code",
   "execution_count": 35,
   "id": "18cad749",
   "metadata": {},
   "outputs": [],
   "source": [
    "train = renau_Itraxx.iloc[:-50]\n",
    "test = renau_Itraxx.iloc[-50:]"
   ]
  },
  {
   "cell_type": "markdown",
   "id": "633349bf",
   "metadata": {},
   "source": [
    "Les réseaux de neurones sont connues pour bien performer avec des données normalisées. Pour ce faire, nous devons normaliser nos données afin d'obtenir des performances vraiment acceptables et éviter tout biais. Nous utilisons la \n",
    "fonction MinMaxScaler de scikit-learn."
   ]
  },
  {
   "cell_type": "code",
   "execution_count": 36,
   "id": "581da2b9",
   "metadata": {},
   "outputs": [],
   "source": [
    "from sklearn.preprocessing import MinMaxScaler"
   ]
  },
  {
   "cell_type": "markdown",
   "id": "4d00591c",
   "metadata": {},
   "source": [
    "Lorsque l'on veut toujours normaliser nos données en machine learning, il est important de vérifier deux étapes : \n",
    "\n",
    "- fitter la donnée d'entrainement \n",
    "\n",
    "- Transformer à la fois la donnée d'entrainement et la donnée de test.\n",
    "\n",
    "Il ne faut jamais fitter la donnée de test pour éviter des biais et des erreurs dans le modèle."
   ]
  },
  {
   "cell_type": "code",
   "execution_count": 37,
   "id": "72476afc",
   "metadata": {},
   "outputs": [
    {
     "data": {
      "text/plain": [
       "MinMaxScaler()"
      ]
     },
     "execution_count": 37,
     "metadata": {},
     "output_type": "execute_result"
    }
   ],
   "source": [
    "scaler = MinMaxScaler()\n",
    "\n",
    "scaler.fit(train)"
   ]
  },
  {
   "cell_type": "code",
   "execution_count": 38,
   "id": "c35c9b1a",
   "metadata": {},
   "outputs": [],
   "source": [
    "scaled_train = scaler.transform(train)\n",
    "scaled_test = scaler.transform(test)"
   ]
  },
  {
   "cell_type": "markdown",
   "id": "a98e80b7",
   "metadata": {},
   "source": [
    "Une fois les données normalisées, nous devons encore faire une étape indispensable. Vu que nous possédons des données séquentielles et que vous voulons que notre réseau de neurones apprenne correctement les relations qui lient nos données, nous devons formater et préprocesser correctement la donnée dans ce sens. \n",
    "\n",
    "Par formater et préprocesser, nous entendons que nous devons transformer nos données séquentielles en un problème de machine learning supervisé, donc en deux bases : Une base d'observations qui pourra contenir le nombre de jours d'observations succéssifs de notre choix et servira de variables explicatives et de socle pour prédire cette fois des observations correspondantes au nombre de séries temporelles individuelles qui constituent notre série multivariée. Autrement dit, dans notre exemple, nous avons une série temporelle bivariée, donc deux séries temporelles qui intéragissent simultanément. Préprocesser nos données dans notre cas revient à choisir stratégiquement de manière séquentielle comme matrice X, le nombre d'observations que l'on souhaite avoir comme historique et comme matrice y, le couple de points correspondants à la suite séquentielle de notre historique de départ puisque nous avons deux séries temporelles, donc un couple de points. \n",
    "\n",
    "Contrairement à Pytorch, Tensorflow le fait aisément car disposant de librairies prédéfinies à cet effet. En Pytorch, on aurait du coder la méthode elle meme en évitant au maximum les boucles pour éviter d'avoir des temps assez longs sur de grosses bases de données. On peut le faire de manière éfficiente en numpy également."
   ]
  },
  {
   "cell_type": "code",
   "execution_count": 39,
   "id": "832de61e",
   "metadata": {},
   "outputs": [],
   "source": [
    "from tensorflow.keras.preprocessing.sequence import TimeseriesGenerator"
   ]
  },
  {
   "cell_type": "markdown",
   "id": "b3ee0a5e",
   "metadata": {},
   "source": [
    "Nous avons choisi arbitrairement 1 semaine donc 7 jours de données historiques séquentielles et consécutives pour prédire un couple de points correspondant aux observations simultanées des spreads du DJ Itraxx et celles de Renault. "
   ]
  },
  {
   "cell_type": "code",
   "execution_count": 40,
   "id": "137fb169",
   "metadata": {},
   "outputs": [],
   "source": [
    "length = 7 \n",
    "batch_size = 1 \n",
    "generator = TimeseriesGenerator(scaled_train, scaled_train, length=length, batch_size=batch_size)"
   ]
  },
  {
   "cell_type": "code",
   "execution_count": 41,
   "id": "73f9d040",
   "metadata": {},
   "outputs": [
    {
     "data": {
      "text/plain": [
       "2112"
      ]
     },
     "execution_count": 41,
     "metadata": {},
     "output_type": "execute_result"
    }
   ],
   "source": [
    "len(generator) "
   ]
  },
  {
   "cell_type": "code",
   "execution_count": 42,
   "id": "f5c0e256",
   "metadata": {},
   "outputs": [],
   "source": [
    "X,y = generator[0]"
   ]
  },
  {
   "cell_type": "code",
   "execution_count": 43,
   "id": "56405003",
   "metadata": {},
   "outputs": [
    {
     "name": "stdout",
     "output_type": "stream",
     "text": [
      "Chaque colonne du tableau:\n",
      "[[[0.18035703 0.10662429]\n",
      "  [0.21597256 0.1136801 ]\n",
      "  [0.23645149 0.11656656]\n",
      "  [0.22220528 0.11260132]\n",
      "  [0.18748014 0.10805295]\n",
      "  [0.2052879  0.10971485]\n",
      "  [0.19371286 0.11467141]]]\n",
      "permet de prédire de manière séquentielle chaque colonne du tableau:\n",
      "[[0.19193208 0.11467141]]\n"
     ]
    }
   ],
   "source": [
    "print(f'Chaque colonne du tableau:\\n{X}')\n",
    "print(f'permet de prédire de manière séquentielle chaque colonne du tableau:\\n{y}')"
   ]
  },
  {
   "cell_type": "markdown",
   "id": "32afca78",
   "metadata": {},
   "source": [
    "Nos données sont prètes. Elles sont normalisées et se présentent sous forme de données de machine learning supervisés. Nous avons la matrice X qui représente la matrice des observations des variables explicatives et la matrice y qui représente les valeurs obtenues. Nous pouvons donc tourner notre modèle de deep learning. \n",
    "\n",
    "Notre modèle de deep learning consistera en un modèle de LSTM car c'est l'architecture le mieux adapté pour nos données. En effet, en traitement de texte, les LSTM sont très utilisés pour tenir compte de la mémoire à court terme des mots. Ce qui produit des résultats vraiment incroyables. Dans notre cas, les LSTM tiendront compte de la mémoire à court terme de nos observations des spreads de crédit."
   ]
  },
  {
   "cell_type": "code",
   "execution_count": 44,
   "id": "746a6074",
   "metadata": {},
   "outputs": [],
   "source": [
    "import tensorflow\n",
    "from tensorflow.keras.models import Sequential\n",
    "from tensorflow.keras import layers\n",
    "from tensorflow.keras.layers import Dense,LSTM"
   ]
  },
  {
   "cell_type": "code",
   "execution_count": 45,
   "id": "2e50b013",
   "metadata": {},
   "outputs": [
    {
     "data": {
      "text/plain": [
       "(2119, 2)"
      ]
     },
     "execution_count": 45,
     "metadata": {},
     "output_type": "execute_result"
    }
   ],
   "source": [
    "scaled_train.shape"
   ]
  },
  {
   "cell_type": "markdown",
   "id": "9ae25d11",
   "metadata": {},
   "source": [
    "On construit notre modèle en Tensorflow."
   ]
  },
  {
   "cell_type": "code",
   "execution_count": 46,
   "id": "a742e404",
   "metadata": {},
   "outputs": [
    {
     "name": "stdout",
     "output_type": "stream",
     "text": [
      "Metal device set to: Apple M1\n"
     ]
    },
    {
     "name": "stderr",
     "output_type": "stream",
     "text": [
      "2023-07-06 19:44:51.266807: I tensorflow/core/common_runtime/pluggable_device/pluggable_device_factory.cc:305] Could not identify NUMA node of platform GPU ID 0, defaulting to 0. Your kernel may not have been built with NUMA support.\n",
      "2023-07-06 19:44:51.267150: I tensorflow/core/common_runtime/pluggable_device/pluggable_device_factory.cc:271] Created TensorFlow device (/job:localhost/replica:0/task:0/device:GPU:0 with 0 MB memory) -> physical PluggableDevice (device: 0, name: METAL, pci bus id: <undefined>)\n"
     ]
    }
   ],
   "source": [
    "tensorflow.random.set_seed(42)\n",
    "\n",
    "# Définir les entrées, supposer que l'entrée est déjà 3D (batch_size, timesteps, features)\n",
    "entrees = layers.Input(shape=(length, scaled_train.shape[1]))\n",
    "\n",
    "# Ajouter une couche LSTM\n",
    "x = layers.LSTM(128)(entrees)\n",
    "\n",
    "# Couche de sortie\n",
    "sortie = layers.Dense(scaled_train.shape[1])(x)\n",
    "\n",
    "# Créer le modèle\n",
    "model = tf.keras.Model(inputs=entrees, outputs=sortie)\n",
    "\n",
    "# Compiler le modèle\n",
    "model.compile(loss=\"mse\",\n",
    "                  optimizer=tf.keras.optimizers.Adam())"
   ]
  },
  {
   "cell_type": "markdown",
   "id": "020384e2",
   "metadata": {},
   "source": [
    "On affiche le summary ou le modèle que l'on s'apprète à tourner. On peut voir que notre modèle de DL contient 67.330 paramètres à estimer. C'est énorme ! C'est la raison pour laquelle on disait précédemment que l'on accepte de sacrifier l'interprétabilité de nos modèles au profit des résultats du réseau de neurones. Utiliser un réseau de neurones implique l'estimation d'énormément de paramètres. La contrepartie est qu'il nous donne de très bons résultats a la sortie."
   ]
  },
  {
   "cell_type": "code",
   "execution_count": 47,
   "id": "7b25e7a8",
   "metadata": {},
   "outputs": [
    {
     "name": "stdout",
     "output_type": "stream",
     "text": [
      "Model: \"model\"\n",
      "_________________________________________________________________\n",
      " Layer (type)                Output Shape              Param #   \n",
      "=================================================================\n",
      " input_1 (InputLayer)        [(None, 7, 2)]            0         \n",
      "                                                                 \n",
      " lstm (LSTM)                 (None, 128)               67072     \n",
      "                                                                 \n",
      " dense (Dense)               (None, 2)                 258       \n",
      "                                                                 \n",
      "=================================================================\n",
      "Total params: 67,330\n",
      "Trainable params: 67,330\n",
      "Non-trainable params: 0\n",
      "_________________________________________________________________\n"
     ]
    }
   ],
   "source": [
    "model.summary()"
   ]
  },
  {
   "cell_type": "code",
   "execution_count": 48,
   "id": "a0865772",
   "metadata": {},
   "outputs": [],
   "source": [
    "from tensorflow.keras.callbacks import EarlyStopping\n",
    "early_stop = EarlyStopping(monitor='val_loss',patience=2)\n",
    "validation_generator = TimeseriesGenerator(scaled_test,scaled_test, \n",
    "                                           length=length, batch_size=batch_size)"
   ]
  },
  {
   "cell_type": "markdown",
   "id": "5f420144",
   "metadata": {},
   "source": [
    "On fitte le modèle."
   ]
  },
  {
   "cell_type": "code",
   "execution_count": 49,
   "id": "cda67dfb",
   "metadata": {
    "scrolled": true
   },
   "outputs": [
    {
     "name": "stdout",
     "output_type": "stream",
     "text": [
      "Epoch 1/10\n"
     ]
    },
    {
     "name": "stderr",
     "output_type": "stream",
     "text": [
      "2023-07-06 19:44:51.706426: W tensorflow/core/platform/profile_utils/cpu_utils.cc:128] Failed to get CPU frequency: 0 Hz\n",
      "2023-07-06 19:44:52.748249: I tensorflow/core/grappler/optimizers/custom_graph_optimizer_registry.cc:113] Plugin optimizer for device_type GPU is enabled.\n",
      "2023-07-06 19:44:52.934980: I tensorflow/core/grappler/optimizers/custom_graph_optimizer_registry.cc:113] Plugin optimizer for device_type GPU is enabled.\n",
      "2023-07-06 19:44:53.138141: I tensorflow/core/grappler/optimizers/custom_graph_optimizer_registry.cc:113] Plugin optimizer for device_type GPU is enabled.\n"
     ]
    },
    {
     "name": "stdout",
     "output_type": "stream",
     "text": [
      "2108/2112 [============================>.] - ETA: 0s - loss: 0.0021"
     ]
    },
    {
     "name": "stderr",
     "output_type": "stream",
     "text": [
      "2023-07-06 19:45:19.443707: I tensorflow/core/grappler/optimizers/custom_graph_optimizer_registry.cc:113] Plugin optimizer for device_type GPU is enabled.\n",
      "2023-07-06 19:45:19.507180: I tensorflow/core/grappler/optimizers/custom_graph_optimizer_registry.cc:113] Plugin optimizer for device_type GPU is enabled.\n"
     ]
    },
    {
     "name": "stdout",
     "output_type": "stream",
     "text": [
      "2112/2112 [==============================] - 28s 13ms/step - loss: 0.0021 - val_loss: 0.0010\n",
      "Epoch 2/10\n",
      "2112/2112 [==============================] - 26s 12ms/step - loss: 8.9730e-04 - val_loss: 0.0018\n",
      "Epoch 3/10\n",
      "2112/2112 [==============================] - 26s 12ms/step - loss: 6.6180e-04 - val_loss: 5.5231e-04\n",
      "Epoch 4/10\n",
      "2112/2112 [==============================] - 27s 13ms/step - loss: 5.9081e-04 - val_loss: 4.9027e-04\n",
      "Epoch 5/10\n",
      "2112/2112 [==============================] - 26s 12ms/step - loss: 5.5770e-04 - val_loss: 0.0013\n",
      "Epoch 6/10\n",
      "2112/2112 [==============================] - 26s 12ms/step - loss: 5.3446e-04 - val_loss: 4.3457e-04\n",
      "Epoch 7/10\n",
      "2112/2112 [==============================] - 26s 12ms/step - loss: 5.3897e-04 - val_loss: 3.9542e-04\n",
      "Epoch 8/10\n",
      "2112/2112 [==============================] - 26s 12ms/step - loss: 5.0838e-04 - val_loss: 4.7041e-04\n",
      "Epoch 9/10\n",
      "2112/2112 [==============================] - 26s 12ms/step - loss: 5.0982e-04 - val_loss: 6.9037e-04\n"
     ]
    },
    {
     "data": {
      "text/plain": [
       "<keras.callbacks.History at 0x297bc4580>"
      ]
     },
     "execution_count": 49,
     "metadata": {},
     "output_type": "execute_result"
    }
   ],
   "source": [
    "model.fit_generator(generator,epochs=10,\n",
    "                    validation_data=validation_generator,\n",
    "                   callbacks=[early_stop])"
   ]
  },
  {
   "cell_type": "code",
   "execution_count": 50,
   "id": "a47c424c",
   "metadata": {},
   "outputs": [
    {
     "data": {
      "text/plain": [
       "dict_keys(['loss', 'val_loss'])"
      ]
     },
     "execution_count": 50,
     "metadata": {},
     "output_type": "execute_result"
    }
   ],
   "source": [
    "model.history.history.keys()"
   ]
  },
  {
   "cell_type": "markdown",
   "id": "1999f1d0",
   "metadata": {},
   "source": [
    "On représente graphiquement l'erreur ou losses calculée durant la phase d'entrainement."
   ]
  },
  {
   "cell_type": "code",
   "execution_count": 51,
   "id": "424090e6",
   "metadata": {},
   "outputs": [
    {
     "data": {
      "image/png": "[encoded data removed]",
      "text/plain": [
       "<Figure size 1080x720 with 1 Axes>"
      ]
     },
     "metadata": {
      "needs_background": "light"
     },
     "output_type": "display_data"
    }
   ],
   "source": [
    "losses = pd.DataFrame(model.history.history)\n",
    "losses.plot(figsize=(15,10))\n",
    "plt.show()"
   ]
  },
  {
   "cell_type": "markdown",
   "id": "646a84cb",
   "metadata": {},
   "source": [
    "On fait des prédictions avec notre modèle pour le comparer avec les données de test. "
   ]
  },
  {
   "cell_type": "code",
   "execution_count": 52,
   "id": "abebdfa2",
   "metadata": {},
   "outputs": [
    {
     "name": "stderr",
     "output_type": "stream",
     "text": [
      "2023-07-06 19:48:50.386495: I tensorflow/core/grappler/optimizers/custom_graph_optimizer_registry.cc:113] Plugin optimizer for device_type GPU is enabled.\n",
      "2023-07-06 19:48:50.436405: I tensorflow/core/grappler/optimizers/custom_graph_optimizer_registry.cc:113] Plugin optimizer for device_type GPU is enabled.\n"
     ]
    }
   ],
   "source": [
    "n_features = scaled_train.shape[1]\n",
    "test_predictions = []\n",
    "\n",
    "first_eval_batch = scaled_train[-length:]\n",
    "current_batch = first_eval_batch.reshape((1, length, n_features))\n",
    "\n",
    "for i in range(len(test)):\n",
    "    \n",
    "   \n",
    "    current_pred = model.predict(current_batch)[0]\n",
    "    \n",
    "    \n",
    "    test_predictions.append(current_pred) \n",
    "    \n",
    "    \n",
    "    current_batch = np.append(current_batch[:,1:,:],[[current_pred]],axis=1)"
   ]
  },
  {
   "cell_type": "markdown",
   "id": "7be83f8b",
   "metadata": {},
   "source": [
    "N'oublions pas de faire une transformation inverse pour revenir aux observations de départs car nous avons normalisé nos données"
   ]
  },
  {
   "cell_type": "code",
   "execution_count": 53,
   "id": "7c0b4706",
   "metadata": {},
   "outputs": [],
   "source": [
    "true_predictions = scaler.inverse_transform(test_predictions)"
   ]
  },
  {
   "cell_type": "markdown",
   "id": "88360ccf",
   "metadata": {},
   "source": [
    "Affichons la base de test initiale"
   ]
  },
  {
   "cell_type": "code",
   "execution_count": 54,
   "id": "9dba86f0",
   "metadata": {},
   "outputs": [
    {
     "data": {
      "text/html": [
       "<div>\n",
       "<style scoped>\n",
       "    .dataframe tbody tr th:only-of-type {\n",
       "        vertical-align: middle;\n",
       "    }\n",
       "\n",
       "    .dataframe tbody tr th {\n",
       "        vertical-align: top;\n",
       "    }\n",
       "\n",
       "    .dataframe thead th {\n",
       "        text-align: right;\n",
       "    }\n",
       "</style>\n",
       "<table border=\"1\" class=\"dataframe\">\n",
       "  <thead>\n",
       "    <tr style=\"text-align: right;\">\n",
       "      <th></th>\n",
       "      <th>Itraxx Credit Spread</th>\n",
       "      <th>Renault Credit Spread</th>\n",
       "    </tr>\n",
       "    <tr>\n",
       "      <th>Timestamp</th>\n",
       "      <th></th>\n",
       "      <th></th>\n",
       "    </tr>\n",
       "  </thead>\n",
       "  <tbody>\n",
       "    <tr>\n",
       "      <th>2023-03-13</th>\n",
       "      <td>388.59</td>\n",
       "      <td>165.060</td>\n",
       "    </tr>\n",
       "    <tr>\n",
       "      <th>2023-03-14</th>\n",
       "      <td>378.10</td>\n",
       "      <td>160.610</td>\n",
       "    </tr>\n",
       "    <tr>\n",
       "      <th>2023-03-15</th>\n",
       "      <td>378.10</td>\n",
       "      <td>172.880</td>\n",
       "    </tr>\n",
       "    <tr>\n",
       "      <th>2023-03-16</th>\n",
       "      <td>406.13</td>\n",
       "      <td>174.330</td>\n",
       "    </tr>\n",
       "    <tr>\n",
       "      <th>2023-03-17</th>\n",
       "      <td>415.86</td>\n",
       "      <td>178.090</td>\n",
       "    </tr>\n",
       "    <tr>\n",
       "      <th>2023-03-20</th>\n",
       "      <td>442.50</td>\n",
       "      <td>189.440</td>\n",
       "    </tr>\n",
       "    <tr>\n",
       "      <th>2023-03-21</th>\n",
       "      <td>414.00</td>\n",
       "      <td>175.250</td>\n",
       "    </tr>\n",
       "    <tr>\n",
       "      <th>2023-03-22</th>\n",
       "      <td>408.50</td>\n",
       "      <td>170.200</td>\n",
       "    </tr>\n",
       "    <tr>\n",
       "      <th>2023-03-23</th>\n",
       "      <td>426.00</td>\n",
       "      <td>179.660</td>\n",
       "    </tr>\n",
       "    <tr>\n",
       "      <th>2023-03-24</th>\n",
       "      <td>422.18</td>\n",
       "      <td>186.550</td>\n",
       "    </tr>\n",
       "    <tr>\n",
       "      <th>2023-03-27</th>\n",
       "      <td>410.38</td>\n",
       "      <td>186.880</td>\n",
       "    </tr>\n",
       "    <tr>\n",
       "      <th>2023-03-28</th>\n",
       "      <td>405.17</td>\n",
       "      <td>186.810</td>\n",
       "    </tr>\n",
       "    <tr>\n",
       "      <th>2023-03-29</th>\n",
       "      <td>406.50</td>\n",
       "      <td>177.990</td>\n",
       "    </tr>\n",
       "    <tr>\n",
       "      <th>2023-03-30</th>\n",
       "      <td>372.40</td>\n",
       "      <td>171.200</td>\n",
       "    </tr>\n",
       "    <tr>\n",
       "      <th>2023-03-31</th>\n",
       "      <td>360.36</td>\n",
       "      <td>169.070</td>\n",
       "    </tr>\n",
       "    <tr>\n",
       "      <th>2023-04-03</th>\n",
       "      <td>365.75</td>\n",
       "      <td>171.500</td>\n",
       "    </tr>\n",
       "    <tr>\n",
       "      <th>2023-04-04</th>\n",
       "      <td>394.50</td>\n",
       "      <td>175.850</td>\n",
       "    </tr>\n",
       "    <tr>\n",
       "      <th>2023-04-05</th>\n",
       "      <td>389.50</td>\n",
       "      <td>185.540</td>\n",
       "    </tr>\n",
       "    <tr>\n",
       "      <th>2023-04-06</th>\n",
       "      <td>383.92</td>\n",
       "      <td>188.680</td>\n",
       "    </tr>\n",
       "    <tr>\n",
       "      <th>2023-04-07</th>\n",
       "      <td>383.92</td>\n",
       "      <td>188.680</td>\n",
       "    </tr>\n",
       "    <tr>\n",
       "      <th>2023-04-10</th>\n",
       "      <td>383.92</td>\n",
       "      <td>188.680</td>\n",
       "    </tr>\n",
       "    <tr>\n",
       "      <th>2023-04-11</th>\n",
       "      <td>367.66</td>\n",
       "      <td>183.010</td>\n",
       "    </tr>\n",
       "    <tr>\n",
       "      <th>2023-04-12</th>\n",
       "      <td>362.35</td>\n",
       "      <td>179.031</td>\n",
       "    </tr>\n",
       "    <tr>\n",
       "      <th>2023-04-13</th>\n",
       "      <td>359.91</td>\n",
       "      <td>176.950</td>\n",
       "    </tr>\n",
       "    <tr>\n",
       "      <th>2023-04-14</th>\n",
       "      <td>351.94</td>\n",
       "      <td>174.150</td>\n",
       "    </tr>\n",
       "    <tr>\n",
       "      <th>2023-04-17</th>\n",
       "      <td>372.00</td>\n",
       "      <td>171.110</td>\n",
       "    </tr>\n",
       "    <tr>\n",
       "      <th>2023-04-18</th>\n",
       "      <td>370.00</td>\n",
       "      <td>166.190</td>\n",
       "    </tr>\n",
       "    <tr>\n",
       "      <th>2023-04-19</th>\n",
       "      <td>372.00</td>\n",
       "      <td>168.200</td>\n",
       "    </tr>\n",
       "    <tr>\n",
       "      <th>2023-04-20</th>\n",
       "      <td>382.00</td>\n",
       "      <td>185.680</td>\n",
       "    </tr>\n",
       "    <tr>\n",
       "      <th>2023-04-21</th>\n",
       "      <td>364.05</td>\n",
       "      <td>197.460</td>\n",
       "    </tr>\n",
       "    <tr>\n",
       "      <th>2023-04-24</th>\n",
       "      <td>379.50</td>\n",
       "      <td>196.570</td>\n",
       "    </tr>\n",
       "    <tr>\n",
       "      <th>2023-04-25</th>\n",
       "      <td>387.25</td>\n",
       "      <td>201.200</td>\n",
       "    </tr>\n",
       "    <tr>\n",
       "      <th>2023-04-26</th>\n",
       "      <td>393.50</td>\n",
       "      <td>215.880</td>\n",
       "    </tr>\n",
       "    <tr>\n",
       "      <th>2023-04-27</th>\n",
       "      <td>365.03</td>\n",
       "      <td>203.430</td>\n",
       "    </tr>\n",
       "    <tr>\n",
       "      <th>2023-04-28</th>\n",
       "      <td>355.30</td>\n",
       "      <td>202.220</td>\n",
       "    </tr>\n",
       "    <tr>\n",
       "      <th>2023-05-01</th>\n",
       "      <td>355.30</td>\n",
       "      <td>202.310</td>\n",
       "    </tr>\n",
       "    <tr>\n",
       "      <th>2023-05-02</th>\n",
       "      <td>372.10</td>\n",
       "      <td>211.040</td>\n",
       "    </tr>\n",
       "    <tr>\n",
       "      <th>2023-05-03</th>\n",
       "      <td>373.07</td>\n",
       "      <td>210.530</td>\n",
       "    </tr>\n",
       "    <tr>\n",
       "      <th>2023-05-04</th>\n",
       "      <td>388.17</td>\n",
       "      <td>222.500</td>\n",
       "    </tr>\n",
       "    <tr>\n",
       "      <th>2023-05-05</th>\n",
       "      <td>372.49</td>\n",
       "      <td>215.040</td>\n",
       "    </tr>\n",
       "    <tr>\n",
       "      <th>2023-05-08</th>\n",
       "      <td>372.49</td>\n",
       "      <td>215.090</td>\n",
       "    </tr>\n",
       "    <tr>\n",
       "      <th>2023-05-09</th>\n",
       "      <td>378.33</td>\n",
       "      <td>216.040</td>\n",
       "    </tr>\n",
       "    <tr>\n",
       "      <th>2023-05-10</th>\n",
       "      <td>378.35</td>\n",
       "      <td>216.052</td>\n",
       "    </tr>\n",
       "    <tr>\n",
       "      <th>2023-05-11</th>\n",
       "      <td>378.36</td>\n",
       "      <td>216.071</td>\n",
       "    </tr>\n",
       "    <tr>\n",
       "      <th>2023-05-12</th>\n",
       "      <td>378.37</td>\n",
       "      <td>216.086</td>\n",
       "    </tr>\n",
       "    <tr>\n",
       "      <th>2023-05-15</th>\n",
       "      <td>378.37</td>\n",
       "      <td>216.075</td>\n",
       "    </tr>\n",
       "    <tr>\n",
       "      <th>2023-05-16</th>\n",
       "      <td>378.37</td>\n",
       "      <td>216.064</td>\n",
       "    </tr>\n",
       "    <tr>\n",
       "      <th>2023-05-17</th>\n",
       "      <td>378.38</td>\n",
       "      <td>216.055</td>\n",
       "    </tr>\n",
       "    <tr>\n",
       "      <th>2023-05-18</th>\n",
       "      <td>378.39</td>\n",
       "      <td>216.185</td>\n",
       "    </tr>\n",
       "    <tr>\n",
       "      <th>2023-05-19</th>\n",
       "      <td>354.35</td>\n",
       "      <td>208.300</td>\n",
       "    </tr>\n",
       "  </tbody>\n",
       "</table>\n",
       "</div>"
      ],
      "text/plain": [
       "            Itraxx Credit Spread  Renault Credit Spread\n",
       "Timestamp                                              \n",
       "2023-03-13                388.59                165.060\n",
       "2023-03-14                378.10                160.610\n",
       "2023-03-15                378.10                172.880\n",
       "2023-03-16                406.13                174.330\n",
       "2023-03-17                415.86                178.090\n",
       "2023-03-20                442.50                189.440\n",
       "2023-03-21                414.00                175.250\n",
       "2023-03-22                408.50                170.200\n",
       "2023-03-23                426.00                179.660\n",
       "2023-03-24                422.18                186.550\n",
       "2023-03-27                410.38                186.880\n",
       "2023-03-28                405.17                186.810\n",
       "2023-03-29                406.50                177.990\n",
       "2023-03-30                372.40                171.200\n",
       "2023-03-31                360.36                169.070\n",
       "2023-04-03                365.75                171.500\n",
       "2023-04-04                394.50                175.850\n",
       "2023-04-05                389.50                185.540\n",
       "2023-04-06                383.92                188.680\n",
       "2023-04-07                383.92                188.680\n",
       "2023-04-10                383.92                188.680\n",
       "2023-04-11                367.66                183.010\n",
       "2023-04-12                362.35                179.031\n",
       "2023-04-13                359.91                176.950\n",
       "2023-04-14                351.94                174.150\n",
       "2023-04-17                372.00                171.110\n",
       "2023-04-18                370.00                166.190\n",
       "2023-04-19                372.00                168.200\n",
       "2023-04-20                382.00                185.680\n",
       "2023-04-21                364.05                197.460\n",
       "2023-04-24                379.50                196.570\n",
       "2023-04-25                387.25                201.200\n",
       "2023-04-26                393.50                215.880\n",
       "2023-04-27                365.03                203.430\n",
       "2023-04-28                355.30                202.220\n",
       "2023-05-01                355.30                202.310\n",
       "2023-05-02                372.10                211.040\n",
       "2023-05-03                373.07                210.530\n",
       "2023-05-04                388.17                222.500\n",
       "2023-05-05                372.49                215.040\n",
       "2023-05-08                372.49                215.090\n",
       "2023-05-09                378.33                216.040\n",
       "2023-05-10                378.35                216.052\n",
       "2023-05-11                378.36                216.071\n",
       "2023-05-12                378.37                216.086\n",
       "2023-05-15                378.37                216.075\n",
       "2023-05-16                378.37                216.064\n",
       "2023-05-17                378.38                216.055\n",
       "2023-05-18                378.39                216.185\n",
       "2023-05-19                354.35                208.300"
      ]
     },
     "execution_count": 54,
     "metadata": {},
     "output_type": "execute_result"
    }
   ],
   "source": [
    "test"
   ]
  },
  {
   "cell_type": "markdown",
   "id": "94f57d5b",
   "metadata": {},
   "source": [
    "Affichons la base de prédictions données par le réseau de neurones"
   ]
  },
  {
   "cell_type": "code",
   "execution_count": 55,
   "id": "dfbfdcc2",
   "metadata": {},
   "outputs": [
    {
     "data": {
      "text/html": [
       "<div>\n",
       "<style scoped>\n",
       "    .dataframe tbody tr th:only-of-type {\n",
       "        vertical-align: middle;\n",
       "    }\n",
       "\n",
       "    .dataframe tbody tr th {\n",
       "        vertical-align: top;\n",
       "    }\n",
       "\n",
       "    .dataframe thead th {\n",
       "        text-align: right;\n",
       "    }\n",
       "</style>\n",
       "<table border=\"1\" class=\"dataframe\">\n",
       "  <thead>\n",
       "    <tr style=\"text-align: right;\">\n",
       "      <th></th>\n",
       "      <th>Itraxx Credit Spread</th>\n",
       "      <th>Renault Credit Spread</th>\n",
       "    </tr>\n",
       "  </thead>\n",
       "  <tbody>\n",
       "    <tr>\n",
       "      <th>0</th>\n",
       "      <td>341.239388</td>\n",
       "      <td>154.558561</td>\n",
       "    </tr>\n",
       "    <tr>\n",
       "      <th>1</th>\n",
       "      <td>332.313702</td>\n",
       "      <td>153.819499</td>\n",
       "    </tr>\n",
       "    <tr>\n",
       "      <th>2</th>\n",
       "      <td>324.962901</td>\n",
       "      <td>152.073935</td>\n",
       "    </tr>\n",
       "    <tr>\n",
       "      <th>3</th>\n",
       "      <td>316.544336</td>\n",
       "      <td>149.790297</td>\n",
       "    </tr>\n",
       "    <tr>\n",
       "      <th>4</th>\n",
       "      <td>308.313779</td>\n",
       "      <td>147.384551</td>\n",
       "    </tr>\n",
       "    <tr>\n",
       "      <th>5</th>\n",
       "      <td>300.686472</td>\n",
       "      <td>145.129216</td>\n",
       "    </tr>\n",
       "    <tr>\n",
       "      <th>6</th>\n",
       "      <td>293.769273</td>\n",
       "      <td>143.118198</td>\n",
       "    </tr>\n",
       "    <tr>\n",
       "      <th>7</th>\n",
       "      <td>287.286011</td>\n",
       "      <td>141.321261</td>\n",
       "    </tr>\n",
       "    <tr>\n",
       "      <th>8</th>\n",
       "      <td>281.258123</td>\n",
       "      <td>139.689853</td>\n",
       "    </tr>\n",
       "    <tr>\n",
       "      <th>9</th>\n",
       "      <td>275.664867</td>\n",
       "      <td>138.202774</td>\n",
       "    </tr>\n",
       "    <tr>\n",
       "      <th>10</th>\n",
       "      <td>270.450396</td>\n",
       "      <td>136.841829</td>\n",
       "    </tr>\n",
       "    <tr>\n",
       "      <th>11</th>\n",
       "      <td>265.575749</td>\n",
       "      <td>135.593628</td>\n",
       "    </tr>\n",
       "    <tr>\n",
       "      <th>12</th>\n",
       "      <td>261.009948</td>\n",
       "      <td>134.449474</td>\n",
       "    </tr>\n",
       "    <tr>\n",
       "      <th>13</th>\n",
       "      <td>256.725381</td>\n",
       "      <td>133.402424</td>\n",
       "    </tr>\n",
       "    <tr>\n",
       "      <th>14</th>\n",
       "      <td>252.696600</td>\n",
       "      <td>132.445958</td>\n",
       "    </tr>\n",
       "    <tr>\n",
       "      <th>15</th>\n",
       "      <td>248.901758</td>\n",
       "      <td>131.573698</td>\n",
       "    </tr>\n",
       "    <tr>\n",
       "      <th>16</th>\n",
       "      <td>245.321315</td>\n",
       "      <td>130.779725</td>\n",
       "    </tr>\n",
       "    <tr>\n",
       "      <th>17</th>\n",
       "      <td>241.937548</td>\n",
       "      <td>130.058519</td>\n",
       "    </tr>\n",
       "    <tr>\n",
       "      <th>18</th>\n",
       "      <td>238.734308</td>\n",
       "      <td>129.405083</td>\n",
       "    </tr>\n",
       "    <tr>\n",
       "      <th>19</th>\n",
       "      <td>235.696910</td>\n",
       "      <td>128.814704</td>\n",
       "    </tr>\n",
       "    <tr>\n",
       "      <th>20</th>\n",
       "      <td>232.811822</td>\n",
       "      <td>128.283099</td>\n",
       "    </tr>\n",
       "    <tr>\n",
       "      <th>21</th>\n",
       "      <td>230.066701</td>\n",
       "      <td>127.806323</td>\n",
       "    </tr>\n",
       "    <tr>\n",
       "      <th>22</th>\n",
       "      <td>227.450278</td>\n",
       "      <td>127.380685</td>\n",
       "    </tr>\n",
       "    <tr>\n",
       "      <th>23</th>\n",
       "      <td>224.952167</td>\n",
       "      <td>127.002792</td>\n",
       "    </tr>\n",
       "    <tr>\n",
       "      <th>24</th>\n",
       "      <td>222.562887</td>\n",
       "      <td>126.669558</td>\n",
       "    </tr>\n",
       "    <tr>\n",
       "      <th>25</th>\n",
       "      <td>220.273677</td>\n",
       "      <td>126.378038</td>\n",
       "    </tr>\n",
       "    <tr>\n",
       "      <th>26</th>\n",
       "      <td>218.076438</td>\n",
       "      <td>126.125564</td>\n",
       "    </tr>\n",
       "    <tr>\n",
       "      <th>27</th>\n",
       "      <td>215.963814</td>\n",
       "      <td>125.909664</td>\n",
       "    </tr>\n",
       "    <tr>\n",
       "      <th>28</th>\n",
       "      <td>213.928801</td>\n",
       "      <td>125.728026</td>\n",
       "    </tr>\n",
       "    <tr>\n",
       "      <th>29</th>\n",
       "      <td>211.965124</td>\n",
       "      <td>125.578525</td>\n",
       "    </tr>\n",
       "    <tr>\n",
       "      <th>30</th>\n",
       "      <td>210.066799</td>\n",
       "      <td>125.459218</td>\n",
       "    </tr>\n",
       "    <tr>\n",
       "      <th>31</th>\n",
       "      <td>208.228412</td>\n",
       "      <td>125.368287</td>\n",
       "    </tr>\n",
       "    <tr>\n",
       "      <th>32</th>\n",
       "      <td>206.444864</td>\n",
       "      <td>125.304034</td>\n",
       "    </tr>\n",
       "    <tr>\n",
       "      <th>33</th>\n",
       "      <td>204.711397</td>\n",
       "      <td>125.264875</td>\n",
       "    </tr>\n",
       "    <tr>\n",
       "      <th>34</th>\n",
       "      <td>203.023589</td>\n",
       "      <td>125.249420</td>\n",
       "    </tr>\n",
       "    <tr>\n",
       "      <th>35</th>\n",
       "      <td>201.377340</td>\n",
       "      <td>125.256299</td>\n",
       "    </tr>\n",
       "    <tr>\n",
       "      <th>36</th>\n",
       "      <td>199.768787</td>\n",
       "      <td>125.284286</td>\n",
       "    </tr>\n",
       "    <tr>\n",
       "      <th>37</th>\n",
       "      <td>198.194295</td>\n",
       "      <td>125.332266</td>\n",
       "    </tr>\n",
       "    <tr>\n",
       "      <th>38</th>\n",
       "      <td>196.650489</td>\n",
       "      <td>125.399177</td>\n",
       "    </tr>\n",
       "    <tr>\n",
       "      <th>39</th>\n",
       "      <td>195.134178</td>\n",
       "      <td>125.484057</td>\n",
       "    </tr>\n",
       "    <tr>\n",
       "      <th>40</th>\n",
       "      <td>193.642335</td>\n",
       "      <td>125.586007</td>\n",
       "    </tr>\n",
       "    <tr>\n",
       "      <th>41</th>\n",
       "      <td>192.172165</td>\n",
       "      <td>125.704210</td>\n",
       "    </tr>\n",
       "    <tr>\n",
       "      <th>42</th>\n",
       "      <td>190.720977</td>\n",
       "      <td>125.837908</td>\n",
       "    </tr>\n",
       "    <tr>\n",
       "      <th>43</th>\n",
       "      <td>189.286232</td>\n",
       "      <td>125.986428</td>\n",
       "    </tr>\n",
       "    <tr>\n",
       "      <th>44</th>\n",
       "      <td>187.865486</td>\n",
       "      <td>126.149156</td>\n",
       "    </tr>\n",
       "    <tr>\n",
       "      <th>45</th>\n",
       "      <td>186.456471</td>\n",
       "      <td>126.325519</td>\n",
       "    </tr>\n",
       "    <tr>\n",
       "      <th>46</th>\n",
       "      <td>185.056971</td>\n",
       "      <td>126.514966</td>\n",
       "    </tr>\n",
       "    <tr>\n",
       "      <th>47</th>\n",
       "      <td>183.664906</td>\n",
       "      <td>126.717058</td>\n",
       "    </tr>\n",
       "    <tr>\n",
       "      <th>48</th>\n",
       "      <td>182.278208</td>\n",
       "      <td>126.931333</td>\n",
       "    </tr>\n",
       "    <tr>\n",
       "      <th>49</th>\n",
       "      <td>180.894979</td>\n",
       "      <td>127.157435</td>\n",
       "    </tr>\n",
       "  </tbody>\n",
       "</table>\n",
       "</div>"
      ],
      "text/plain": [
       "    Itraxx Credit Spread  Renault Credit Spread\n",
       "0             341.239388             154.558561\n",
       "1             332.313702             153.819499\n",
       "2             324.962901             152.073935\n",
       "3             316.544336             149.790297\n",
       "4             308.313779             147.384551\n",
       "5             300.686472             145.129216\n",
       "6             293.769273             143.118198\n",
       "7             287.286011             141.321261\n",
       "8             281.258123             139.689853\n",
       "9             275.664867             138.202774\n",
       "10            270.450396             136.841829\n",
       "11            265.575749             135.593628\n",
       "12            261.009948             134.449474\n",
       "13            256.725381             133.402424\n",
       "14            252.696600             132.445958\n",
       "15            248.901758             131.573698\n",
       "16            245.321315             130.779725\n",
       "17            241.937548             130.058519\n",
       "18            238.734308             129.405083\n",
       "19            235.696910             128.814704\n",
       "20            232.811822             128.283099\n",
       "21            230.066701             127.806323\n",
       "22            227.450278             127.380685\n",
       "23            224.952167             127.002792\n",
       "24            222.562887             126.669558\n",
       "25            220.273677             126.378038\n",
       "26            218.076438             126.125564\n",
       "27            215.963814             125.909664\n",
       "28            213.928801             125.728026\n",
       "29            211.965124             125.578525\n",
       "30            210.066799             125.459218\n",
       "31            208.228412             125.368287\n",
       "32            206.444864             125.304034\n",
       "33            204.711397             125.264875\n",
       "34            203.023589             125.249420\n",
       "35            201.377340             125.256299\n",
       "36            199.768787             125.284286\n",
       "37            198.194295             125.332266\n",
       "38            196.650489             125.399177\n",
       "39            195.134178             125.484057\n",
       "40            193.642335             125.586007\n",
       "41            192.172165             125.704210\n",
       "42            190.720977             125.837908\n",
       "43            189.286232             125.986428\n",
       "44            187.865486             126.149156\n",
       "45            186.456471             126.325519\n",
       "46            185.056971             126.514966\n",
       "47            183.664906             126.717058\n",
       "48            182.278208             126.931333\n",
       "49            180.894979             127.157435"
      ]
     },
     "execution_count": 55,
     "metadata": {},
     "output_type": "execute_result"
    }
   ],
   "source": [
    "true_predictions = pd.DataFrame(data=true_predictions,columns=test.columns)\n",
    "true_predictions"
   ]
  },
  {
   "cell_type": "markdown",
   "id": "ad2936d9",
   "metadata": {},
   "source": [
    "Comme on peut le voir, notre réseau de neurones nous donne bien en sortie deux colonnes d'observations, donc un tuple : celui des spreads de crédit de l'Itraxx et celui des spreads de Renault. On peut l'étendre à plus de deux cette sortie. Cette flexibilité d'adaptabilité est la raison pour laquelle les LTSM/RNN sont utilisés pour modéliser les séries temporelles multivariées. \n",
    "\n",
    "\n",
    "Enfin, nous allons calculer des métriques qui permettent de quantifier la performance de notre modèle. Nous avons à cet effet, coder nous meme des métriques de performance de modèles de deep learning sur des séries temporelles : \n",
    "\n",
    "- Les MAE ou Mean Absolute Squared Error  \n",
    "\n",
    "- Les MSE ou Mean Squared Error \n",
    "\n",
    "- Les RMSE ou Root Mean Squared Error \n",
    "\n",
    "- Les MAPE ou Mean Absolute Percentage Error \n",
    "\n",
    "- Les MASE ou Mean Absolute Scaled Error\n",
    "\n",
    "\n",
    "Les deux dernières métriques sont des métriques de compétitions de deep learning en série temporelle. Les MAPE par exemple nous donnent le niveau de pourcentage d'erreur commise d'une prédiction à une autre pour avoir des résultats chirurgicaux. Par soucis de clarté, nous n'avons pas tenu à expliciter les formules mathématiques de ces métriques. "
   ]
  },
  {
   "cell_type": "code",
   "execution_count": 56,
   "id": "98f259d5",
   "metadata": {},
   "outputs": [],
   "source": [
    "def mean_absolute_scaled_error(y_true, y_pred):\n",
    "    \n",
    "    \"\"\"\n",
    "       Cette fonction calcule le Mean Absolute Scaled Error de tous nos futurs modèles de Deep Learning\n",
    "       \n",
    "    \"\"\"\n",
    "    \n",
    "    mae = tf.reduce_mean(tf.abs(y_true - y_pred))\n",
    "    \n",
    "    mae_naive_no_season = tf.reduce_mean(tf.abs(y_true[1:] - y_true[:-1]))\n",
    "    \n",
    "    return mae / mae_naive_no_season"
   ]
  },
  {
   "cell_type": "code",
   "execution_count": 57,
   "id": "0871488e",
   "metadata": {},
   "outputs": [],
   "source": [
    "def evaluate_preds(y_true, y_pred):\n",
    "    \n",
    "    y_true = tf.cast(y_true, dtype = tf.float32)\n",
    "    y_pred = tf.cast(y_pred, dtype = tf.float32)\n",
    "    \n",
    "    mae = tf.keras.metrics.mean_absolute_error(y_true, y_pred)\n",
    "    mse = tf.keras.metrics.mean_squared_error(y_true, y_pred)\n",
    "    rmse = tf.sqrt(mse)\n",
    "    mape = tf.keras.metrics.mean_absolute_percentage_error(y_true, y_pred)\n",
    "    mase = mean_absolute_scaled_error(y_true, y_pred)\n",
    "    \n",
    "    if mae.ndim > 0: \n",
    "        \n",
    "        mae = tf.reduce_mean(mae)\n",
    "        mse = tf.reduce_mean(mse)\n",
    "        rmse = tf.reduce_mean(rmse)\n",
    "        mape = tf.reduce_mean(mape)\n",
    "        mase = tf.reduce_mean(mase)\n",
    "    \n",
    "    return {'mae':mae.numpy(),\n",
    "           'mse':mse.numpy(),\n",
    "           'rmse':rmse.numpy(),\n",
    "           'mape':mape.numpy(),\n",
    "           'mase':mase.numpy()}"
   ]
  },
  {
   "cell_type": "code",
   "execution_count": 58,
   "id": "4d88faf9",
   "metadata": {},
   "outputs": [
    {
     "data": {
      "text/plain": [
       "{'mae': 104.467224,\n",
       " 'mse': 13823.252,\n",
       " 'rmse': 113.794975,\n",
       " 'mape': 34.783382,\n",
       " 'mase': 14.591391}"
      ]
     },
     "execution_count": 58,
     "metadata": {},
     "output_type": "execute_result"
    }
   ],
   "source": [
    "evaluate_preds(test,true_predictions)"
   ]
  },
  {
   "cell_type": "markdown",
   "id": "ea448958",
   "metadata": {},
   "source": [
    "On voit ici que notre modèle de deep learning semble assez bon. En effet la métrique MAE est $\\sim$ à $102.055$. Cela signifie que l'écart entre les spreads de crédit dans la réalité donc dans le jeu de test et celui prédit par le modèle de deep learning est en moyenne $+/-$ de $102.055$. Ce qui est extrèmement bon et satisfaisant pour un modèle de LSTM d'une seule couche avec 128 neurones sur cette couche. Cela nous montre donc la force et la performance des modèles d'apprentissage statistiques sur les séries temporelles. Ils permettent donc de prédire et d'apprendre des relations complexes en peu de temps. Mais l'interprétabilité reste assez floue meme si ces derniers temps des méthodes scientifiques comme SHAP permettent de justifier les variables explicatives utilisées dans un modèle d'apprentissage. Ce qui marque donc la fin de notre projet final."
   ]
  },
  {
   "cell_type": "code",
   "execution_count": 59,
   "id": "313f49ef",
   "metadata": {},
   "outputs": [],
   "source": [
    "# model.save('lstm_model_on_credit_spread.h5')"
   ]
  },
  {
   "cell_type": "markdown",
   "id": "f7a6cef8",
   "metadata": {},
   "source": [
    "### GRANDE CONCLUSION"
   ]
  },
  {
   "cell_type": "markdown",
   "id": "443420ff",
   "metadata": {},
   "source": [
    "Au terme de notre analyse, nous pouvons dire que la prédiction de séries temporelles financières reste un challenge toujours d'actualité. En effet, étant des systèmes ouverts, le niveau d'imprévisibilité reste de premier ordre. Par conséquent, il est toujours judicieux de projéter ses prédictions sur du court terme. \n",
    "\n",
    "Lorsque l'on veut modéliser une série temporelle univariée, nous pouvons utiliser soit des modèles linéaires de type $ARIMA$. Pour éviter que la complexité du code n'augmente, on peut se servir de la fonction auto_arima développée sur R ou Python. Plus particulièrement, lorsque l'on modélise des séries temporelles financières, on démontre que des modèles de type $GARCH$ sont nécéssaires et captent plus d'informations que les modèles linéaires. \n",
    "\n",
    "En revanche, lorsque l'on étudie les séries temporelles mutlivariées, la complexité des modèles augmente. Il n'est pas toujours évident de déterminer l'ordre optimal des modèles de type $VARMA$. Pour contrecarrer cette complexité, au prix de l'interprétabilité, on peut utiliser des modèles de deep learning, qui donnent des résultats vraiment intéréssants. Ce qui nous amène donc à un constat : Il faut utiliser les modèles de deep learning lorsqu'ils sont nécessaires. Si on peut utiliser des modèles ordinaires ou linéaires, il est toujours conseillé de laisser les méthodes d'apprentissage automatique. On aurait pu utiliser des méthodes d'apprentissage sur des séries temporelles univariées, mais cela n'aurait aucun impact significatif à part donner des résultats plus chirurgicaux et augmenter la complexité du code. \n",
    "\n",
    "\n",
    "Il existe a cet effet, une large diversité d'architectures de modèle de deep learning de nos jours pour les séries temporelles univariées et mutlivariées. On peut citer entre autre les $Bi-LSTM$, les $CNN-LSTM$, les $CNN-Bi-LSTM$, les $TCN-Bi-LSTM$, les $TRANSFORMERS$, les $CNN-TRANSFORMERS$, les $MDN-Bi-LSTM$, etc.... Un très bon article qui résume ces méthodes toutes codées en Tensorflow se trouve sur le site Medium : <a href='https://medium.com/@dave.cote.msc/hands-on-advanced-deep-learning-time-series-forecasting-with-tensors-7facae522f18'>Deep learning : Méthodes avancées de prédiction de séries temporelles.</a>\n",
    "\n",
    "\n",
    "En outre, il existe des compétitions internationales de prédictions de séries temporelles en deep learning comme le fameux $M4$, compétition de renommée internationale et très pointue. En 2020 par exemple, l'algorithme gagnant est le papier recherche sur les $N-BEATS$ ou **N**eural **B**asis **E**xpansion **A**nalysis for Interpretable **T**ime **S**eries Forecasting qui atteignit un score de prédiction jamais égalé pendant des compétitions antérieures et dont voici le papier de recherche : <a href='http://mapdic.com/upload/2022/07/param-a3aa083f4dc74071814b8986acf28c71.pdf'>$N-BEATS$</a>. À titre d'exemple, depuis que l'algorithme vainqueur du M4 en 2013 était une algorithme de machine learning, les statistiques démontrent aujourd'hui que d'une part,les modèles de ML/DL sont utilisés par la pluspart des compétiteurs, d'autre part que le nombre d'architectures et d'algorithmes de DL pour séries temporelles ont explosé depuis 2013 et enfin que ces derniers surperforment de loin les méthodes traditionnelles.\n",
    "\n",
    "Ce exemple montre à quel point de nos jours, les méthodes d'apprentissage automatique peuvent s'avérer plus chirurgicales que des méthodes linéaires et pourquoi il devient de plus en plus impossible de s'en passer. Mais les méthodes linéaires restent encore une référence de part leurs simplicités et constitue un benchmark pour les méthodes d'apprentissage automatique. \n",
    "\n",
    "\n",
    "Ce projet nous a permis également d'utiliser un langage de programmation très performant qui est Python. Il nous a permis de mettre en exergue, la diversité et la multitude de fonctions pratiques qui nous ont permis de modéliser nos séries temporelles. Par exemple la librairie statsmodels de Python pour faire de la statistique, la librairie pmd_arima et sa fonction auto_arima, la librairie Tensorflow pour son éfficience dans l'élaboration des réseaux de neurones. Il nous a suffi juste d'importer toutes les librairies dont on avait besoin dans un seul langage. C'est la raison pour laquelle Python est un des langages les plus utilisés en finance quantitative et en data science. La diversité des librairies, l'efficience, la scalabilité et la maturité de ses frameworks en font un langage de choix parmi de nombreux professionnels de nos jours. Et ce n'est pas tout. Toutes les librairies et fonctionnalités que nous avons utilisées dans ce projet ne sont qu'une infime partie de fonctionnalités de ce que ces dernières sont capables de faire réellement et donc une infime partie de Python. "
   ]
  },
  {
   "cell_type": "markdown",
   "id": "72f1029b",
   "metadata": {},
   "source": [
    "### AUTRES RESSOURCES : SKTIME"
   ]
  },
  {
   "cell_type": "markdown",
   "id": "9ec98699",
   "metadata": {},
   "source": [
    "En 2020, une librairie de modélisation et de prédictions de séries temporelles fut crée en Python pour rendre l'étude des séries temporelles plus faciles, plus optimales et **unifiée dans un seul framework**. Cette librairie s'appelle <a href='http://www.sktime.net/en/latest/'>sktime</a>. \n",
    "\n",
    "Qu'est ce donc la librairie <a href='http://www.sktime.net/en/latest/'>sktime</a> de Python ? \n",
    "En une phrase : <a href='http://www.sktime.net/en/latest/'>sktime</a> est le <a href='https://scikit-learn.org/stable/'>scikit-learn</a> des séries temporelles, de la meme manière que <a href='https://pytorch.org'>Pytorch</a> est le <a href='https://numpy.org'>numpy</a> du deep learning. Ce que l'on entend par là, c'est que sktime est une librairie qui a pour philosophie de respecter au maximum le nom des fonctions de scikit-learn mais cette fois appliquée sur les séries temporelles. Ce qui signifie que si nous savons manipuler scikit-learn, sktime sera juste une conséquence, puisque la prise en main sera immédiate. C'est la meme philosophie que Pytorch a adopté en deep learning. Si nous savons manipuler numpy, Pytorch sera juste une conséquence puisque la pluspart des fonctions numpy sont reprises dans Pytorch mais adaptés pour du deep learning.\n",
    "\n",
    "Comme dit précédemment, <a href='http://www.sktime.net/en/latest/'>sktime</a> nous permet de faire de la modélisation de série temporelle dans un framework unifié. Qu'est ce que cela signifie t'il conrètement ? Cela signifie que tous les codes et les analyses que l'on a tourné sur nos notebooks pouvent etre fait en maximum ....... $\\sim$ $9$ ou $10$ lignes. Un framework unifié signifie que tous ce dont on aura besoin dans la modélisation se trouve dans un seul et meme endroit, et en plus, écrite de manière orientée objet. L'orienté objet aura pour conséquence d'importer et d'utiliser plusieurs instances de méthodes déjà prédéfinies et prètes pour utilisation comme dans scikit-learn. \n",
    "\n",
    "Par exemple, scikit-learn dispose d'une fonction <a href='https://scikit-learn.org/stable/modules/generated/sklearn.model_selection.train_test_split.html'>train_test_split</a> qui permet de séparer nos données en base d'entrainement et de test. Dans la meme lignée, sktime possède bien une fonction <a href='http://www.sktime.net/en/latest/api_reference/auto_generated/sktime.forecasting.model_selection.temporal_train_test_split.html'>temporal_train_test_split</a> qui permet en **une ligne de code** de splitter les données d'une série temporelle en respectant l'ordre chronologique des observations en base d'entrainement et de test. Que faire si je veux utiliser auto_arima de la libraire pmd_arima ? sktime possède bien une fonction <a href='http://www.sktime.net/en/latest/api_reference/auto_generated/sktime.forecasting.arima.AutoARIMA.html'>AutoARIMA</a> qui détermine l'ordre optimal de notre modèle de série temporelle sans avoir besoin de libairie externe. Et si je veux utiliser une métrique de performance pour les compétitions de séries temporelles comme les MAPE ou MASE ? sktime possède une pléthore de métriques de séries temporelles ( compétitions ou non ) : <a href='https://www.sktime.net/en/latest/api_reference/performance_metrics.html'>sktime.performance_metrics.forecasting</a> et bien d'autres. \n",
    "\n",
    "\n",
    "Ci joint un exemple de code d'utilisation de sktime. Nous allons considérer seulement la données de spreads de crédit du DJ Itraxx X-over 3Y."
   ]
  },
  {
   "cell_type": "code",
   "execution_count": 60,
   "id": "163c68f6",
   "metadata": {},
   "outputs": [],
   "source": [
    "itraxx = renau_Itraxx[['Itraxx Credit Spread']]"
   ]
  },
  {
   "cell_type": "code",
   "execution_count": 61,
   "id": "6f22b76a",
   "metadata": {},
   "outputs": [
    {
     "data": {
      "text/html": [
       "<div>\n",
       "<style scoped>\n",
       "    .dataframe tbody tr th:only-of-type {\n",
       "        vertical-align: middle;\n",
       "    }\n",
       "\n",
       "    .dataframe tbody tr th {\n",
       "        vertical-align: top;\n",
       "    }\n",
       "\n",
       "    .dataframe thead th {\n",
       "        text-align: right;\n",
       "    }\n",
       "</style>\n",
       "<table border=\"1\" class=\"dataframe\">\n",
       "  <thead>\n",
       "    <tr style=\"text-align: right;\">\n",
       "      <th></th>\n",
       "      <th>Itraxx Credit Spread</th>\n",
       "    </tr>\n",
       "    <tr>\n",
       "      <th>Timestamp</th>\n",
       "      <th></th>\n",
       "    </tr>\n",
       "  </thead>\n",
       "  <tbody>\n",
       "    <tr>\n",
       "      <th>2015-01-02</th>\n",
       "      <td>240.53</td>\n",
       "    </tr>\n",
       "    <tr>\n",
       "      <th>2015-01-05</th>\n",
       "      <td>260.53</td>\n",
       "    </tr>\n",
       "    <tr>\n",
       "      <th>2015-01-06</th>\n",
       "      <td>272.03</td>\n",
       "    </tr>\n",
       "    <tr>\n",
       "      <th>2015-01-07</th>\n",
       "      <td>264.03</td>\n",
       "    </tr>\n",
       "    <tr>\n",
       "      <th>2015-01-08</th>\n",
       "      <td>244.53</td>\n",
       "    </tr>\n",
       "  </tbody>\n",
       "</table>\n",
       "</div>"
      ],
      "text/plain": [
       "            Itraxx Credit Spread\n",
       "Timestamp                       \n",
       "2015-01-02                240.53\n",
       "2015-01-05                260.53\n",
       "2015-01-06                272.03\n",
       "2015-01-07                264.03\n",
       "2015-01-08                244.53"
      ]
     },
     "execution_count": 61,
     "metadata": {},
     "output_type": "execute_result"
    }
   ],
   "source": [
    "itraxx.head()"
   ]
  },
  {
   "cell_type": "code",
   "execution_count": 62,
   "id": "ce02cab2",
   "metadata": {},
   "outputs": [],
   "source": [
    "import sktime"
   ]
  },
  {
   "cell_type": "markdown",
   "id": "c37edac6",
   "metadata": {},
   "source": [
    "Splitter nos données en base d'entrainement et base de test"
   ]
  },
  {
   "cell_type": "code",
   "execution_count": 63,
   "id": "d7f0a457",
   "metadata": {},
   "outputs": [],
   "source": [
    "from sktime.forecasting.model_selection import temporal_train_test_split"
   ]
  },
  {
   "cell_type": "code",
   "execution_count": 64,
   "id": "c63d101a",
   "metadata": {},
   "outputs": [],
   "source": [
    "itraxx_train, itraxx_test = temporal_train_test_split(itraxx['Itraxx Credit Spread'],test_size=0.2) # 20% des données en base de test  "
   ]
  },
  {
   "cell_type": "markdown",
   "id": "0d6d5317",
   "metadata": {},
   "source": [
    "Affichage des données splitées"
   ]
  },
  {
   "cell_type": "code",
   "execution_count": 65,
   "id": "42229715",
   "metadata": {},
   "outputs": [
    {
     "data": {
      "text/plain": [
       "(Timestamp\n",
       " 2015-01-02    240.53\n",
       " 2015-01-05    260.53\n",
       " 2015-01-06    272.03\n",
       " Name: Itraxx Credit Spread, dtype: float64,\n",
       " Timestamp\n",
       " 2021-09-17    161.75\n",
       " 2021-09-20    186.50\n",
       " 2021-09-21    183.75\n",
       " Name: Itraxx Credit Spread, dtype: float64)"
      ]
     },
     "execution_count": 65,
     "metadata": {},
     "output_type": "execute_result"
    }
   ],
   "source": [
    "itraxx_train.head(3), itraxx_test.head(3)"
   ]
  },
  {
   "cell_type": "markdown",
   "id": "aefa8566",
   "metadata": {},
   "source": [
    "Temps de passer à la modélisation ! Utilisons AutoArima de sktime pour voir comment il modélise les données."
   ]
  },
  {
   "cell_type": "code",
   "execution_count": 66,
   "id": "2442cd95",
   "metadata": {},
   "outputs": [],
   "source": [
    "from sktime.forecasting.arima import AutoARIMA"
   ]
  },
  {
   "cell_type": "code",
   "execution_count": 67,
   "id": "2a5ffcdb",
   "metadata": {},
   "outputs": [],
   "source": [
    "forecaster = AutoARIMA(sp=1)  # sp = 1 car pas de saisonnalité"
   ]
  },
  {
   "cell_type": "code",
   "execution_count": 68,
   "id": "b0460c49",
   "metadata": {},
   "outputs": [
    {
     "name": "stderr",
     "output_type": "stream",
     "text": [
      "/Users/nacersere/miniforge3/envs/mydeeplearningstation_env/lib/python3.9/site-packages/statsmodels/base/model.py:604: ConvergenceWarning: Maximum Likelihood optimization failed to converge. Check mle_retvals\n",
      "  warnings.warn(\"Maximum Likelihood optimization failed to \"\n",
      "/Users/nacersere/miniforge3/envs/mydeeplearningstation_env/lib/python3.9/site-packages/statsmodels/base/model.py:604: ConvergenceWarning: Maximum Likelihood optimization failed to converge. Check mle_retvals\n",
      "  warnings.warn(\"Maximum Likelihood optimization failed to \"\n",
      "/Users/nacersere/miniforge3/envs/mydeeplearningstation_env/lib/python3.9/site-packages/statsmodels/base/model.py:604: ConvergenceWarning: Maximum Likelihood optimization failed to converge. Check mle_retvals\n",
      "  warnings.warn(\"Maximum Likelihood optimization failed to \"\n"
     ]
    },
    {
     "data": {
      "text/plain": [
       "AutoARIMA()"
      ]
     },
     "execution_count": 68,
     "metadata": {},
     "output_type": "execute_result"
    }
   ],
   "source": [
    "forecaster.fit(itraxx_train)  # étape classique en python. On fit ! "
   ]
  },
  {
   "cell_type": "markdown",
   "id": "389f084a",
   "metadata": {},
   "source": [
    "Pour faire de la prédiction, il faut que l'on dispose des dates futures pour lesquelles le modèle va nous donner des observations. Autrement dit, on doit disposer de l'horizon de projection. \n",
    "\n",
    "Dans notre cas, notre horizon de projection correspond à la taille de la base de test puisque nous voulons comparer les performances du modèle sur la base de test.\n",
    "\n",
    "2 lignes de codes suffisent à les obtenir sur sktime."
   ]
  },
  {
   "cell_type": "code",
   "execution_count": 69,
   "id": "ebfb113e",
   "metadata": {},
   "outputs": [],
   "source": [
    "from sktime.forecasting.base import ForecastingHorizon  "
   ]
  },
  {
   "cell_type": "code",
   "execution_count": 70,
   "id": "effa4f30",
   "metadata": {},
   "outputs": [],
   "source": [
    "fh_abs = ForecastingHorizon(itraxx_test.index, is_relative=None, freq='B')  "
   ]
  },
  {
   "cell_type": "markdown",
   "id": "2d979d3d",
   "metadata": {},
   "source": [
    "On fait la prédiction de notre modèle "
   ]
  },
  {
   "cell_type": "code",
   "execution_count": 71,
   "id": "3306336a",
   "metadata": {},
   "outputs": [],
   "source": [
    "itraxx_preds = forecaster.predict(fh=fh_abs)"
   ]
  },
  {
   "cell_type": "markdown",
   "id": "af9d915a",
   "metadata": {},
   "source": [
    "On affiche les résultats sous forme de représentation graphique"
   ]
  },
  {
   "cell_type": "code",
   "execution_count": 72,
   "id": "6aa77988",
   "metadata": {},
   "outputs": [],
   "source": [
    "from sktime.utils.plotting import plot_series"
   ]
  },
  {
   "cell_type": "code",
   "execution_count": 73,
   "id": "fc4d8873",
   "metadata": {},
   "outputs": [
    {
     "data": {
      "image/png": "[encoded data removed]",
      "text/plain": [
       "<Figure size 1152x288 with 1 Axes>"
      ]
     },
     "metadata": {
      "needs_background": "light"
     },
     "output_type": "display_data"
    }
   ],
   "source": [
    "plot_series(itraxx_train,itraxx_test,itraxx_preds,labels=['Train','Test','Predictions'])\n",
    "plt.show()"
   ]
  },
  {
   "cell_type": "markdown",
   "id": "2b7e1330",
   "metadata": {},
   "source": [
    "On peut quantifier facilement les métriques de performances de notre modèle "
   ]
  },
  {
   "cell_type": "code",
   "execution_count": 74,
   "id": "2d92330a",
   "metadata": {},
   "outputs": [],
   "source": [
    "from sktime.performance_metrics.forecasting import mean_absolute_error, mean_squared_error, mean_absolute_percentage_error"
   ]
  },
  {
   "cell_type": "code",
   "execution_count": 75,
   "id": "428920dc",
   "metadata": {},
   "outputs": [
    {
     "data": {
      "text/plain": [
       "{'MAE': 193.77727563608536,\n",
       " 'MSE': 50115.656527866966,\n",
       " 'MAPE': 0.49234848007999116}"
      ]
     },
     "execution_count": 75,
     "metadata": {},
     "output_type": "execute_result"
    }
   ],
   "source": [
    "{'MAE':mean_absolute_error(itraxx_test,itraxx_preds),\n",
    "'MSE':mean_squared_error(itraxx_test,itraxx_preds),\n",
    "'MAPE':mean_absolute_percentage_error(itraxx_test,itraxx_preds)}"
   ]
  },
  {
   "cell_type": "markdown",
   "id": "70cea8d7",
   "metadata": {},
   "source": [
    "Ce que confirme que les modèles de type $ARIMA$ ne sont pas adaptés à la donnée. On a $\\sim$ $13$ lignes de code que l'on vient de tourner pour faire des analyses très complexes en quelques minutes. C'est là ou réside la force de sktime. Un framework unique.\n",
    "\n",
    "Ceci marque la fin de notre projet et conclut les analyses."
   ]
  },
  {
   "cell_type": "code",
   "execution_count": null,
   "id": "09e08add",
   "metadata": {},
   "outputs": [],
   "source": []
  }
 ],
 "metadata": {
  "kernelspec": {
   "display_name": "Python 3 (ipykernel)",
   "language": "python",
   "name": "python3"
  },
  "language_info": {
   "codemirror_mode": {
    "name": "ipython",
    "version": 3
   },
   "file_extension": ".py",
   "mimetype": "text/x-python",
   "name": "python",
   "nbconvert_exporter": "python",
   "pygments_lexer": "ipython3",
   "version": "3.9.12"
  }
 },
 "nbformat": 4,
 "nbformat_minor": 5
}
